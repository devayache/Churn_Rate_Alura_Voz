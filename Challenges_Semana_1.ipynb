{
  "nbformat": 4,
  "nbformat_minor": 0,
  "metadata": {
    "colab": {
      "name": "Challenges Semana 1.ipynb",
      "provenance": [],
      "collapsed_sections": [
        "toU_qVPMXltf",
        "pZ4cO_GdrKUv"
      ],
      "toc_visible": true,
      "authorship_tag": "ABX9TyPLKJamLhYzrae/E9b316hN",
      "include_colab_link": true
    },
    "kernelspec": {
      "name": "python3",
      "display_name": "Python 3"
    },
    "language_info": {
      "name": "python"
    }
  },
  "cells": [
    {
      "cell_type": "markdown",
      "metadata": {
        "id": "view-in-github",
        "colab_type": "text"
      },
      "source": [
        "<a href=\"https://colab.research.google.com/github/devayache/Churn_Rate_Alura_Voz/blob/main/Challenges_Semana_1.ipynb\" target=\"_parent\"><img src=\"https://colab.research.google.com/assets/colab-badge.svg\" alt=\"Open In Colab\"/></a>"
      ]
    },
    {
      "cell_type": "markdown",
      "source": [
        "# Churn - Alura Voz \n",
        "<p>Em toda empresa a taxa de Churn é um problema, esta taxa mede a quantidade de clientes que deixaram a empresa, influenciando diretamente no lucro da empresa.</p>\n",
        "<p>Hoje em dia, com a quantidade de informações armazenadas é possível medir esta taxa e identificar os clientes em potencial que podem deixar a empresa.</p>\n",
        "\n",
        "<p>A  <font color='green'>Alura Voz</font> sendo uma empresa de telecomunicações, possui vários produtos, tais como internet e telefonia, sendo assim é preciso analisa quais tipos de produtos os consumidores estão usando e entender qual o comportamento dos clientes que se desligam da empresa.</p>\n",
        "\n",
        "\n"
      ],
      "metadata": {
        "id": "auGpJCBYv4fc"
      }
    },
    {
      "cell_type": "code",
      "execution_count": 1,
      "metadata": {
        "id": "0Q2LHR4aVFtH"
      },
      "outputs": [],
      "source": [
        "#importar o pandas\n",
        "import pandas as pd"
      ]
    },
    {
      "cell_type": "code",
      "source": [
        "pd.set_option('display.max_columns', 100)\n",
        "pd.set_option('display.max_colwidth', None)"
      ],
      "metadata": {
        "id": "GlPlLGEW5JLD"
      },
      "execution_count": 2,
      "outputs": []
    },
    {
      "cell_type": "markdown",
      "source": [
        "## Visão Geral"
      ],
      "metadata": {
        "id": "toU_qVPMXltf"
      }
    },
    {
      "cell_type": "code",
      "source": [
        "# Abir o aquivo (formato: Jason)\n",
        "clientes = pd.read_json('https://raw.githubusercontent.com/sthemonica/alura-voz/main/Dados/Telco-Customer-Churn.json')\n",
        "clientes.columns = ['ClienteID', 'Cancelamento', 'Informações', 'Telefone', 'Internet', 'Conta']\n",
        "clientes"
      ],
      "metadata": {
        "colab": {
          "base_uri": "https://localhost:8080/",
          "height": 815
        },
        "id": "YUmx7BYxVU0D",
        "outputId": "afbff31e-177c-43d7-84c9-f97b08ef2cb5"
      },
      "execution_count": 3,
      "outputs": [
        {
          "output_type": "execute_result",
          "data": {
            "text/plain": [
              "       ClienteID Cancelamento  \\\n",
              "0     0002-ORFBO           No   \n",
              "1     0003-MKNFE           No   \n",
              "2     0004-TLHLJ          Yes   \n",
              "3     0011-IGKFF          Yes   \n",
              "4     0013-EXCHZ          Yes   \n",
              "...          ...          ...   \n",
              "7262  9987-LUTYD           No   \n",
              "7263  9992-RRAMN          Yes   \n",
              "7264  9992-UJOEL           No   \n",
              "7265  9993-LHIEB           No   \n",
              "7266  9995-HOTOH           No   \n",
              "\n",
              "                                                                                       Informações  \\\n",
              "0     {'gender': 'Female', 'SeniorCitizen': 0, 'Partner': 'Yes', 'Dependents': 'Yes', 'tenure': 9}   \n",
              "1         {'gender': 'Male', 'SeniorCitizen': 0, 'Partner': 'No', 'Dependents': 'No', 'tenure': 9}   \n",
              "2         {'gender': 'Male', 'SeniorCitizen': 0, 'Partner': 'No', 'Dependents': 'No', 'tenure': 4}   \n",
              "3       {'gender': 'Male', 'SeniorCitizen': 1, 'Partner': 'Yes', 'Dependents': 'No', 'tenure': 13}   \n",
              "4      {'gender': 'Female', 'SeniorCitizen': 1, 'Partner': 'Yes', 'Dependents': 'No', 'tenure': 3}   \n",
              "...                                                                                            ...   \n",
              "7262   {'gender': 'Female', 'SeniorCitizen': 0, 'Partner': 'No', 'Dependents': 'No', 'tenure': 13}   \n",
              "7263    {'gender': 'Male', 'SeniorCitizen': 0, 'Partner': 'Yes', 'Dependents': 'No', 'tenure': 22}   \n",
              "7264      {'gender': 'Male', 'SeniorCitizen': 0, 'Partner': 'No', 'Dependents': 'No', 'tenure': 2}   \n",
              "7265   {'gender': 'Male', 'SeniorCitizen': 0, 'Partner': 'Yes', 'Dependents': 'Yes', 'tenure': 67}   \n",
              "7266   {'gender': 'Male', 'SeniorCitizen': 0, 'Partner': 'Yes', 'Dependents': 'Yes', 'tenure': 63}   \n",
              "\n",
              "                                                         Telefone  \\\n",
              "0                  {'PhoneService': 'Yes', 'MultipleLines': 'No'}   \n",
              "1                 {'PhoneService': 'Yes', 'MultipleLines': 'Yes'}   \n",
              "2                  {'PhoneService': 'Yes', 'MultipleLines': 'No'}   \n",
              "3                  {'PhoneService': 'Yes', 'MultipleLines': 'No'}   \n",
              "4                  {'PhoneService': 'Yes', 'MultipleLines': 'No'}   \n",
              "...                                                           ...   \n",
              "7262               {'PhoneService': 'Yes', 'MultipleLines': 'No'}   \n",
              "7263              {'PhoneService': 'Yes', 'MultipleLines': 'Yes'}   \n",
              "7264               {'PhoneService': 'Yes', 'MultipleLines': 'No'}   \n",
              "7265               {'PhoneService': 'Yes', 'MultipleLines': 'No'}   \n",
              "7266  {'PhoneService': 'No', 'MultipleLines': 'No phone service'}   \n",
              "\n",
              "                                                                                                                                                                               Internet  \\\n",
              "0              {'InternetService': 'DSL', 'OnlineSecurity': 'No', 'OnlineBackup': 'Yes', 'DeviceProtection': 'No', 'TechSupport': 'Yes', 'StreamingTV': 'Yes', 'StreamingMovies': 'No'}   \n",
              "1                {'InternetService': 'DSL', 'OnlineSecurity': 'No', 'OnlineBackup': 'No', 'DeviceProtection': 'No', 'TechSupport': 'No', 'StreamingTV': 'No', 'StreamingMovies': 'Yes'}   \n",
              "2        {'InternetService': 'Fiber optic', 'OnlineSecurity': 'No', 'OnlineBackup': 'No', 'DeviceProtection': 'Yes', 'TechSupport': 'No', 'StreamingTV': 'No', 'StreamingMovies': 'No'}   \n",
              "3     {'InternetService': 'Fiber optic', 'OnlineSecurity': 'No', 'OnlineBackup': 'Yes', 'DeviceProtection': 'Yes', 'TechSupport': 'No', 'StreamingTV': 'Yes', 'StreamingMovies': 'Yes'}   \n",
              "4       {'InternetService': 'Fiber optic', 'OnlineSecurity': 'No', 'OnlineBackup': 'No', 'DeviceProtection': 'No', 'TechSupport': 'Yes', 'StreamingTV': 'Yes', 'StreamingMovies': 'No'}   \n",
              "...                                                                                                                                                                                 ...   \n",
              "7262            {'InternetService': 'DSL', 'OnlineSecurity': 'Yes', 'OnlineBackup': 'No', 'DeviceProtection': 'No', 'TechSupport': 'Yes', 'StreamingTV': 'No', 'StreamingMovies': 'No'}   \n",
              "7263     {'InternetService': 'Fiber optic', 'OnlineSecurity': 'No', 'OnlineBackup': 'No', 'DeviceProtection': 'No', 'TechSupport': 'No', 'StreamingTV': 'No', 'StreamingMovies': 'Yes'}   \n",
              "7264             {'InternetService': 'DSL', 'OnlineSecurity': 'No', 'OnlineBackup': 'Yes', 'DeviceProtection': 'No', 'TechSupport': 'No', 'StreamingTV': 'No', 'StreamingMovies': 'No'}   \n",
              "7265          {'InternetService': 'DSL', 'OnlineSecurity': 'Yes', 'OnlineBackup': 'No', 'DeviceProtection': 'Yes', 'TechSupport': 'Yes', 'StreamingTV': 'No', 'StreamingMovies': 'Yes'}   \n",
              "7266         {'InternetService': 'DSL', 'OnlineSecurity': 'Yes', 'OnlineBackup': 'Yes', 'DeviceProtection': 'Yes', 'TechSupport': 'No', 'StreamingTV': 'Yes', 'StreamingMovies': 'Yes'}   \n",
              "\n",
              "                                                                                                                                                 Conta  \n",
              "0                 {'Contract': 'One year', 'PaperlessBilling': 'Yes', 'PaymentMethod': 'Mailed check', 'Charges': {'Monthly': 65.6, 'Total': '593.3'}}  \n",
              "1            {'Contract': 'Month-to-month', 'PaperlessBilling': 'No', 'PaymentMethod': 'Mailed check', 'Charges': {'Monthly': 59.9, 'Total': '542.4'}}  \n",
              "2      {'Contract': 'Month-to-month', 'PaperlessBilling': 'Yes', 'PaymentMethod': 'Electronic check', 'Charges': {'Monthly': 73.9, 'Total': '280.85'}}  \n",
              "3     {'Contract': 'Month-to-month', 'PaperlessBilling': 'Yes', 'PaymentMethod': 'Electronic check', 'Charges': {'Monthly': 98.0, 'Total': '1237.85'}}  \n",
              "4           {'Contract': 'Month-to-month', 'PaperlessBilling': 'Yes', 'PaymentMethod': 'Mailed check', 'Charges': {'Monthly': 83.9, 'Total': '267.4'}}  \n",
              "...                                                                                                                                                ...  \n",
              "7262              {'Contract': 'One year', 'PaperlessBilling': 'No', 'PaymentMethod': 'Mailed check', 'Charges': {'Monthly': 55.15, 'Total': '742.9'}}  \n",
              "7263   {'Contract': 'Month-to-month', 'PaperlessBilling': 'Yes', 'PaymentMethod': 'Electronic check', 'Charges': {'Monthly': 85.1, 'Total': '1873.7'}}  \n",
              "7264        {'Contract': 'Month-to-month', 'PaperlessBilling': 'Yes', 'PaymentMethod': 'Mailed check', 'Charges': {'Monthly': 50.3, 'Total': '92.75'}}  \n",
              "7265            {'Contract': 'Two year', 'PaperlessBilling': 'No', 'PaymentMethod': 'Mailed check', 'Charges': {'Monthly': 67.85, 'Total': '4627.65'}}  \n",
              "7266          {'Contract': 'Two year', 'PaperlessBilling': 'No', 'PaymentMethod': 'Electronic check', 'Charges': {'Monthly': 59.0, 'Total': '3707.6'}}  \n",
              "\n",
              "[7267 rows x 6 columns]"
            ],
            "text/html": [
              "\n",
              "  <div id=\"df-8614c214-55d2-48f6-ac84-dead0867350d\">\n",
              "    <div class=\"colab-df-container\">\n",
              "      <div>\n",
              "<style scoped>\n",
              "    .dataframe tbody tr th:only-of-type {\n",
              "        vertical-align: middle;\n",
              "    }\n",
              "\n",
              "    .dataframe tbody tr th {\n",
              "        vertical-align: top;\n",
              "    }\n",
              "\n",
              "    .dataframe thead th {\n",
              "        text-align: right;\n",
              "    }\n",
              "</style>\n",
              "<table border=\"1\" class=\"dataframe\">\n",
              "  <thead>\n",
              "    <tr style=\"text-align: right;\">\n",
              "      <th></th>\n",
              "      <th>ClienteID</th>\n",
              "      <th>Cancelamento</th>\n",
              "      <th>Informações</th>\n",
              "      <th>Telefone</th>\n",
              "      <th>Internet</th>\n",
              "      <th>Conta</th>\n",
              "    </tr>\n",
              "  </thead>\n",
              "  <tbody>\n",
              "    <tr>\n",
              "      <th>0</th>\n",
              "      <td>0002-ORFBO</td>\n",
              "      <td>No</td>\n",
              "      <td>{'gender': 'Female', 'SeniorCitizen': 0, 'Partner': 'Yes', 'Dependents': 'Yes', 'tenure': 9}</td>\n",
              "      <td>{'PhoneService': 'Yes', 'MultipleLines': 'No'}</td>\n",
              "      <td>{'InternetService': 'DSL', 'OnlineSecurity': 'No', 'OnlineBackup': 'Yes', 'DeviceProtection': 'No', 'TechSupport': 'Yes', 'StreamingTV': 'Yes', 'StreamingMovies': 'No'}</td>\n",
              "      <td>{'Contract': 'One year', 'PaperlessBilling': 'Yes', 'PaymentMethod': 'Mailed check', 'Charges': {'Monthly': 65.6, 'Total': '593.3'}}</td>\n",
              "    </tr>\n",
              "    <tr>\n",
              "      <th>1</th>\n",
              "      <td>0003-MKNFE</td>\n",
              "      <td>No</td>\n",
              "      <td>{'gender': 'Male', 'SeniorCitizen': 0, 'Partner': 'No', 'Dependents': 'No', 'tenure': 9}</td>\n",
              "      <td>{'PhoneService': 'Yes', 'MultipleLines': 'Yes'}</td>\n",
              "      <td>{'InternetService': 'DSL', 'OnlineSecurity': 'No', 'OnlineBackup': 'No', 'DeviceProtection': 'No', 'TechSupport': 'No', 'StreamingTV': 'No', 'StreamingMovies': 'Yes'}</td>\n",
              "      <td>{'Contract': 'Month-to-month', 'PaperlessBilling': 'No', 'PaymentMethod': 'Mailed check', 'Charges': {'Monthly': 59.9, 'Total': '542.4'}}</td>\n",
              "    </tr>\n",
              "    <tr>\n",
              "      <th>2</th>\n",
              "      <td>0004-TLHLJ</td>\n",
              "      <td>Yes</td>\n",
              "      <td>{'gender': 'Male', 'SeniorCitizen': 0, 'Partner': 'No', 'Dependents': 'No', 'tenure': 4}</td>\n",
              "      <td>{'PhoneService': 'Yes', 'MultipleLines': 'No'}</td>\n",
              "      <td>{'InternetService': 'Fiber optic', 'OnlineSecurity': 'No', 'OnlineBackup': 'No', 'DeviceProtection': 'Yes', 'TechSupport': 'No', 'StreamingTV': 'No', 'StreamingMovies': 'No'}</td>\n",
              "      <td>{'Contract': 'Month-to-month', 'PaperlessBilling': 'Yes', 'PaymentMethod': 'Electronic check', 'Charges': {'Monthly': 73.9, 'Total': '280.85'}}</td>\n",
              "    </tr>\n",
              "    <tr>\n",
              "      <th>3</th>\n",
              "      <td>0011-IGKFF</td>\n",
              "      <td>Yes</td>\n",
              "      <td>{'gender': 'Male', 'SeniorCitizen': 1, 'Partner': 'Yes', 'Dependents': 'No', 'tenure': 13}</td>\n",
              "      <td>{'PhoneService': 'Yes', 'MultipleLines': 'No'}</td>\n",
              "      <td>{'InternetService': 'Fiber optic', 'OnlineSecurity': 'No', 'OnlineBackup': 'Yes', 'DeviceProtection': 'Yes', 'TechSupport': 'No', 'StreamingTV': 'Yes', 'StreamingMovies': 'Yes'}</td>\n",
              "      <td>{'Contract': 'Month-to-month', 'PaperlessBilling': 'Yes', 'PaymentMethod': 'Electronic check', 'Charges': {'Monthly': 98.0, 'Total': '1237.85'}}</td>\n",
              "    </tr>\n",
              "    <tr>\n",
              "      <th>4</th>\n",
              "      <td>0013-EXCHZ</td>\n",
              "      <td>Yes</td>\n",
              "      <td>{'gender': 'Female', 'SeniorCitizen': 1, 'Partner': 'Yes', 'Dependents': 'No', 'tenure': 3}</td>\n",
              "      <td>{'PhoneService': 'Yes', 'MultipleLines': 'No'}</td>\n",
              "      <td>{'InternetService': 'Fiber optic', 'OnlineSecurity': 'No', 'OnlineBackup': 'No', 'DeviceProtection': 'No', 'TechSupport': 'Yes', 'StreamingTV': 'Yes', 'StreamingMovies': 'No'}</td>\n",
              "      <td>{'Contract': 'Month-to-month', 'PaperlessBilling': 'Yes', 'PaymentMethod': 'Mailed check', 'Charges': {'Monthly': 83.9, 'Total': '267.4'}}</td>\n",
              "    </tr>\n",
              "    <tr>\n",
              "      <th>...</th>\n",
              "      <td>...</td>\n",
              "      <td>...</td>\n",
              "      <td>...</td>\n",
              "      <td>...</td>\n",
              "      <td>...</td>\n",
              "      <td>...</td>\n",
              "    </tr>\n",
              "    <tr>\n",
              "      <th>7262</th>\n",
              "      <td>9987-LUTYD</td>\n",
              "      <td>No</td>\n",
              "      <td>{'gender': 'Female', 'SeniorCitizen': 0, 'Partner': 'No', 'Dependents': 'No', 'tenure': 13}</td>\n",
              "      <td>{'PhoneService': 'Yes', 'MultipleLines': 'No'}</td>\n",
              "      <td>{'InternetService': 'DSL', 'OnlineSecurity': 'Yes', 'OnlineBackup': 'No', 'DeviceProtection': 'No', 'TechSupport': 'Yes', 'StreamingTV': 'No', 'StreamingMovies': 'No'}</td>\n",
              "      <td>{'Contract': 'One year', 'PaperlessBilling': 'No', 'PaymentMethod': 'Mailed check', 'Charges': {'Monthly': 55.15, 'Total': '742.9'}}</td>\n",
              "    </tr>\n",
              "    <tr>\n",
              "      <th>7263</th>\n",
              "      <td>9992-RRAMN</td>\n",
              "      <td>Yes</td>\n",
              "      <td>{'gender': 'Male', 'SeniorCitizen': 0, 'Partner': 'Yes', 'Dependents': 'No', 'tenure': 22}</td>\n",
              "      <td>{'PhoneService': 'Yes', 'MultipleLines': 'Yes'}</td>\n",
              "      <td>{'InternetService': 'Fiber optic', 'OnlineSecurity': 'No', 'OnlineBackup': 'No', 'DeviceProtection': 'No', 'TechSupport': 'No', 'StreamingTV': 'No', 'StreamingMovies': 'Yes'}</td>\n",
              "      <td>{'Contract': 'Month-to-month', 'PaperlessBilling': 'Yes', 'PaymentMethod': 'Electronic check', 'Charges': {'Monthly': 85.1, 'Total': '1873.7'}}</td>\n",
              "    </tr>\n",
              "    <tr>\n",
              "      <th>7264</th>\n",
              "      <td>9992-UJOEL</td>\n",
              "      <td>No</td>\n",
              "      <td>{'gender': 'Male', 'SeniorCitizen': 0, 'Partner': 'No', 'Dependents': 'No', 'tenure': 2}</td>\n",
              "      <td>{'PhoneService': 'Yes', 'MultipleLines': 'No'}</td>\n",
              "      <td>{'InternetService': 'DSL', 'OnlineSecurity': 'No', 'OnlineBackup': 'Yes', 'DeviceProtection': 'No', 'TechSupport': 'No', 'StreamingTV': 'No', 'StreamingMovies': 'No'}</td>\n",
              "      <td>{'Contract': 'Month-to-month', 'PaperlessBilling': 'Yes', 'PaymentMethod': 'Mailed check', 'Charges': {'Monthly': 50.3, 'Total': '92.75'}}</td>\n",
              "    </tr>\n",
              "    <tr>\n",
              "      <th>7265</th>\n",
              "      <td>9993-LHIEB</td>\n",
              "      <td>No</td>\n",
              "      <td>{'gender': 'Male', 'SeniorCitizen': 0, 'Partner': 'Yes', 'Dependents': 'Yes', 'tenure': 67}</td>\n",
              "      <td>{'PhoneService': 'Yes', 'MultipleLines': 'No'}</td>\n",
              "      <td>{'InternetService': 'DSL', 'OnlineSecurity': 'Yes', 'OnlineBackup': 'No', 'DeviceProtection': 'Yes', 'TechSupport': 'Yes', 'StreamingTV': 'No', 'StreamingMovies': 'Yes'}</td>\n",
              "      <td>{'Contract': 'Two year', 'PaperlessBilling': 'No', 'PaymentMethod': 'Mailed check', 'Charges': {'Monthly': 67.85, 'Total': '4627.65'}}</td>\n",
              "    </tr>\n",
              "    <tr>\n",
              "      <th>7266</th>\n",
              "      <td>9995-HOTOH</td>\n",
              "      <td>No</td>\n",
              "      <td>{'gender': 'Male', 'SeniorCitizen': 0, 'Partner': 'Yes', 'Dependents': 'Yes', 'tenure': 63}</td>\n",
              "      <td>{'PhoneService': 'No', 'MultipleLines': 'No phone service'}</td>\n",
              "      <td>{'InternetService': 'DSL', 'OnlineSecurity': 'Yes', 'OnlineBackup': 'Yes', 'DeviceProtection': 'Yes', 'TechSupport': 'No', 'StreamingTV': 'Yes', 'StreamingMovies': 'Yes'}</td>\n",
              "      <td>{'Contract': 'Two year', 'PaperlessBilling': 'No', 'PaymentMethod': 'Electronic check', 'Charges': {'Monthly': 59.0, 'Total': '3707.6'}}</td>\n",
              "    </tr>\n",
              "  </tbody>\n",
              "</table>\n",
              "<p>7267 rows × 6 columns</p>\n",
              "</div>\n",
              "      <button class=\"colab-df-convert\" onclick=\"convertToInteractive('df-8614c214-55d2-48f6-ac84-dead0867350d')\"\n",
              "              title=\"Convert this dataframe to an interactive table.\"\n",
              "              style=\"display:none;\">\n",
              "        \n",
              "  <svg xmlns=\"http://www.w3.org/2000/svg\" height=\"24px\"viewBox=\"0 0 24 24\"\n",
              "       width=\"24px\">\n",
              "    <path d=\"M0 0h24v24H0V0z\" fill=\"none\"/>\n",
              "    <path d=\"M18.56 5.44l.94 2.06.94-2.06 2.06-.94-2.06-.94-.94-2.06-.94 2.06-2.06.94zm-11 1L8.5 8.5l.94-2.06 2.06-.94-2.06-.94L8.5 2.5l-.94 2.06-2.06.94zm10 10l.94 2.06.94-2.06 2.06-.94-2.06-.94-.94-2.06-.94 2.06-2.06.94z\"/><path d=\"M17.41 7.96l-1.37-1.37c-.4-.4-.92-.59-1.43-.59-.52 0-1.04.2-1.43.59L10.3 9.45l-7.72 7.72c-.78.78-.78 2.05 0 2.83L4 21.41c.39.39.9.59 1.41.59.51 0 1.02-.2 1.41-.59l7.78-7.78 2.81-2.81c.8-.78.8-2.07 0-2.86zM5.41 20L4 18.59l7.72-7.72 1.47 1.35L5.41 20z\"/>\n",
              "  </svg>\n",
              "      </button>\n",
              "      \n",
              "  <style>\n",
              "    .colab-df-container {\n",
              "      display:flex;\n",
              "      flex-wrap:wrap;\n",
              "      gap: 12px;\n",
              "    }\n",
              "\n",
              "    .colab-df-convert {\n",
              "      background-color: #E8F0FE;\n",
              "      border: none;\n",
              "      border-radius: 50%;\n",
              "      cursor: pointer;\n",
              "      display: none;\n",
              "      fill: #1967D2;\n",
              "      height: 32px;\n",
              "      padding: 0 0 0 0;\n",
              "      width: 32px;\n",
              "    }\n",
              "\n",
              "    .colab-df-convert:hover {\n",
              "      background-color: #E2EBFA;\n",
              "      box-shadow: 0px 1px 2px rgba(60, 64, 67, 0.3), 0px 1px 3px 1px rgba(60, 64, 67, 0.15);\n",
              "      fill: #174EA6;\n",
              "    }\n",
              "\n",
              "    [theme=dark] .colab-df-convert {\n",
              "      background-color: #3B4455;\n",
              "      fill: #D2E3FC;\n",
              "    }\n",
              "\n",
              "    [theme=dark] .colab-df-convert:hover {\n",
              "      background-color: #434B5C;\n",
              "      box-shadow: 0px 1px 3px 1px rgba(0, 0, 0, 0.15);\n",
              "      filter: drop-shadow(0px 1px 2px rgba(0, 0, 0, 0.3));\n",
              "      fill: #FFFFFF;\n",
              "    }\n",
              "  </style>\n",
              "\n",
              "      <script>\n",
              "        const buttonEl =\n",
              "          document.querySelector('#df-8614c214-55d2-48f6-ac84-dead0867350d button.colab-df-convert');\n",
              "        buttonEl.style.display =\n",
              "          google.colab.kernel.accessAllowed ? 'block' : 'none';\n",
              "\n",
              "        async function convertToInteractive(key) {\n",
              "          const element = document.querySelector('#df-8614c214-55d2-48f6-ac84-dead0867350d');\n",
              "          const dataTable =\n",
              "            await google.colab.kernel.invokeFunction('convertToInteractive',\n",
              "                                                     [key], {});\n",
              "          if (!dataTable) return;\n",
              "\n",
              "          const docLinkHtml = 'Like what you see? Visit the ' +\n",
              "            '<a target=\"_blank\" href=https://colab.research.google.com/notebooks/data_table.ipynb>data table notebook</a>'\n",
              "            + ' to learn more about interactive tables.';\n",
              "          element.innerHTML = '';\n",
              "          dataTable['output_type'] = 'display_data';\n",
              "          await google.colab.output.renderOutput(dataTable, element);\n",
              "          const docLink = document.createElement('div');\n",
              "          docLink.innerHTML = docLinkHtml;\n",
              "          element.appendChild(docLink);\n",
              "        }\n",
              "      </script>\n",
              "    </div>\n",
              "  </div>\n",
              "  "
            ]
          },
          "metadata": {},
          "execution_count": 3
        }
      ]
    },
    {
      "cell_type": "code",
      "source": [
        "print(f'É possível observar que existem um total de {clientes.shape[0]} clientes nesta tabela')"
      ],
      "metadata": {
        "colab": {
          "base_uri": "https://localhost:8080/"
        },
        "id": "lXVZdMabtjkn",
        "outputId": "6fde7241-79a1-4b5a-8965-951d33d34fab"
      },
      "execution_count": 4,
      "outputs": [
        {
          "output_type": "stream",
          "name": "stdout",
          "text": [
            "É possível observar que existem um total de 7267 clientes nesta tabela\n"
          ]
        }
      ]
    },
    {
      "cell_type": "markdown",
      "source": [
        "Ao olhar a tabela a primeira vez podemos ver que ela possui várias categorias, cada uma dessas categorias traz informações sobre os clientes, sendo assim, inicialmente, será analisado separadamente cada uma dessas categorias."
      ],
      "metadata": {
        "id": "n9oor-lPcDkL"
      }
    },
    {
      "cell_type": "code",
      "source": [
        "#Backup para caso haja necessidade do uso da tabela original\n",
        "clientes_backup = clientes.copy()"
      ],
      "metadata": {
        "id": "lcAULiWECM0U"
      },
      "execution_count": 5,
      "outputs": []
    },
    {
      "cell_type": "markdown",
      "source": [
        "## Normalizando as colunas\n"
      ],
      "metadata": {
        "id": "dtzzvAMe8ur7"
      }
    },
    {
      "cell_type": "markdown",
      "source": [
        "### Coluna: Informações\n",
        "\n",
        "---\n",
        "\n"
      ],
      "metadata": {
        "id": "GOXRwdMUXC-T"
      }
    },
    {
      "cell_type": "code",
      "source": [
        "clientes_informacoes = pd.json_normalize(data = clientes['Informações'])\n",
        "#aproveitando para traduzir o nome das colunas \n",
        "clientes_informacoes.rename(columns = {\n",
        "    'gender': 'Gênero', \n",
        "    'SeniorCitizen': 'Idoso', \n",
        "    'Partner': 'Cônjuge',\n",
        "    'Dependents': 'Dependentes',\n",
        "    'tenure': 'Tempo de Cliente'\n",
        "    }, inplace=True)\n",
        "clientes_informacoes.columns.name = 'Id'\n",
        "clientes_informacoes"
      ],
      "metadata": {
        "id": "_we5oF11xW6t",
        "colab": {
          "base_uri": "https://localhost:8080/",
          "height": 424
        },
        "outputId": "c4cdf015-e2cf-4d4c-e407-421b05a9fa3d"
      },
      "execution_count": 6,
      "outputs": [
        {
          "output_type": "execute_result",
          "data": {
            "text/plain": [
              "Id    Gênero  Idoso Cônjuge Dependentes  Tempo de Cliente\n",
              "0     Female      0     Yes         Yes                 9\n",
              "1       Male      0      No          No                 9\n",
              "2       Male      0      No          No                 4\n",
              "3       Male      1     Yes          No                13\n",
              "4     Female      1     Yes          No                 3\n",
              "...      ...    ...     ...         ...               ...\n",
              "7262  Female      0      No          No                13\n",
              "7263    Male      0     Yes          No                22\n",
              "7264    Male      0      No          No                 2\n",
              "7265    Male      0     Yes         Yes                67\n",
              "7266    Male      0     Yes         Yes                63\n",
              "\n",
              "[7267 rows x 5 columns]"
            ],
            "text/html": [
              "\n",
              "  <div id=\"df-90355b56-9fa0-4f4e-b75f-a5de5e26f163\">\n",
              "    <div class=\"colab-df-container\">\n",
              "      <div>\n",
              "<style scoped>\n",
              "    .dataframe tbody tr th:only-of-type {\n",
              "        vertical-align: middle;\n",
              "    }\n",
              "\n",
              "    .dataframe tbody tr th {\n",
              "        vertical-align: top;\n",
              "    }\n",
              "\n",
              "    .dataframe thead th {\n",
              "        text-align: right;\n",
              "    }\n",
              "</style>\n",
              "<table border=\"1\" class=\"dataframe\">\n",
              "  <thead>\n",
              "    <tr style=\"text-align: right;\">\n",
              "      <th>Id</th>\n",
              "      <th>Gênero</th>\n",
              "      <th>Idoso</th>\n",
              "      <th>Cônjuge</th>\n",
              "      <th>Dependentes</th>\n",
              "      <th>Tempo de Cliente</th>\n",
              "    </tr>\n",
              "  </thead>\n",
              "  <tbody>\n",
              "    <tr>\n",
              "      <th>0</th>\n",
              "      <td>Female</td>\n",
              "      <td>0</td>\n",
              "      <td>Yes</td>\n",
              "      <td>Yes</td>\n",
              "      <td>9</td>\n",
              "    </tr>\n",
              "    <tr>\n",
              "      <th>1</th>\n",
              "      <td>Male</td>\n",
              "      <td>0</td>\n",
              "      <td>No</td>\n",
              "      <td>No</td>\n",
              "      <td>9</td>\n",
              "    </tr>\n",
              "    <tr>\n",
              "      <th>2</th>\n",
              "      <td>Male</td>\n",
              "      <td>0</td>\n",
              "      <td>No</td>\n",
              "      <td>No</td>\n",
              "      <td>4</td>\n",
              "    </tr>\n",
              "    <tr>\n",
              "      <th>3</th>\n",
              "      <td>Male</td>\n",
              "      <td>1</td>\n",
              "      <td>Yes</td>\n",
              "      <td>No</td>\n",
              "      <td>13</td>\n",
              "    </tr>\n",
              "    <tr>\n",
              "      <th>4</th>\n",
              "      <td>Female</td>\n",
              "      <td>1</td>\n",
              "      <td>Yes</td>\n",
              "      <td>No</td>\n",
              "      <td>3</td>\n",
              "    </tr>\n",
              "    <tr>\n",
              "      <th>...</th>\n",
              "      <td>...</td>\n",
              "      <td>...</td>\n",
              "      <td>...</td>\n",
              "      <td>...</td>\n",
              "      <td>...</td>\n",
              "    </tr>\n",
              "    <tr>\n",
              "      <th>7262</th>\n",
              "      <td>Female</td>\n",
              "      <td>0</td>\n",
              "      <td>No</td>\n",
              "      <td>No</td>\n",
              "      <td>13</td>\n",
              "    </tr>\n",
              "    <tr>\n",
              "      <th>7263</th>\n",
              "      <td>Male</td>\n",
              "      <td>0</td>\n",
              "      <td>Yes</td>\n",
              "      <td>No</td>\n",
              "      <td>22</td>\n",
              "    </tr>\n",
              "    <tr>\n",
              "      <th>7264</th>\n",
              "      <td>Male</td>\n",
              "      <td>0</td>\n",
              "      <td>No</td>\n",
              "      <td>No</td>\n",
              "      <td>2</td>\n",
              "    </tr>\n",
              "    <tr>\n",
              "      <th>7265</th>\n",
              "      <td>Male</td>\n",
              "      <td>0</td>\n",
              "      <td>Yes</td>\n",
              "      <td>Yes</td>\n",
              "      <td>67</td>\n",
              "    </tr>\n",
              "    <tr>\n",
              "      <th>7266</th>\n",
              "      <td>Male</td>\n",
              "      <td>0</td>\n",
              "      <td>Yes</td>\n",
              "      <td>Yes</td>\n",
              "      <td>63</td>\n",
              "    </tr>\n",
              "  </tbody>\n",
              "</table>\n",
              "<p>7267 rows × 5 columns</p>\n",
              "</div>\n",
              "      <button class=\"colab-df-convert\" onclick=\"convertToInteractive('df-90355b56-9fa0-4f4e-b75f-a5de5e26f163')\"\n",
              "              title=\"Convert this dataframe to an interactive table.\"\n",
              "              style=\"display:none;\">\n",
              "        \n",
              "  <svg xmlns=\"http://www.w3.org/2000/svg\" height=\"24px\"viewBox=\"0 0 24 24\"\n",
              "       width=\"24px\">\n",
              "    <path d=\"M0 0h24v24H0V0z\" fill=\"none\"/>\n",
              "    <path d=\"M18.56 5.44l.94 2.06.94-2.06 2.06-.94-2.06-.94-.94-2.06-.94 2.06-2.06.94zm-11 1L8.5 8.5l.94-2.06 2.06-.94-2.06-.94L8.5 2.5l-.94 2.06-2.06.94zm10 10l.94 2.06.94-2.06 2.06-.94-2.06-.94-.94-2.06-.94 2.06-2.06.94z\"/><path d=\"M17.41 7.96l-1.37-1.37c-.4-.4-.92-.59-1.43-.59-.52 0-1.04.2-1.43.59L10.3 9.45l-7.72 7.72c-.78.78-.78 2.05 0 2.83L4 21.41c.39.39.9.59 1.41.59.51 0 1.02-.2 1.41-.59l7.78-7.78 2.81-2.81c.8-.78.8-2.07 0-2.86zM5.41 20L4 18.59l7.72-7.72 1.47 1.35L5.41 20z\"/>\n",
              "  </svg>\n",
              "      </button>\n",
              "      \n",
              "  <style>\n",
              "    .colab-df-container {\n",
              "      display:flex;\n",
              "      flex-wrap:wrap;\n",
              "      gap: 12px;\n",
              "    }\n",
              "\n",
              "    .colab-df-convert {\n",
              "      background-color: #E8F0FE;\n",
              "      border: none;\n",
              "      border-radius: 50%;\n",
              "      cursor: pointer;\n",
              "      display: none;\n",
              "      fill: #1967D2;\n",
              "      height: 32px;\n",
              "      padding: 0 0 0 0;\n",
              "      width: 32px;\n",
              "    }\n",
              "\n",
              "    .colab-df-convert:hover {\n",
              "      background-color: #E2EBFA;\n",
              "      box-shadow: 0px 1px 2px rgba(60, 64, 67, 0.3), 0px 1px 3px 1px rgba(60, 64, 67, 0.15);\n",
              "      fill: #174EA6;\n",
              "    }\n",
              "\n",
              "    [theme=dark] .colab-df-convert {\n",
              "      background-color: #3B4455;\n",
              "      fill: #D2E3FC;\n",
              "    }\n",
              "\n",
              "    [theme=dark] .colab-df-convert:hover {\n",
              "      background-color: #434B5C;\n",
              "      box-shadow: 0px 1px 3px 1px rgba(0, 0, 0, 0.15);\n",
              "      filter: drop-shadow(0px 1px 2px rgba(0, 0, 0, 0.3));\n",
              "      fill: #FFFFFF;\n",
              "    }\n",
              "  </style>\n",
              "\n",
              "      <script>\n",
              "        const buttonEl =\n",
              "          document.querySelector('#df-90355b56-9fa0-4f4e-b75f-a5de5e26f163 button.colab-df-convert');\n",
              "        buttonEl.style.display =\n",
              "          google.colab.kernel.accessAllowed ? 'block' : 'none';\n",
              "\n",
              "        async function convertToInteractive(key) {\n",
              "          const element = document.querySelector('#df-90355b56-9fa0-4f4e-b75f-a5de5e26f163');\n",
              "          const dataTable =\n",
              "            await google.colab.kernel.invokeFunction('convertToInteractive',\n",
              "                                                     [key], {});\n",
              "          if (!dataTable) return;\n",
              "\n",
              "          const docLinkHtml = 'Like what you see? Visit the ' +\n",
              "            '<a target=\"_blank\" href=https://colab.research.google.com/notebooks/data_table.ipynb>data table notebook</a>'\n",
              "            + ' to learn more about interactive tables.';\n",
              "          element.innerHTML = '';\n",
              "          dataTable['output_type'] = 'display_data';\n",
              "          await google.colab.output.renderOutput(dataTable, element);\n",
              "          const docLink = document.createElement('div');\n",
              "          docLink.innerHTML = docLinkHtml;\n",
              "          element.appendChild(docLink);\n",
              "        }\n",
              "      </script>\n",
              "    </div>\n",
              "  </div>\n",
              "  "
            ]
          },
          "metadata": {},
          "execution_count": 6
        }
      ]
    },
    {
      "cell_type": "markdown",
      "source": [
        "### Coluna: Telefone\n",
        "\n",
        "\n",
        "\n",
        "---\n",
        "\n"
      ],
      "metadata": {
        "id": "tofoBFkx-tl_"
      }
    },
    {
      "cell_type": "code",
      "source": [
        "clientes_telefone = pd.json_normalize(data = clientes['Telefone'])\n",
        "#aproveitando para traduzir o nome das colunas \n",
        "clientes_telefone.rename(columns = {\n",
        "    'MultipleLines': 'Múltiplas Linhas', \n",
        "    'PhoneService': 'Telefone', \n",
        "    }, inplace=True)\n",
        "clientes_telefone.columns.name = 'Id'\n",
        "clientes_telefone"
      ],
      "metadata": {
        "id": "2DFgPZFE7Gbu",
        "colab": {
          "base_uri": "https://localhost:8080/",
          "height": 424
        },
        "outputId": "51f2dc56-6ec4-487a-f7fe-bed59d1c89fe"
      },
      "execution_count": 7,
      "outputs": [
        {
          "output_type": "execute_result",
          "data": {
            "text/plain": [
              "Id   Telefone  Múltiplas Linhas\n",
              "0         Yes                No\n",
              "1         Yes               Yes\n",
              "2         Yes                No\n",
              "3         Yes                No\n",
              "4         Yes                No\n",
              "...       ...               ...\n",
              "7262      Yes                No\n",
              "7263      Yes               Yes\n",
              "7264      Yes                No\n",
              "7265      Yes                No\n",
              "7266       No  No phone service\n",
              "\n",
              "[7267 rows x 2 columns]"
            ],
            "text/html": [
              "\n",
              "  <div id=\"df-9309f755-1b4e-428b-adea-61620f48d540\">\n",
              "    <div class=\"colab-df-container\">\n",
              "      <div>\n",
              "<style scoped>\n",
              "    .dataframe tbody tr th:only-of-type {\n",
              "        vertical-align: middle;\n",
              "    }\n",
              "\n",
              "    .dataframe tbody tr th {\n",
              "        vertical-align: top;\n",
              "    }\n",
              "\n",
              "    .dataframe thead th {\n",
              "        text-align: right;\n",
              "    }\n",
              "</style>\n",
              "<table border=\"1\" class=\"dataframe\">\n",
              "  <thead>\n",
              "    <tr style=\"text-align: right;\">\n",
              "      <th>Id</th>\n",
              "      <th>Telefone</th>\n",
              "      <th>Múltiplas Linhas</th>\n",
              "    </tr>\n",
              "  </thead>\n",
              "  <tbody>\n",
              "    <tr>\n",
              "      <th>0</th>\n",
              "      <td>Yes</td>\n",
              "      <td>No</td>\n",
              "    </tr>\n",
              "    <tr>\n",
              "      <th>1</th>\n",
              "      <td>Yes</td>\n",
              "      <td>Yes</td>\n",
              "    </tr>\n",
              "    <tr>\n",
              "      <th>2</th>\n",
              "      <td>Yes</td>\n",
              "      <td>No</td>\n",
              "    </tr>\n",
              "    <tr>\n",
              "      <th>3</th>\n",
              "      <td>Yes</td>\n",
              "      <td>No</td>\n",
              "    </tr>\n",
              "    <tr>\n",
              "      <th>4</th>\n",
              "      <td>Yes</td>\n",
              "      <td>No</td>\n",
              "    </tr>\n",
              "    <tr>\n",
              "      <th>...</th>\n",
              "      <td>...</td>\n",
              "      <td>...</td>\n",
              "    </tr>\n",
              "    <tr>\n",
              "      <th>7262</th>\n",
              "      <td>Yes</td>\n",
              "      <td>No</td>\n",
              "    </tr>\n",
              "    <tr>\n",
              "      <th>7263</th>\n",
              "      <td>Yes</td>\n",
              "      <td>Yes</td>\n",
              "    </tr>\n",
              "    <tr>\n",
              "      <th>7264</th>\n",
              "      <td>Yes</td>\n",
              "      <td>No</td>\n",
              "    </tr>\n",
              "    <tr>\n",
              "      <th>7265</th>\n",
              "      <td>Yes</td>\n",
              "      <td>No</td>\n",
              "    </tr>\n",
              "    <tr>\n",
              "      <th>7266</th>\n",
              "      <td>No</td>\n",
              "      <td>No phone service</td>\n",
              "    </tr>\n",
              "  </tbody>\n",
              "</table>\n",
              "<p>7267 rows × 2 columns</p>\n",
              "</div>\n",
              "      <button class=\"colab-df-convert\" onclick=\"convertToInteractive('df-9309f755-1b4e-428b-adea-61620f48d540')\"\n",
              "              title=\"Convert this dataframe to an interactive table.\"\n",
              "              style=\"display:none;\">\n",
              "        \n",
              "  <svg xmlns=\"http://www.w3.org/2000/svg\" height=\"24px\"viewBox=\"0 0 24 24\"\n",
              "       width=\"24px\">\n",
              "    <path d=\"M0 0h24v24H0V0z\" fill=\"none\"/>\n",
              "    <path d=\"M18.56 5.44l.94 2.06.94-2.06 2.06-.94-2.06-.94-.94-2.06-.94 2.06-2.06.94zm-11 1L8.5 8.5l.94-2.06 2.06-.94-2.06-.94L8.5 2.5l-.94 2.06-2.06.94zm10 10l.94 2.06.94-2.06 2.06-.94-2.06-.94-.94-2.06-.94 2.06-2.06.94z\"/><path d=\"M17.41 7.96l-1.37-1.37c-.4-.4-.92-.59-1.43-.59-.52 0-1.04.2-1.43.59L10.3 9.45l-7.72 7.72c-.78.78-.78 2.05 0 2.83L4 21.41c.39.39.9.59 1.41.59.51 0 1.02-.2 1.41-.59l7.78-7.78 2.81-2.81c.8-.78.8-2.07 0-2.86zM5.41 20L4 18.59l7.72-7.72 1.47 1.35L5.41 20z\"/>\n",
              "  </svg>\n",
              "      </button>\n",
              "      \n",
              "  <style>\n",
              "    .colab-df-container {\n",
              "      display:flex;\n",
              "      flex-wrap:wrap;\n",
              "      gap: 12px;\n",
              "    }\n",
              "\n",
              "    .colab-df-convert {\n",
              "      background-color: #E8F0FE;\n",
              "      border: none;\n",
              "      border-radius: 50%;\n",
              "      cursor: pointer;\n",
              "      display: none;\n",
              "      fill: #1967D2;\n",
              "      height: 32px;\n",
              "      padding: 0 0 0 0;\n",
              "      width: 32px;\n",
              "    }\n",
              "\n",
              "    .colab-df-convert:hover {\n",
              "      background-color: #E2EBFA;\n",
              "      box-shadow: 0px 1px 2px rgba(60, 64, 67, 0.3), 0px 1px 3px 1px rgba(60, 64, 67, 0.15);\n",
              "      fill: #174EA6;\n",
              "    }\n",
              "\n",
              "    [theme=dark] .colab-df-convert {\n",
              "      background-color: #3B4455;\n",
              "      fill: #D2E3FC;\n",
              "    }\n",
              "\n",
              "    [theme=dark] .colab-df-convert:hover {\n",
              "      background-color: #434B5C;\n",
              "      box-shadow: 0px 1px 3px 1px rgba(0, 0, 0, 0.15);\n",
              "      filter: drop-shadow(0px 1px 2px rgba(0, 0, 0, 0.3));\n",
              "      fill: #FFFFFF;\n",
              "    }\n",
              "  </style>\n",
              "\n",
              "      <script>\n",
              "        const buttonEl =\n",
              "          document.querySelector('#df-9309f755-1b4e-428b-adea-61620f48d540 button.colab-df-convert');\n",
              "        buttonEl.style.display =\n",
              "          google.colab.kernel.accessAllowed ? 'block' : 'none';\n",
              "\n",
              "        async function convertToInteractive(key) {\n",
              "          const element = document.querySelector('#df-9309f755-1b4e-428b-adea-61620f48d540');\n",
              "          const dataTable =\n",
              "            await google.colab.kernel.invokeFunction('convertToInteractive',\n",
              "                                                     [key], {});\n",
              "          if (!dataTable) return;\n",
              "\n",
              "          const docLinkHtml = 'Like what you see? Visit the ' +\n",
              "            '<a target=\"_blank\" href=https://colab.research.google.com/notebooks/data_table.ipynb>data table notebook</a>'\n",
              "            + ' to learn more about interactive tables.';\n",
              "          element.innerHTML = '';\n",
              "          dataTable['output_type'] = 'display_data';\n",
              "          await google.colab.output.renderOutput(dataTable, element);\n",
              "          const docLink = document.createElement('div');\n",
              "          docLink.innerHTML = docLinkHtml;\n",
              "          element.appendChild(docLink);\n",
              "        }\n",
              "      </script>\n",
              "    </div>\n",
              "  </div>\n",
              "  "
            ]
          },
          "metadata": {},
          "execution_count": 7
        }
      ]
    },
    {
      "cell_type": "markdown",
      "source": [
        "### Coluna: Internet \n",
        "\n",
        "\n",
        "\n",
        "---\n",
        "\n"
      ],
      "metadata": {
        "id": "VceEf9qmsrdH"
      }
    },
    {
      "cell_type": "code",
      "source": [
        "clientes_internet = pd.json_normalize(data = clientes['Internet'])\n",
        "#aproveitando para traduzir o nome das colunas \n",
        "clientes_internet.rename(columns = {\n",
        "    'DeviceProtection': 'Proteção do Dispositivo', \n",
        "    'OnlineSecurity' : 'Seguro Online',\n",
        "    'InternetService': 'Serviço de Internet', \n",
        "    'OnlineBackup': 'Backup Online',\n",
        "    'StreamingMovies': 'Streaming de Filmes',\n",
        "    'StreamingTV': 'Streaming de Tv',\n",
        "    'TechSupport': 'Suporte Técnico',\n",
        "    }, inplace=True)\n",
        "clientes_internet.columns.name = 'Id'\n",
        "clientes_internet"
      ],
      "metadata": {
        "id": "iVlCv9lutfwU",
        "colab": {
          "base_uri": "https://localhost:8080/",
          "height": 424
        },
        "outputId": "f7937d9a-e3fd-407b-cc84-2c6f0da2d1c6"
      },
      "execution_count": 8,
      "outputs": [
        {
          "output_type": "execute_result",
          "data": {
            "text/plain": [
              "Id   Serviço de Internet Seguro Online Backup Online Proteção do Dispositivo  \\\n",
              "0                    DSL            No           Yes                      No   \n",
              "1                    DSL            No            No                      No   \n",
              "2            Fiber optic            No            No                     Yes   \n",
              "3            Fiber optic            No           Yes                     Yes   \n",
              "4            Fiber optic            No            No                      No   \n",
              "...                  ...           ...           ...                     ...   \n",
              "7262                 DSL           Yes            No                      No   \n",
              "7263         Fiber optic            No            No                      No   \n",
              "7264                 DSL            No           Yes                      No   \n",
              "7265                 DSL           Yes            No                     Yes   \n",
              "7266                 DSL           Yes           Yes                     Yes   \n",
              "\n",
              "Id   Suporte Técnico Streaming de Tv Streaming de Filmes  \n",
              "0                Yes             Yes                  No  \n",
              "1                 No              No                 Yes  \n",
              "2                 No              No                  No  \n",
              "3                 No             Yes                 Yes  \n",
              "4                Yes             Yes                  No  \n",
              "...              ...             ...                 ...  \n",
              "7262             Yes              No                  No  \n",
              "7263              No              No                 Yes  \n",
              "7264              No              No                  No  \n",
              "7265             Yes              No                 Yes  \n",
              "7266              No             Yes                 Yes  \n",
              "\n",
              "[7267 rows x 7 columns]"
            ],
            "text/html": [
              "\n",
              "  <div id=\"df-bad41aa2-d42d-47b9-883c-ef817a672dff\">\n",
              "    <div class=\"colab-df-container\">\n",
              "      <div>\n",
              "<style scoped>\n",
              "    .dataframe tbody tr th:only-of-type {\n",
              "        vertical-align: middle;\n",
              "    }\n",
              "\n",
              "    .dataframe tbody tr th {\n",
              "        vertical-align: top;\n",
              "    }\n",
              "\n",
              "    .dataframe thead th {\n",
              "        text-align: right;\n",
              "    }\n",
              "</style>\n",
              "<table border=\"1\" class=\"dataframe\">\n",
              "  <thead>\n",
              "    <tr style=\"text-align: right;\">\n",
              "      <th>Id</th>\n",
              "      <th>Serviço de Internet</th>\n",
              "      <th>Seguro Online</th>\n",
              "      <th>Backup Online</th>\n",
              "      <th>Proteção do Dispositivo</th>\n",
              "      <th>Suporte Técnico</th>\n",
              "      <th>Streaming de Tv</th>\n",
              "      <th>Streaming de Filmes</th>\n",
              "    </tr>\n",
              "  </thead>\n",
              "  <tbody>\n",
              "    <tr>\n",
              "      <th>0</th>\n",
              "      <td>DSL</td>\n",
              "      <td>No</td>\n",
              "      <td>Yes</td>\n",
              "      <td>No</td>\n",
              "      <td>Yes</td>\n",
              "      <td>Yes</td>\n",
              "      <td>No</td>\n",
              "    </tr>\n",
              "    <tr>\n",
              "      <th>1</th>\n",
              "      <td>DSL</td>\n",
              "      <td>No</td>\n",
              "      <td>No</td>\n",
              "      <td>No</td>\n",
              "      <td>No</td>\n",
              "      <td>No</td>\n",
              "      <td>Yes</td>\n",
              "    </tr>\n",
              "    <tr>\n",
              "      <th>2</th>\n",
              "      <td>Fiber optic</td>\n",
              "      <td>No</td>\n",
              "      <td>No</td>\n",
              "      <td>Yes</td>\n",
              "      <td>No</td>\n",
              "      <td>No</td>\n",
              "      <td>No</td>\n",
              "    </tr>\n",
              "    <tr>\n",
              "      <th>3</th>\n",
              "      <td>Fiber optic</td>\n",
              "      <td>No</td>\n",
              "      <td>Yes</td>\n",
              "      <td>Yes</td>\n",
              "      <td>No</td>\n",
              "      <td>Yes</td>\n",
              "      <td>Yes</td>\n",
              "    </tr>\n",
              "    <tr>\n",
              "      <th>4</th>\n",
              "      <td>Fiber optic</td>\n",
              "      <td>No</td>\n",
              "      <td>No</td>\n",
              "      <td>No</td>\n",
              "      <td>Yes</td>\n",
              "      <td>Yes</td>\n",
              "      <td>No</td>\n",
              "    </tr>\n",
              "    <tr>\n",
              "      <th>...</th>\n",
              "      <td>...</td>\n",
              "      <td>...</td>\n",
              "      <td>...</td>\n",
              "      <td>...</td>\n",
              "      <td>...</td>\n",
              "      <td>...</td>\n",
              "      <td>...</td>\n",
              "    </tr>\n",
              "    <tr>\n",
              "      <th>7262</th>\n",
              "      <td>DSL</td>\n",
              "      <td>Yes</td>\n",
              "      <td>No</td>\n",
              "      <td>No</td>\n",
              "      <td>Yes</td>\n",
              "      <td>No</td>\n",
              "      <td>No</td>\n",
              "    </tr>\n",
              "    <tr>\n",
              "      <th>7263</th>\n",
              "      <td>Fiber optic</td>\n",
              "      <td>No</td>\n",
              "      <td>No</td>\n",
              "      <td>No</td>\n",
              "      <td>No</td>\n",
              "      <td>No</td>\n",
              "      <td>Yes</td>\n",
              "    </tr>\n",
              "    <tr>\n",
              "      <th>7264</th>\n",
              "      <td>DSL</td>\n",
              "      <td>No</td>\n",
              "      <td>Yes</td>\n",
              "      <td>No</td>\n",
              "      <td>No</td>\n",
              "      <td>No</td>\n",
              "      <td>No</td>\n",
              "    </tr>\n",
              "    <tr>\n",
              "      <th>7265</th>\n",
              "      <td>DSL</td>\n",
              "      <td>Yes</td>\n",
              "      <td>No</td>\n",
              "      <td>Yes</td>\n",
              "      <td>Yes</td>\n",
              "      <td>No</td>\n",
              "      <td>Yes</td>\n",
              "    </tr>\n",
              "    <tr>\n",
              "      <th>7266</th>\n",
              "      <td>DSL</td>\n",
              "      <td>Yes</td>\n",
              "      <td>Yes</td>\n",
              "      <td>Yes</td>\n",
              "      <td>No</td>\n",
              "      <td>Yes</td>\n",
              "      <td>Yes</td>\n",
              "    </tr>\n",
              "  </tbody>\n",
              "</table>\n",
              "<p>7267 rows × 7 columns</p>\n",
              "</div>\n",
              "      <button class=\"colab-df-convert\" onclick=\"convertToInteractive('df-bad41aa2-d42d-47b9-883c-ef817a672dff')\"\n",
              "              title=\"Convert this dataframe to an interactive table.\"\n",
              "              style=\"display:none;\">\n",
              "        \n",
              "  <svg xmlns=\"http://www.w3.org/2000/svg\" height=\"24px\"viewBox=\"0 0 24 24\"\n",
              "       width=\"24px\">\n",
              "    <path d=\"M0 0h24v24H0V0z\" fill=\"none\"/>\n",
              "    <path d=\"M18.56 5.44l.94 2.06.94-2.06 2.06-.94-2.06-.94-.94-2.06-.94 2.06-2.06.94zm-11 1L8.5 8.5l.94-2.06 2.06-.94-2.06-.94L8.5 2.5l-.94 2.06-2.06.94zm10 10l.94 2.06.94-2.06 2.06-.94-2.06-.94-.94-2.06-.94 2.06-2.06.94z\"/><path d=\"M17.41 7.96l-1.37-1.37c-.4-.4-.92-.59-1.43-.59-.52 0-1.04.2-1.43.59L10.3 9.45l-7.72 7.72c-.78.78-.78 2.05 0 2.83L4 21.41c.39.39.9.59 1.41.59.51 0 1.02-.2 1.41-.59l7.78-7.78 2.81-2.81c.8-.78.8-2.07 0-2.86zM5.41 20L4 18.59l7.72-7.72 1.47 1.35L5.41 20z\"/>\n",
              "  </svg>\n",
              "      </button>\n",
              "      \n",
              "  <style>\n",
              "    .colab-df-container {\n",
              "      display:flex;\n",
              "      flex-wrap:wrap;\n",
              "      gap: 12px;\n",
              "    }\n",
              "\n",
              "    .colab-df-convert {\n",
              "      background-color: #E8F0FE;\n",
              "      border: none;\n",
              "      border-radius: 50%;\n",
              "      cursor: pointer;\n",
              "      display: none;\n",
              "      fill: #1967D2;\n",
              "      height: 32px;\n",
              "      padding: 0 0 0 0;\n",
              "      width: 32px;\n",
              "    }\n",
              "\n",
              "    .colab-df-convert:hover {\n",
              "      background-color: #E2EBFA;\n",
              "      box-shadow: 0px 1px 2px rgba(60, 64, 67, 0.3), 0px 1px 3px 1px rgba(60, 64, 67, 0.15);\n",
              "      fill: #174EA6;\n",
              "    }\n",
              "\n",
              "    [theme=dark] .colab-df-convert {\n",
              "      background-color: #3B4455;\n",
              "      fill: #D2E3FC;\n",
              "    }\n",
              "\n",
              "    [theme=dark] .colab-df-convert:hover {\n",
              "      background-color: #434B5C;\n",
              "      box-shadow: 0px 1px 3px 1px rgba(0, 0, 0, 0.15);\n",
              "      filter: drop-shadow(0px 1px 2px rgba(0, 0, 0, 0.3));\n",
              "      fill: #FFFFFF;\n",
              "    }\n",
              "  </style>\n",
              "\n",
              "      <script>\n",
              "        const buttonEl =\n",
              "          document.querySelector('#df-bad41aa2-d42d-47b9-883c-ef817a672dff button.colab-df-convert');\n",
              "        buttonEl.style.display =\n",
              "          google.colab.kernel.accessAllowed ? 'block' : 'none';\n",
              "\n",
              "        async function convertToInteractive(key) {\n",
              "          const element = document.querySelector('#df-bad41aa2-d42d-47b9-883c-ef817a672dff');\n",
              "          const dataTable =\n",
              "            await google.colab.kernel.invokeFunction('convertToInteractive',\n",
              "                                                     [key], {});\n",
              "          if (!dataTable) return;\n",
              "\n",
              "          const docLinkHtml = 'Like what you see? Visit the ' +\n",
              "            '<a target=\"_blank\" href=https://colab.research.google.com/notebooks/data_table.ipynb>data table notebook</a>'\n",
              "            + ' to learn more about interactive tables.';\n",
              "          element.innerHTML = '';\n",
              "          dataTable['output_type'] = 'display_data';\n",
              "          await google.colab.output.renderOutput(dataTable, element);\n",
              "          const docLink = document.createElement('div');\n",
              "          docLink.innerHTML = docLinkHtml;\n",
              "          element.appendChild(docLink);\n",
              "        }\n",
              "      </script>\n",
              "    </div>\n",
              "  </div>\n",
              "  "
            ]
          },
          "metadata": {},
          "execution_count": 8
        }
      ]
    },
    {
      "cell_type": "markdown",
      "source": [
        "### Coluna: Conta\n",
        "\n",
        "\n",
        "---\n",
        "\n"
      ],
      "metadata": {
        "id": "pZ4cO_GdrKUv"
      }
    },
    {
      "cell_type": "code",
      "source": [
        "clientes_conta = pd.json_normalize(data = clientes['Conta'])\n",
        "clientes_conta.rename(columns = {\n",
        "    'Charges': 'Dados de Cobrança',\n",
        "    'Charges.Monthly': 'Gasto Mensal',\n",
        "    'Charges.Total': 'Gasto Total', \n",
        "    'Contract': 'Tempo de Contrato', \n",
        "    'PaperlessBilling': 'Fatura sem Papel', \n",
        "    'PaymentMethod': 'Metodo de Pagamento' \n",
        "    }, inplace=True)\n",
        "clientes_conta.columns.name = 'Id'\n",
        "clientes_conta"
      ],
      "metadata": {
        "id": "zBVBGQFRdGIj",
        "colab": {
          "base_uri": "https://localhost:8080/",
          "height": 0
        },
        "outputId": "c8e9448d-6e4e-4342-bc0c-d5a9b912b42f"
      },
      "execution_count": 9,
      "outputs": [
        {
          "output_type": "execute_result",
          "data": {
            "text/plain": [
              "Id   Tempo de Contrato Fatura sem Papel Metodo de Pagamento  Gasto Mensal  \\\n",
              "0             One year              Yes        Mailed check         65.60   \n",
              "1       Month-to-month               No        Mailed check         59.90   \n",
              "2       Month-to-month              Yes    Electronic check         73.90   \n",
              "3       Month-to-month              Yes    Electronic check         98.00   \n",
              "4       Month-to-month              Yes        Mailed check         83.90   \n",
              "...                ...              ...                 ...           ...   \n",
              "7262          One year               No        Mailed check         55.15   \n",
              "7263    Month-to-month              Yes    Electronic check         85.10   \n",
              "7264    Month-to-month              Yes        Mailed check         50.30   \n",
              "7265          Two year               No        Mailed check         67.85   \n",
              "7266          Two year               No    Electronic check         59.00   \n",
              "\n",
              "Id   Gasto Total  \n",
              "0          593.3  \n",
              "1          542.4  \n",
              "2         280.85  \n",
              "3        1237.85  \n",
              "4          267.4  \n",
              "...          ...  \n",
              "7262       742.9  \n",
              "7263      1873.7  \n",
              "7264       92.75  \n",
              "7265     4627.65  \n",
              "7266      3707.6  \n",
              "\n",
              "[7267 rows x 5 columns]"
            ],
            "text/html": [
              "\n",
              "  <div id=\"df-dc0a9c34-e465-4c3f-9df6-3dcf64fd992b\">\n",
              "    <div class=\"colab-df-container\">\n",
              "      <div>\n",
              "<style scoped>\n",
              "    .dataframe tbody tr th:only-of-type {\n",
              "        vertical-align: middle;\n",
              "    }\n",
              "\n",
              "    .dataframe tbody tr th {\n",
              "        vertical-align: top;\n",
              "    }\n",
              "\n",
              "    .dataframe thead th {\n",
              "        text-align: right;\n",
              "    }\n",
              "</style>\n",
              "<table border=\"1\" class=\"dataframe\">\n",
              "  <thead>\n",
              "    <tr style=\"text-align: right;\">\n",
              "      <th>Id</th>\n",
              "      <th>Tempo de Contrato</th>\n",
              "      <th>Fatura sem Papel</th>\n",
              "      <th>Metodo de Pagamento</th>\n",
              "      <th>Gasto Mensal</th>\n",
              "      <th>Gasto Total</th>\n",
              "    </tr>\n",
              "  </thead>\n",
              "  <tbody>\n",
              "    <tr>\n",
              "      <th>0</th>\n",
              "      <td>One year</td>\n",
              "      <td>Yes</td>\n",
              "      <td>Mailed check</td>\n",
              "      <td>65.60</td>\n",
              "      <td>593.3</td>\n",
              "    </tr>\n",
              "    <tr>\n",
              "      <th>1</th>\n",
              "      <td>Month-to-month</td>\n",
              "      <td>No</td>\n",
              "      <td>Mailed check</td>\n",
              "      <td>59.90</td>\n",
              "      <td>542.4</td>\n",
              "    </tr>\n",
              "    <tr>\n",
              "      <th>2</th>\n",
              "      <td>Month-to-month</td>\n",
              "      <td>Yes</td>\n",
              "      <td>Electronic check</td>\n",
              "      <td>73.90</td>\n",
              "      <td>280.85</td>\n",
              "    </tr>\n",
              "    <tr>\n",
              "      <th>3</th>\n",
              "      <td>Month-to-month</td>\n",
              "      <td>Yes</td>\n",
              "      <td>Electronic check</td>\n",
              "      <td>98.00</td>\n",
              "      <td>1237.85</td>\n",
              "    </tr>\n",
              "    <tr>\n",
              "      <th>4</th>\n",
              "      <td>Month-to-month</td>\n",
              "      <td>Yes</td>\n",
              "      <td>Mailed check</td>\n",
              "      <td>83.90</td>\n",
              "      <td>267.4</td>\n",
              "    </tr>\n",
              "    <tr>\n",
              "      <th>...</th>\n",
              "      <td>...</td>\n",
              "      <td>...</td>\n",
              "      <td>...</td>\n",
              "      <td>...</td>\n",
              "      <td>...</td>\n",
              "    </tr>\n",
              "    <tr>\n",
              "      <th>7262</th>\n",
              "      <td>One year</td>\n",
              "      <td>No</td>\n",
              "      <td>Mailed check</td>\n",
              "      <td>55.15</td>\n",
              "      <td>742.9</td>\n",
              "    </tr>\n",
              "    <tr>\n",
              "      <th>7263</th>\n",
              "      <td>Month-to-month</td>\n",
              "      <td>Yes</td>\n",
              "      <td>Electronic check</td>\n",
              "      <td>85.10</td>\n",
              "      <td>1873.7</td>\n",
              "    </tr>\n",
              "    <tr>\n",
              "      <th>7264</th>\n",
              "      <td>Month-to-month</td>\n",
              "      <td>Yes</td>\n",
              "      <td>Mailed check</td>\n",
              "      <td>50.30</td>\n",
              "      <td>92.75</td>\n",
              "    </tr>\n",
              "    <tr>\n",
              "      <th>7265</th>\n",
              "      <td>Two year</td>\n",
              "      <td>No</td>\n",
              "      <td>Mailed check</td>\n",
              "      <td>67.85</td>\n",
              "      <td>4627.65</td>\n",
              "    </tr>\n",
              "    <tr>\n",
              "      <th>7266</th>\n",
              "      <td>Two year</td>\n",
              "      <td>No</td>\n",
              "      <td>Electronic check</td>\n",
              "      <td>59.00</td>\n",
              "      <td>3707.6</td>\n",
              "    </tr>\n",
              "  </tbody>\n",
              "</table>\n",
              "<p>7267 rows × 5 columns</p>\n",
              "</div>\n",
              "      <button class=\"colab-df-convert\" onclick=\"convertToInteractive('df-dc0a9c34-e465-4c3f-9df6-3dcf64fd992b')\"\n",
              "              title=\"Convert this dataframe to an interactive table.\"\n",
              "              style=\"display:none;\">\n",
              "        \n",
              "  <svg xmlns=\"http://www.w3.org/2000/svg\" height=\"24px\"viewBox=\"0 0 24 24\"\n",
              "       width=\"24px\">\n",
              "    <path d=\"M0 0h24v24H0V0z\" fill=\"none\"/>\n",
              "    <path d=\"M18.56 5.44l.94 2.06.94-2.06 2.06-.94-2.06-.94-.94-2.06-.94 2.06-2.06.94zm-11 1L8.5 8.5l.94-2.06 2.06-.94-2.06-.94L8.5 2.5l-.94 2.06-2.06.94zm10 10l.94 2.06.94-2.06 2.06-.94-2.06-.94-.94-2.06-.94 2.06-2.06.94z\"/><path d=\"M17.41 7.96l-1.37-1.37c-.4-.4-.92-.59-1.43-.59-.52 0-1.04.2-1.43.59L10.3 9.45l-7.72 7.72c-.78.78-.78 2.05 0 2.83L4 21.41c.39.39.9.59 1.41.59.51 0 1.02-.2 1.41-.59l7.78-7.78 2.81-2.81c.8-.78.8-2.07 0-2.86zM5.41 20L4 18.59l7.72-7.72 1.47 1.35L5.41 20z\"/>\n",
              "  </svg>\n",
              "      </button>\n",
              "      \n",
              "  <style>\n",
              "    .colab-df-container {\n",
              "      display:flex;\n",
              "      flex-wrap:wrap;\n",
              "      gap: 12px;\n",
              "    }\n",
              "\n",
              "    .colab-df-convert {\n",
              "      background-color: #E8F0FE;\n",
              "      border: none;\n",
              "      border-radius: 50%;\n",
              "      cursor: pointer;\n",
              "      display: none;\n",
              "      fill: #1967D2;\n",
              "      height: 32px;\n",
              "      padding: 0 0 0 0;\n",
              "      width: 32px;\n",
              "    }\n",
              "\n",
              "    .colab-df-convert:hover {\n",
              "      background-color: #E2EBFA;\n",
              "      box-shadow: 0px 1px 2px rgba(60, 64, 67, 0.3), 0px 1px 3px 1px rgba(60, 64, 67, 0.15);\n",
              "      fill: #174EA6;\n",
              "    }\n",
              "\n",
              "    [theme=dark] .colab-df-convert {\n",
              "      background-color: #3B4455;\n",
              "      fill: #D2E3FC;\n",
              "    }\n",
              "\n",
              "    [theme=dark] .colab-df-convert:hover {\n",
              "      background-color: #434B5C;\n",
              "      box-shadow: 0px 1px 3px 1px rgba(0, 0, 0, 0.15);\n",
              "      filter: drop-shadow(0px 1px 2px rgba(0, 0, 0, 0.3));\n",
              "      fill: #FFFFFF;\n",
              "    }\n",
              "  </style>\n",
              "\n",
              "      <script>\n",
              "        const buttonEl =\n",
              "          document.querySelector('#df-dc0a9c34-e465-4c3f-9df6-3dcf64fd992b button.colab-df-convert');\n",
              "        buttonEl.style.display =\n",
              "          google.colab.kernel.accessAllowed ? 'block' : 'none';\n",
              "\n",
              "        async function convertToInteractive(key) {\n",
              "          const element = document.querySelector('#df-dc0a9c34-e465-4c3f-9df6-3dcf64fd992b');\n",
              "          const dataTable =\n",
              "            await google.colab.kernel.invokeFunction('convertToInteractive',\n",
              "                                                     [key], {});\n",
              "          if (!dataTable) return;\n",
              "\n",
              "          const docLinkHtml = 'Like what you see? Visit the ' +\n",
              "            '<a target=\"_blank\" href=https://colab.research.google.com/notebooks/data_table.ipynb>data table notebook</a>'\n",
              "            + ' to learn more about interactive tables.';\n",
              "          element.innerHTML = '';\n",
              "          dataTable['output_type'] = 'display_data';\n",
              "          await google.colab.output.renderOutput(dataTable, element);\n",
              "          const docLink = document.createElement('div');\n",
              "          docLink.innerHTML = docLinkHtml;\n",
              "          element.appendChild(docLink);\n",
              "        }\n",
              "      </script>\n",
              "    </div>\n",
              "  </div>\n",
              "  "
            ]
          },
          "metadata": {},
          "execution_count": 9
        }
      ]
    },
    {
      "cell_type": "markdown",
      "source": [
        "## Entendo e Traduzindo as colunas\n"
      ],
      "metadata": {
        "id": "9BFPS-2JiKKm"
      }
    },
    {
      "cell_type": "markdown",
      "source": [
        "### Coluna: Informações\n",
        "\n",
        "---\n",
        "\n"
      ],
      "metadata": {
        "id": "skfbcw6kEiRg"
      }
    },
    {
      "cell_type": "code",
      "source": [
        "clientes_informacoes"
      ],
      "metadata": {
        "colab": {
          "base_uri": "https://localhost:8080/",
          "height": 424
        },
        "id": "4B5KxDOwc9ag",
        "outputId": "b165166e-8a00-4863-a2f0-2c33c7efc77c"
      },
      "execution_count": 10,
      "outputs": [
        {
          "output_type": "execute_result",
          "data": {
            "text/plain": [
              "Id    Gênero  Idoso Cônjuge Dependentes  Tempo de Cliente\n",
              "0     Female      0     Yes         Yes                 9\n",
              "1       Male      0      No          No                 9\n",
              "2       Male      0      No          No                 4\n",
              "3       Male      1     Yes          No                13\n",
              "4     Female      1     Yes          No                 3\n",
              "...      ...    ...     ...         ...               ...\n",
              "7262  Female      0      No          No                13\n",
              "7263    Male      0     Yes          No                22\n",
              "7264    Male      0      No          No                 2\n",
              "7265    Male      0     Yes         Yes                67\n",
              "7266    Male      0     Yes         Yes                63\n",
              "\n",
              "[7267 rows x 5 columns]"
            ],
            "text/html": [
              "\n",
              "  <div id=\"df-c8fcf88a-8317-4544-ab82-3494f625ece3\">\n",
              "    <div class=\"colab-df-container\">\n",
              "      <div>\n",
              "<style scoped>\n",
              "    .dataframe tbody tr th:only-of-type {\n",
              "        vertical-align: middle;\n",
              "    }\n",
              "\n",
              "    .dataframe tbody tr th {\n",
              "        vertical-align: top;\n",
              "    }\n",
              "\n",
              "    .dataframe thead th {\n",
              "        text-align: right;\n",
              "    }\n",
              "</style>\n",
              "<table border=\"1\" class=\"dataframe\">\n",
              "  <thead>\n",
              "    <tr style=\"text-align: right;\">\n",
              "      <th>Id</th>\n",
              "      <th>Gênero</th>\n",
              "      <th>Idoso</th>\n",
              "      <th>Cônjuge</th>\n",
              "      <th>Dependentes</th>\n",
              "      <th>Tempo de Cliente</th>\n",
              "    </tr>\n",
              "  </thead>\n",
              "  <tbody>\n",
              "    <tr>\n",
              "      <th>0</th>\n",
              "      <td>Female</td>\n",
              "      <td>0</td>\n",
              "      <td>Yes</td>\n",
              "      <td>Yes</td>\n",
              "      <td>9</td>\n",
              "    </tr>\n",
              "    <tr>\n",
              "      <th>1</th>\n",
              "      <td>Male</td>\n",
              "      <td>0</td>\n",
              "      <td>No</td>\n",
              "      <td>No</td>\n",
              "      <td>9</td>\n",
              "    </tr>\n",
              "    <tr>\n",
              "      <th>2</th>\n",
              "      <td>Male</td>\n",
              "      <td>0</td>\n",
              "      <td>No</td>\n",
              "      <td>No</td>\n",
              "      <td>4</td>\n",
              "    </tr>\n",
              "    <tr>\n",
              "      <th>3</th>\n",
              "      <td>Male</td>\n",
              "      <td>1</td>\n",
              "      <td>Yes</td>\n",
              "      <td>No</td>\n",
              "      <td>13</td>\n",
              "    </tr>\n",
              "    <tr>\n",
              "      <th>4</th>\n",
              "      <td>Female</td>\n",
              "      <td>1</td>\n",
              "      <td>Yes</td>\n",
              "      <td>No</td>\n",
              "      <td>3</td>\n",
              "    </tr>\n",
              "    <tr>\n",
              "      <th>...</th>\n",
              "      <td>...</td>\n",
              "      <td>...</td>\n",
              "      <td>...</td>\n",
              "      <td>...</td>\n",
              "      <td>...</td>\n",
              "    </tr>\n",
              "    <tr>\n",
              "      <th>7262</th>\n",
              "      <td>Female</td>\n",
              "      <td>0</td>\n",
              "      <td>No</td>\n",
              "      <td>No</td>\n",
              "      <td>13</td>\n",
              "    </tr>\n",
              "    <tr>\n",
              "      <th>7263</th>\n",
              "      <td>Male</td>\n",
              "      <td>0</td>\n",
              "      <td>Yes</td>\n",
              "      <td>No</td>\n",
              "      <td>22</td>\n",
              "    </tr>\n",
              "    <tr>\n",
              "      <th>7264</th>\n",
              "      <td>Male</td>\n",
              "      <td>0</td>\n",
              "      <td>No</td>\n",
              "      <td>No</td>\n",
              "      <td>2</td>\n",
              "    </tr>\n",
              "    <tr>\n",
              "      <th>7265</th>\n",
              "      <td>Male</td>\n",
              "      <td>0</td>\n",
              "      <td>Yes</td>\n",
              "      <td>Yes</td>\n",
              "      <td>67</td>\n",
              "    </tr>\n",
              "    <tr>\n",
              "      <th>7266</th>\n",
              "      <td>Male</td>\n",
              "      <td>0</td>\n",
              "      <td>Yes</td>\n",
              "      <td>Yes</td>\n",
              "      <td>63</td>\n",
              "    </tr>\n",
              "  </tbody>\n",
              "</table>\n",
              "<p>7267 rows × 5 columns</p>\n",
              "</div>\n",
              "      <button class=\"colab-df-convert\" onclick=\"convertToInteractive('df-c8fcf88a-8317-4544-ab82-3494f625ece3')\"\n",
              "              title=\"Convert this dataframe to an interactive table.\"\n",
              "              style=\"display:none;\">\n",
              "        \n",
              "  <svg xmlns=\"http://www.w3.org/2000/svg\" height=\"24px\"viewBox=\"0 0 24 24\"\n",
              "       width=\"24px\">\n",
              "    <path d=\"M0 0h24v24H0V0z\" fill=\"none\"/>\n",
              "    <path d=\"M18.56 5.44l.94 2.06.94-2.06 2.06-.94-2.06-.94-.94-2.06-.94 2.06-2.06.94zm-11 1L8.5 8.5l.94-2.06 2.06-.94-2.06-.94L8.5 2.5l-.94 2.06-2.06.94zm10 10l.94 2.06.94-2.06 2.06-.94-2.06-.94-.94-2.06-.94 2.06-2.06.94z\"/><path d=\"M17.41 7.96l-1.37-1.37c-.4-.4-.92-.59-1.43-.59-.52 0-1.04.2-1.43.59L10.3 9.45l-7.72 7.72c-.78.78-.78 2.05 0 2.83L4 21.41c.39.39.9.59 1.41.59.51 0 1.02-.2 1.41-.59l7.78-7.78 2.81-2.81c.8-.78.8-2.07 0-2.86zM5.41 20L4 18.59l7.72-7.72 1.47 1.35L5.41 20z\"/>\n",
              "  </svg>\n",
              "      </button>\n",
              "      \n",
              "  <style>\n",
              "    .colab-df-container {\n",
              "      display:flex;\n",
              "      flex-wrap:wrap;\n",
              "      gap: 12px;\n",
              "    }\n",
              "\n",
              "    .colab-df-convert {\n",
              "      background-color: #E8F0FE;\n",
              "      border: none;\n",
              "      border-radius: 50%;\n",
              "      cursor: pointer;\n",
              "      display: none;\n",
              "      fill: #1967D2;\n",
              "      height: 32px;\n",
              "      padding: 0 0 0 0;\n",
              "      width: 32px;\n",
              "    }\n",
              "\n",
              "    .colab-df-convert:hover {\n",
              "      background-color: #E2EBFA;\n",
              "      box-shadow: 0px 1px 2px rgba(60, 64, 67, 0.3), 0px 1px 3px 1px rgba(60, 64, 67, 0.15);\n",
              "      fill: #174EA6;\n",
              "    }\n",
              "\n",
              "    [theme=dark] .colab-df-convert {\n",
              "      background-color: #3B4455;\n",
              "      fill: #D2E3FC;\n",
              "    }\n",
              "\n",
              "    [theme=dark] .colab-df-convert:hover {\n",
              "      background-color: #434B5C;\n",
              "      box-shadow: 0px 1px 3px 1px rgba(0, 0, 0, 0.15);\n",
              "      filter: drop-shadow(0px 1px 2px rgba(0, 0, 0, 0.3));\n",
              "      fill: #FFFFFF;\n",
              "    }\n",
              "  </style>\n",
              "\n",
              "      <script>\n",
              "        const buttonEl =\n",
              "          document.querySelector('#df-c8fcf88a-8317-4544-ab82-3494f625ece3 button.colab-df-convert');\n",
              "        buttonEl.style.display =\n",
              "          google.colab.kernel.accessAllowed ? 'block' : 'none';\n",
              "\n",
              "        async function convertToInteractive(key) {\n",
              "          const element = document.querySelector('#df-c8fcf88a-8317-4544-ab82-3494f625ece3');\n",
              "          const dataTable =\n",
              "            await google.colab.kernel.invokeFunction('convertToInteractive',\n",
              "                                                     [key], {});\n",
              "          if (!dataTable) return;\n",
              "\n",
              "          const docLinkHtml = 'Like what you see? Visit the ' +\n",
              "            '<a target=\"_blank\" href=https://colab.research.google.com/notebooks/data_table.ipynb>data table notebook</a>'\n",
              "            + ' to learn more about interactive tables.';\n",
              "          element.innerHTML = '';\n",
              "          dataTable['output_type'] = 'display_data';\n",
              "          await google.colab.output.renderOutput(dataTable, element);\n",
              "          const docLink = document.createElement('div');\n",
              "          docLink.innerHTML = docLinkHtml;\n",
              "          element.appendChild(docLink);\n",
              "        }\n",
              "      </script>\n",
              "    </div>\n",
              "  </div>\n",
              "  "
            ]
          },
          "metadata": {},
          "execution_count": 10
        }
      ]
    },
    {
      "cell_type": "markdown",
      "source": [
        "##### Gênero"
      ],
      "metadata": {
        "id": "9jgRZxxyVtKB"
      }
    },
    {
      "cell_type": "code",
      "source": [
        "clientes_informacoes['Gênero'].describe()"
      ],
      "metadata": {
        "colab": {
          "base_uri": "https://localhost:8080/"
        },
        "id": "P8QoQURFFir2",
        "outputId": "fb0598e0-cee9-47e7-832f-36bde03d0151"
      },
      "execution_count": 11,
      "outputs": [
        {
          "output_type": "execute_result",
          "data": {
            "text/plain": [
              "count     7267\n",
              "unique       2\n",
              "top       Male\n",
              "freq      3675\n",
              "Name: Gênero, dtype: object"
            ]
          },
          "metadata": {},
          "execution_count": 11
        }
      ]
    },
    {
      "cell_type": "code",
      "source": [
        "clientes_informacoes['Gênero'].unique()"
      ],
      "metadata": {
        "colab": {
          "base_uri": "https://localhost:8080/"
        },
        "id": "FrvO5qKjO-f4",
        "outputId": "2e95e47c-243d-4bf4-ec19-6ee3dda4a902"
      },
      "execution_count": 12,
      "outputs": [
        {
          "output_type": "execute_result",
          "data": {
            "text/plain": [
              "array(['Female', 'Male'], dtype=object)"
            ]
          },
          "metadata": {},
          "execution_count": 12
        }
      ]
    },
    {
      "cell_type": "markdown",
      "source": [
        "A coluna `Gênero` traz as opções `Famale` e `Male`. \n",
        "\n",
        "Traduzindo: `Feminino` e  `Masculino`.\n",
        "\n",
        "\n",
        "Essa coluna informa o gênero do cliente \n"
      ],
      "metadata": {
        "id": "pSC2KjMeGicx"
      }
    },
    {
      "cell_type": "markdown",
      "source": [
        "##### Idoso"
      ],
      "metadata": {
        "id": "dYzc1mhqV3Rw"
      }
    },
    {
      "cell_type": "code",
      "source": [
        "clientes_informacoes['Idoso'].describe()"
      ],
      "metadata": {
        "colab": {
          "base_uri": "https://localhost:8080/"
        },
        "id": "qL3j7qoAKHxb",
        "outputId": "1dfbe2c7-e512-44f8-c5c4-ebb49a60cb4b"
      },
      "execution_count": 13,
      "outputs": [
        {
          "output_type": "execute_result",
          "data": {
            "text/plain": [
              "count    7267.000000\n",
              "mean        0.162653\n",
              "std         0.369074\n",
              "min         0.000000\n",
              "25%         0.000000\n",
              "50%         0.000000\n",
              "75%         0.000000\n",
              "max         1.000000\n",
              "Name: Idoso, dtype: float64"
            ]
          },
          "metadata": {},
          "execution_count": 13
        }
      ]
    },
    {
      "cell_type": "code",
      "source": [
        "clientes_informacoes['Idoso'].dtype"
      ],
      "metadata": {
        "colab": {
          "base_uri": "https://localhost:8080/"
        },
        "id": "KJ4ueFSOQava",
        "outputId": "324a85fe-a27f-456f-f84e-db71f0d36e68"
      },
      "execution_count": 14,
      "outputs": [
        {
          "output_type": "execute_result",
          "data": {
            "text/plain": [
              "dtype('int64')"
            ]
          },
          "metadata": {},
          "execution_count": 14
        }
      ]
    },
    {
      "cell_type": "code",
      "source": [
        "clientes_informacoes['Idoso'].unique()"
      ],
      "metadata": {
        "colab": {
          "base_uri": "https://localhost:8080/"
        },
        "id": "TbKrAoTCKH65",
        "outputId": "99ffdbc5-ee77-43eb-b1c0-0ec2657c398d"
      },
      "execution_count": 15,
      "outputs": [
        {
          "output_type": "execute_result",
          "data": {
            "text/plain": [
              "array([0, 1])"
            ]
          },
          "metadata": {},
          "execution_count": 15
        }
      ]
    },
    {
      "cell_type": "markdown",
      "source": [
        "A coluna `Idoso`  traz um intervalo binário de `0` e `1`.\n",
        "\n",
        "\n",
        "Como essa coluna serve para classificar se o cliente é ou não idoso, seria melhor se o tipo de dados estivesse em booleano, mas ele se encontra como inteiro, isso será tratado posteriormente.\n",
        "\n"
      ],
      "metadata": {
        "id": "n4IHHZ-OLJMa"
      }
    },
    {
      "cell_type": "markdown",
      "source": [
        "##### Cônjuge"
      ],
      "metadata": {
        "id": "M2NVP-9dWEOq"
      }
    },
    {
      "cell_type": "code",
      "source": [
        "clientes_informacoes['Cônjuge'].describe()"
      ],
      "metadata": {
        "colab": {
          "base_uri": "https://localhost:8080/"
        },
        "id": "J3-ID3M7IRYH",
        "outputId": "09f1b6ed-9cd1-497c-c01b-266a67836092"
      },
      "execution_count": 16,
      "outputs": [
        {
          "output_type": "execute_result",
          "data": {
            "text/plain": [
              "count     7267\n",
              "unique       2\n",
              "top         No\n",
              "freq      3749\n",
              "Name: Cônjuge, dtype: object"
            ]
          },
          "metadata": {},
          "execution_count": 16
        }
      ]
    },
    {
      "cell_type": "code",
      "source": [
        "clientes_informacoes['Cônjuge'].unique()"
      ],
      "metadata": {
        "colab": {
          "base_uri": "https://localhost:8080/"
        },
        "id": "xO75P1HvPHTB",
        "outputId": "4b204e23-2501-4360-8879-1d522b21d09f"
      },
      "execution_count": 17,
      "outputs": [
        {
          "output_type": "execute_result",
          "data": {
            "text/plain": [
              "array(['Yes', 'No'], dtype=object)"
            ]
          },
          "metadata": {},
          "execution_count": 17
        }
      ]
    },
    {
      "cell_type": "markdown",
      "source": [
        "A coluna ` Cônjuge `  traz as opções `Yes`, `No`. \n",
        "\n",
        "Traduzindo: `Sim`, `Não`.\n",
        "\n",
        "\n",
        "Essa coluna informa se o cliente tem um parceiro.\n"
      ],
      "metadata": {
        "id": "U3rIoEpJIdX7"
      }
    },
    {
      "cell_type": "code",
      "source": [
        "clientes_informacoes['Dependentes'].describe()"
      ],
      "metadata": {
        "colab": {
          "base_uri": "https://localhost:8080/"
        },
        "id": "Vzg9p1kjPZvt",
        "outputId": "75efb136-bb07-48f3-fbb5-cccc839f94f3"
      },
      "execution_count": 18,
      "outputs": [
        {
          "output_type": "execute_result",
          "data": {
            "text/plain": [
              "count     7267\n",
              "unique       2\n",
              "top         No\n",
              "freq      5086\n",
              "Name: Dependentes, dtype: object"
            ]
          },
          "metadata": {},
          "execution_count": 18
        }
      ]
    },
    {
      "cell_type": "code",
      "source": [
        "clientes_informacoes['Dependentes'].unique()"
      ],
      "metadata": {
        "colab": {
          "base_uri": "https://localhost:8080/"
        },
        "id": "4d3EvUVGPNF6",
        "outputId": "c398520c-cd77-439c-bf67-26aa3b3a53c3"
      },
      "execution_count": 19,
      "outputs": [
        {
          "output_type": "execute_result",
          "data": {
            "text/plain": [
              "array(['Yes', 'No'], dtype=object)"
            ]
          },
          "metadata": {},
          "execution_count": 19
        }
      ]
    },
    {
      "cell_type": "markdown",
      "source": [
        "A coluna ` Dependentes `  traz as opções `Yes`, `No`. \n",
        "\n",
        "Traduzindo: `Sim`, `Não`.\n",
        "\n",
        "Essa coluna informa se o cliente possui filhos ou dependentes.\n"
      ],
      "metadata": {
        "id": "ZMxC4pfkP4-Q"
      }
    },
    {
      "cell_type": "markdown",
      "source": [
        "##### Tempo de Cliente"
      ],
      "metadata": {
        "id": "CTEcPdmxWL3y"
      }
    },
    {
      "cell_type": "code",
      "source": [
        "clientes_informacoes['Tempo de Cliente'].describe()"
      ],
      "metadata": {
        "colab": {
          "base_uri": "https://localhost:8080/"
        },
        "id": "ui2JbWaTQNVE",
        "outputId": "5ab9f987-5c5f-48bc-a229-136b6ee0f44e"
      },
      "execution_count": 20,
      "outputs": [
        {
          "output_type": "execute_result",
          "data": {
            "text/plain": [
              "count    7267.000000\n",
              "mean       32.346498\n",
              "std        24.571773\n",
              "min         0.000000\n",
              "25%         9.000000\n",
              "50%        29.000000\n",
              "75%        55.000000\n",
              "max        72.000000\n",
              "Name: Tempo de Cliente, dtype: float64"
            ]
          },
          "metadata": {},
          "execution_count": 20
        }
      ]
    },
    {
      "cell_type": "code",
      "source": [
        "clientes_informacoes['Tempo de Cliente'].dtype"
      ],
      "metadata": {
        "colab": {
          "base_uri": "https://localhost:8080/"
        },
        "id": "LzTgVk52Q3OE",
        "outputId": "bf7aeeb0-3d86-4459-960e-e463fc0a8bd2"
      },
      "execution_count": 21,
      "outputs": [
        {
          "output_type": "execute_result",
          "data": {
            "text/plain": [
              "dtype('int64')"
            ]
          },
          "metadata": {},
          "execution_count": 21
        }
      ]
    },
    {
      "cell_type": "markdown",
      "source": [
        "A coluna `Tempo de Cliente`  traz valores inteiros.\n",
        "\n",
        "Esta coluna informa o tempo, em meses, que esse cliente está vinculado a empresa."
      ],
      "metadata": {
        "id": "B_8G4ugiSyE6"
      }
    },
    {
      "cell_type": "code",
      "source": [
        "# Tradução\n",
        "clientes_informacoes['Gênero'] = clientes_informacoes['Gênero'].map({'Female' : 'F', 'Male' : 'M'})\n",
        "clientes_informacoes['Cônjuge'] = clientes_informacoes['Cônjuge'].map({'Yes' : 'Sim', 'No' : 'Não'})\n",
        "clientes_informacoes['Dependentes'] = clientes_informacoes['Dependentes'].map({'Yes' : 'Sim', 'No' : 'Não'})\n",
        "clientes_informacoes"
      ],
      "metadata": {
        "colab": {
          "base_uri": "https://localhost:8080/",
          "height": 424
        },
        "id": "z7Nt7fYn1uB-",
        "outputId": "a1144ed5-5def-419b-c31b-fc995f4f4e29"
      },
      "execution_count": 22,
      "outputs": [
        {
          "output_type": "execute_result",
          "data": {
            "text/plain": [
              "Id   Gênero  Idoso Cônjuge Dependentes  Tempo de Cliente\n",
              "0         F      0     Sim         Sim                 9\n",
              "1         M      0     Não         Não                 9\n",
              "2         M      0     Não         Não                 4\n",
              "3         M      1     Sim         Não                13\n",
              "4         F      1     Sim         Não                 3\n",
              "...     ...    ...     ...         ...               ...\n",
              "7262      F      0     Não         Não                13\n",
              "7263      M      0     Sim         Não                22\n",
              "7264      M      0     Não         Não                 2\n",
              "7265      M      0     Sim         Sim                67\n",
              "7266      M      0     Sim         Sim                63\n",
              "\n",
              "[7267 rows x 5 columns]"
            ],
            "text/html": [
              "\n",
              "  <div id=\"df-060a17b9-a7ef-4348-8258-26fe90d6295f\">\n",
              "    <div class=\"colab-df-container\">\n",
              "      <div>\n",
              "<style scoped>\n",
              "    .dataframe tbody tr th:only-of-type {\n",
              "        vertical-align: middle;\n",
              "    }\n",
              "\n",
              "    .dataframe tbody tr th {\n",
              "        vertical-align: top;\n",
              "    }\n",
              "\n",
              "    .dataframe thead th {\n",
              "        text-align: right;\n",
              "    }\n",
              "</style>\n",
              "<table border=\"1\" class=\"dataframe\">\n",
              "  <thead>\n",
              "    <tr style=\"text-align: right;\">\n",
              "      <th>Id</th>\n",
              "      <th>Gênero</th>\n",
              "      <th>Idoso</th>\n",
              "      <th>Cônjuge</th>\n",
              "      <th>Dependentes</th>\n",
              "      <th>Tempo de Cliente</th>\n",
              "    </tr>\n",
              "  </thead>\n",
              "  <tbody>\n",
              "    <tr>\n",
              "      <th>0</th>\n",
              "      <td>F</td>\n",
              "      <td>0</td>\n",
              "      <td>Sim</td>\n",
              "      <td>Sim</td>\n",
              "      <td>9</td>\n",
              "    </tr>\n",
              "    <tr>\n",
              "      <th>1</th>\n",
              "      <td>M</td>\n",
              "      <td>0</td>\n",
              "      <td>Não</td>\n",
              "      <td>Não</td>\n",
              "      <td>9</td>\n",
              "    </tr>\n",
              "    <tr>\n",
              "      <th>2</th>\n",
              "      <td>M</td>\n",
              "      <td>0</td>\n",
              "      <td>Não</td>\n",
              "      <td>Não</td>\n",
              "      <td>4</td>\n",
              "    </tr>\n",
              "    <tr>\n",
              "      <th>3</th>\n",
              "      <td>M</td>\n",
              "      <td>1</td>\n",
              "      <td>Sim</td>\n",
              "      <td>Não</td>\n",
              "      <td>13</td>\n",
              "    </tr>\n",
              "    <tr>\n",
              "      <th>4</th>\n",
              "      <td>F</td>\n",
              "      <td>1</td>\n",
              "      <td>Sim</td>\n",
              "      <td>Não</td>\n",
              "      <td>3</td>\n",
              "    </tr>\n",
              "    <tr>\n",
              "      <th>...</th>\n",
              "      <td>...</td>\n",
              "      <td>...</td>\n",
              "      <td>...</td>\n",
              "      <td>...</td>\n",
              "      <td>...</td>\n",
              "    </tr>\n",
              "    <tr>\n",
              "      <th>7262</th>\n",
              "      <td>F</td>\n",
              "      <td>0</td>\n",
              "      <td>Não</td>\n",
              "      <td>Não</td>\n",
              "      <td>13</td>\n",
              "    </tr>\n",
              "    <tr>\n",
              "      <th>7263</th>\n",
              "      <td>M</td>\n",
              "      <td>0</td>\n",
              "      <td>Sim</td>\n",
              "      <td>Não</td>\n",
              "      <td>22</td>\n",
              "    </tr>\n",
              "    <tr>\n",
              "      <th>7264</th>\n",
              "      <td>M</td>\n",
              "      <td>0</td>\n",
              "      <td>Não</td>\n",
              "      <td>Não</td>\n",
              "      <td>2</td>\n",
              "    </tr>\n",
              "    <tr>\n",
              "      <th>7265</th>\n",
              "      <td>M</td>\n",
              "      <td>0</td>\n",
              "      <td>Sim</td>\n",
              "      <td>Sim</td>\n",
              "      <td>67</td>\n",
              "    </tr>\n",
              "    <tr>\n",
              "      <th>7266</th>\n",
              "      <td>M</td>\n",
              "      <td>0</td>\n",
              "      <td>Sim</td>\n",
              "      <td>Sim</td>\n",
              "      <td>63</td>\n",
              "    </tr>\n",
              "  </tbody>\n",
              "</table>\n",
              "<p>7267 rows × 5 columns</p>\n",
              "</div>\n",
              "      <button class=\"colab-df-convert\" onclick=\"convertToInteractive('df-060a17b9-a7ef-4348-8258-26fe90d6295f')\"\n",
              "              title=\"Convert this dataframe to an interactive table.\"\n",
              "              style=\"display:none;\">\n",
              "        \n",
              "  <svg xmlns=\"http://www.w3.org/2000/svg\" height=\"24px\"viewBox=\"0 0 24 24\"\n",
              "       width=\"24px\">\n",
              "    <path d=\"M0 0h24v24H0V0z\" fill=\"none\"/>\n",
              "    <path d=\"M18.56 5.44l.94 2.06.94-2.06 2.06-.94-2.06-.94-.94-2.06-.94 2.06-2.06.94zm-11 1L8.5 8.5l.94-2.06 2.06-.94-2.06-.94L8.5 2.5l-.94 2.06-2.06.94zm10 10l.94 2.06.94-2.06 2.06-.94-2.06-.94-.94-2.06-.94 2.06-2.06.94z\"/><path d=\"M17.41 7.96l-1.37-1.37c-.4-.4-.92-.59-1.43-.59-.52 0-1.04.2-1.43.59L10.3 9.45l-7.72 7.72c-.78.78-.78 2.05 0 2.83L4 21.41c.39.39.9.59 1.41.59.51 0 1.02-.2 1.41-.59l7.78-7.78 2.81-2.81c.8-.78.8-2.07 0-2.86zM5.41 20L4 18.59l7.72-7.72 1.47 1.35L5.41 20z\"/>\n",
              "  </svg>\n",
              "      </button>\n",
              "      \n",
              "  <style>\n",
              "    .colab-df-container {\n",
              "      display:flex;\n",
              "      flex-wrap:wrap;\n",
              "      gap: 12px;\n",
              "    }\n",
              "\n",
              "    .colab-df-convert {\n",
              "      background-color: #E8F0FE;\n",
              "      border: none;\n",
              "      border-radius: 50%;\n",
              "      cursor: pointer;\n",
              "      display: none;\n",
              "      fill: #1967D2;\n",
              "      height: 32px;\n",
              "      padding: 0 0 0 0;\n",
              "      width: 32px;\n",
              "    }\n",
              "\n",
              "    .colab-df-convert:hover {\n",
              "      background-color: #E2EBFA;\n",
              "      box-shadow: 0px 1px 2px rgba(60, 64, 67, 0.3), 0px 1px 3px 1px rgba(60, 64, 67, 0.15);\n",
              "      fill: #174EA6;\n",
              "    }\n",
              "\n",
              "    [theme=dark] .colab-df-convert {\n",
              "      background-color: #3B4455;\n",
              "      fill: #D2E3FC;\n",
              "    }\n",
              "\n",
              "    [theme=dark] .colab-df-convert:hover {\n",
              "      background-color: #434B5C;\n",
              "      box-shadow: 0px 1px 3px 1px rgba(0, 0, 0, 0.15);\n",
              "      filter: drop-shadow(0px 1px 2px rgba(0, 0, 0, 0.3));\n",
              "      fill: #FFFFFF;\n",
              "    }\n",
              "  </style>\n",
              "\n",
              "      <script>\n",
              "        const buttonEl =\n",
              "          document.querySelector('#df-060a17b9-a7ef-4348-8258-26fe90d6295f button.colab-df-convert');\n",
              "        buttonEl.style.display =\n",
              "          google.colab.kernel.accessAllowed ? 'block' : 'none';\n",
              "\n",
              "        async function convertToInteractive(key) {\n",
              "          const element = document.querySelector('#df-060a17b9-a7ef-4348-8258-26fe90d6295f');\n",
              "          const dataTable =\n",
              "            await google.colab.kernel.invokeFunction('convertToInteractive',\n",
              "                                                     [key], {});\n",
              "          if (!dataTable) return;\n",
              "\n",
              "          const docLinkHtml = 'Like what you see? Visit the ' +\n",
              "            '<a target=\"_blank\" href=https://colab.research.google.com/notebooks/data_table.ipynb>data table notebook</a>'\n",
              "            + ' to learn more about interactive tables.';\n",
              "          element.innerHTML = '';\n",
              "          dataTable['output_type'] = 'display_data';\n",
              "          await google.colab.output.renderOutput(dataTable, element);\n",
              "          const docLink = document.createElement('div');\n",
              "          docLink.innerHTML = docLinkHtml;\n",
              "          element.appendChild(docLink);\n",
              "        }\n",
              "      </script>\n",
              "    </div>\n",
              "  </div>\n",
              "  "
            ]
          },
          "metadata": {},
          "execution_count": 22
        }
      ]
    },
    {
      "cell_type": "code",
      "source": [
        "#dropando a coluna para facilitar na hora de juntar\n",
        "clientes.drop(columns = ['Informações'], inplace=True)"
      ],
      "metadata": {
        "id": "aAvgO8GN_45M"
      },
      "execution_count": 23,
      "outputs": []
    },
    {
      "cell_type": "markdown",
      "source": [
        "### Coluna: Telefone\n",
        "\n",
        "---\n",
        "\n",
        "\n"
      ],
      "metadata": {
        "id": "TE6cgh8cjiQ2"
      }
    },
    {
      "cell_type": "code",
      "source": [
        "clientes_telefone"
      ],
      "metadata": {
        "colab": {
          "base_uri": "https://localhost:8080/",
          "height": 424
        },
        "id": "1MOoDQKfB19J",
        "outputId": "359c0bff-5438-4e97-be24-2b2e687b8e2a"
      },
      "execution_count": 24,
      "outputs": [
        {
          "output_type": "execute_result",
          "data": {
            "text/plain": [
              "Id   Telefone  Múltiplas Linhas\n",
              "0         Yes                No\n",
              "1         Yes               Yes\n",
              "2         Yes                No\n",
              "3         Yes                No\n",
              "4         Yes                No\n",
              "...       ...               ...\n",
              "7262      Yes                No\n",
              "7263      Yes               Yes\n",
              "7264      Yes                No\n",
              "7265      Yes                No\n",
              "7266       No  No phone service\n",
              "\n",
              "[7267 rows x 2 columns]"
            ],
            "text/html": [
              "\n",
              "  <div id=\"df-a3580a5b-4f9e-426c-8efd-0cac58c7227d\">\n",
              "    <div class=\"colab-df-container\">\n",
              "      <div>\n",
              "<style scoped>\n",
              "    .dataframe tbody tr th:only-of-type {\n",
              "        vertical-align: middle;\n",
              "    }\n",
              "\n",
              "    .dataframe tbody tr th {\n",
              "        vertical-align: top;\n",
              "    }\n",
              "\n",
              "    .dataframe thead th {\n",
              "        text-align: right;\n",
              "    }\n",
              "</style>\n",
              "<table border=\"1\" class=\"dataframe\">\n",
              "  <thead>\n",
              "    <tr style=\"text-align: right;\">\n",
              "      <th>Id</th>\n",
              "      <th>Telefone</th>\n",
              "      <th>Múltiplas Linhas</th>\n",
              "    </tr>\n",
              "  </thead>\n",
              "  <tbody>\n",
              "    <tr>\n",
              "      <th>0</th>\n",
              "      <td>Yes</td>\n",
              "      <td>No</td>\n",
              "    </tr>\n",
              "    <tr>\n",
              "      <th>1</th>\n",
              "      <td>Yes</td>\n",
              "      <td>Yes</td>\n",
              "    </tr>\n",
              "    <tr>\n",
              "      <th>2</th>\n",
              "      <td>Yes</td>\n",
              "      <td>No</td>\n",
              "    </tr>\n",
              "    <tr>\n",
              "      <th>3</th>\n",
              "      <td>Yes</td>\n",
              "      <td>No</td>\n",
              "    </tr>\n",
              "    <tr>\n",
              "      <th>4</th>\n",
              "      <td>Yes</td>\n",
              "      <td>No</td>\n",
              "    </tr>\n",
              "    <tr>\n",
              "      <th>...</th>\n",
              "      <td>...</td>\n",
              "      <td>...</td>\n",
              "    </tr>\n",
              "    <tr>\n",
              "      <th>7262</th>\n",
              "      <td>Yes</td>\n",
              "      <td>No</td>\n",
              "    </tr>\n",
              "    <tr>\n",
              "      <th>7263</th>\n",
              "      <td>Yes</td>\n",
              "      <td>Yes</td>\n",
              "    </tr>\n",
              "    <tr>\n",
              "      <th>7264</th>\n",
              "      <td>Yes</td>\n",
              "      <td>No</td>\n",
              "    </tr>\n",
              "    <tr>\n",
              "      <th>7265</th>\n",
              "      <td>Yes</td>\n",
              "      <td>No</td>\n",
              "    </tr>\n",
              "    <tr>\n",
              "      <th>7266</th>\n",
              "      <td>No</td>\n",
              "      <td>No phone service</td>\n",
              "    </tr>\n",
              "  </tbody>\n",
              "</table>\n",
              "<p>7267 rows × 2 columns</p>\n",
              "</div>\n",
              "      <button class=\"colab-df-convert\" onclick=\"convertToInteractive('df-a3580a5b-4f9e-426c-8efd-0cac58c7227d')\"\n",
              "              title=\"Convert this dataframe to an interactive table.\"\n",
              "              style=\"display:none;\">\n",
              "        \n",
              "  <svg xmlns=\"http://www.w3.org/2000/svg\" height=\"24px\"viewBox=\"0 0 24 24\"\n",
              "       width=\"24px\">\n",
              "    <path d=\"M0 0h24v24H0V0z\" fill=\"none\"/>\n",
              "    <path d=\"M18.56 5.44l.94 2.06.94-2.06 2.06-.94-2.06-.94-.94-2.06-.94 2.06-2.06.94zm-11 1L8.5 8.5l.94-2.06 2.06-.94-2.06-.94L8.5 2.5l-.94 2.06-2.06.94zm10 10l.94 2.06.94-2.06 2.06-.94-2.06-.94-.94-2.06-.94 2.06-2.06.94z\"/><path d=\"M17.41 7.96l-1.37-1.37c-.4-.4-.92-.59-1.43-.59-.52 0-1.04.2-1.43.59L10.3 9.45l-7.72 7.72c-.78.78-.78 2.05 0 2.83L4 21.41c.39.39.9.59 1.41.59.51 0 1.02-.2 1.41-.59l7.78-7.78 2.81-2.81c.8-.78.8-2.07 0-2.86zM5.41 20L4 18.59l7.72-7.72 1.47 1.35L5.41 20z\"/>\n",
              "  </svg>\n",
              "      </button>\n",
              "      \n",
              "  <style>\n",
              "    .colab-df-container {\n",
              "      display:flex;\n",
              "      flex-wrap:wrap;\n",
              "      gap: 12px;\n",
              "    }\n",
              "\n",
              "    .colab-df-convert {\n",
              "      background-color: #E8F0FE;\n",
              "      border: none;\n",
              "      border-radius: 50%;\n",
              "      cursor: pointer;\n",
              "      display: none;\n",
              "      fill: #1967D2;\n",
              "      height: 32px;\n",
              "      padding: 0 0 0 0;\n",
              "      width: 32px;\n",
              "    }\n",
              "\n",
              "    .colab-df-convert:hover {\n",
              "      background-color: #E2EBFA;\n",
              "      box-shadow: 0px 1px 2px rgba(60, 64, 67, 0.3), 0px 1px 3px 1px rgba(60, 64, 67, 0.15);\n",
              "      fill: #174EA6;\n",
              "    }\n",
              "\n",
              "    [theme=dark] .colab-df-convert {\n",
              "      background-color: #3B4455;\n",
              "      fill: #D2E3FC;\n",
              "    }\n",
              "\n",
              "    [theme=dark] .colab-df-convert:hover {\n",
              "      background-color: #434B5C;\n",
              "      box-shadow: 0px 1px 3px 1px rgba(0, 0, 0, 0.15);\n",
              "      filter: drop-shadow(0px 1px 2px rgba(0, 0, 0, 0.3));\n",
              "      fill: #FFFFFF;\n",
              "    }\n",
              "  </style>\n",
              "\n",
              "      <script>\n",
              "        const buttonEl =\n",
              "          document.querySelector('#df-a3580a5b-4f9e-426c-8efd-0cac58c7227d button.colab-df-convert');\n",
              "        buttonEl.style.display =\n",
              "          google.colab.kernel.accessAllowed ? 'block' : 'none';\n",
              "\n",
              "        async function convertToInteractive(key) {\n",
              "          const element = document.querySelector('#df-a3580a5b-4f9e-426c-8efd-0cac58c7227d');\n",
              "          const dataTable =\n",
              "            await google.colab.kernel.invokeFunction('convertToInteractive',\n",
              "                                                     [key], {});\n",
              "          if (!dataTable) return;\n",
              "\n",
              "          const docLinkHtml = 'Like what you see? Visit the ' +\n",
              "            '<a target=\"_blank\" href=https://colab.research.google.com/notebooks/data_table.ipynb>data table notebook</a>'\n",
              "            + ' to learn more about interactive tables.';\n",
              "          element.innerHTML = '';\n",
              "          dataTable['output_type'] = 'display_data';\n",
              "          await google.colab.output.renderOutput(dataTable, element);\n",
              "          const docLink = document.createElement('div');\n",
              "          docLink.innerHTML = docLinkHtml;\n",
              "          element.appendChild(docLink);\n",
              "        }\n",
              "      </script>\n",
              "    </div>\n",
              "  </div>\n",
              "  "
            ]
          },
          "metadata": {},
          "execution_count": 24
        }
      ]
    },
    {
      "cell_type": "markdown",
      "source": [
        "##### Telefone"
      ],
      "metadata": {
        "id": "n-3aKVNeWaG-"
      }
    },
    {
      "cell_type": "code",
      "source": [
        "clientes['Telefone'].describe()"
      ],
      "metadata": {
        "colab": {
          "base_uri": "https://localhost:8080/"
        },
        "id": "I9TSYpqd7Ujo",
        "outputId": "8a1b9c73-9097-486b-bbb5-ce03b6a2ef33"
      },
      "execution_count": 25,
      "outputs": [
        {
          "output_type": "execute_result",
          "data": {
            "text/plain": [
              "count                                               7267\n",
              "unique                                                 3\n",
              "top       {'PhoneService': 'Yes', 'MultipleLines': 'No'}\n",
              "freq                                                3495\n",
              "Name: Telefone, dtype: object"
            ]
          },
          "metadata": {},
          "execution_count": 25
        }
      ]
    },
    {
      "cell_type": "code",
      "source": [
        "clientes_telefone['Telefone'].unique()"
      ],
      "metadata": {
        "colab": {
          "base_uri": "https://localhost:8080/"
        },
        "outputId": "4852c37f-b695-4254-bc55-d473e8e2eb5d",
        "id": "WqtQbDblRr7h"
      },
      "execution_count": 26,
      "outputs": [
        {
          "output_type": "execute_result",
          "data": {
            "text/plain": [
              "array(['Yes', 'No'], dtype=object)"
            ]
          },
          "metadata": {},
          "execution_count": 26
        }
      ]
    },
    {
      "cell_type": "markdown",
      "source": [
        "A coluna `Telefone`  traz as opções `Yes` e `No`.\n",
        "\n",
        "Traduzindo: `Sim` e `Não`.\n",
        "\n",
        "Esta coluna informa se o cliente possui serviço telefônico.\n",
        "\n"
      ],
      "metadata": {
        "id": "Uti4nXMrWsp6"
      }
    },
    {
      "cell_type": "markdown",
      "source": [
        "##### Múltiplas Linhas"
      ],
      "metadata": {
        "id": "YNv6xtpaWvfq"
      }
    },
    {
      "cell_type": "code",
      "source": [
        "clientes_telefone['Múltiplas Linhas'].describe()"
      ],
      "metadata": {
        "colab": {
          "base_uri": "https://localhost:8080/"
        },
        "id": "1aCtHp0uYJn-",
        "outputId": "f7353f31-4877-40ee-9636-8714f243866c"
      },
      "execution_count": 27,
      "outputs": [
        {
          "output_type": "execute_result",
          "data": {
            "text/plain": [
              "count     7267\n",
              "unique       3\n",
              "top         No\n",
              "freq      3495\n",
              "Name: Múltiplas Linhas, dtype: object"
            ]
          },
          "metadata": {},
          "execution_count": 27
        }
      ]
    },
    {
      "cell_type": "code",
      "source": [
        "clientes_telefone['Múltiplas Linhas'].unique()"
      ],
      "metadata": {
        "colab": {
          "base_uri": "https://localhost:8080/"
        },
        "id": "gMgfIELeQebA",
        "outputId": "a32989c0-b069-42de-b067-4e9417f1450b"
      },
      "execution_count": 28,
      "outputs": [
        {
          "output_type": "execute_result",
          "data": {
            "text/plain": [
              "array(['No', 'Yes', 'No phone service'], dtype=object)"
            ]
          },
          "metadata": {},
          "execution_count": 28
        }
      ]
    },
    {
      "cell_type": "markdown",
      "source": [
        "A coluna `Múltiplas Linhas`  traz as opções `No`, `Yes` e `No phone service`. \n",
        "\n",
        "Traduzindo: `Não`, `Sim`  e `Sem Serviço Telefônico`.\n",
        "\n",
        "Esta coluna informa se o cliente mais de uma linha telefônica.\n",
        "\n",
        "Esta coluna passara futuramente por uma análise, mas aprofundada para identificar se há alguma inconsistência em relação a variável `Sem serviço Telefônico`, pois ela não poderá aparecer quando a coluna `Serviço Telefônico` for `Sim`.\n"
      ],
      "metadata": {
        "id": "rupGLwClbDPH"
      }
    },
    {
      "cell_type": "code",
      "source": [
        "#Tradução\n",
        "clientes_telefone['Telefone'] = clientes_telefone['Telefone'].map({'Yes' : 'Sim', 'No' : 'Não'})\n",
        "clientes_telefone['Múltiplas Linhas'] = clientes_telefone['Múltiplas Linhas'].map({'Yes' : 'Sim', 'No' : 'Não', 'No phone service' : 'Sem serviço de Telefone'})\n",
        "clientes_telefone"
      ],
      "metadata": {
        "colab": {
          "base_uri": "https://localhost:8080/",
          "height": 424
        },
        "id": "7CL4pRecWW86",
        "outputId": "af55dba3-65d1-4c81-bcbc-29d08733058c"
      },
      "execution_count": 29,
      "outputs": [
        {
          "output_type": "execute_result",
          "data": {
            "text/plain": [
              "Id   Telefone         Múltiplas Linhas\n",
              "0         Sim                      Não\n",
              "1         Sim                      Sim\n",
              "2         Sim                      Não\n",
              "3         Sim                      Não\n",
              "4         Sim                      Não\n",
              "...       ...                      ...\n",
              "7262      Sim                      Não\n",
              "7263      Sim                      Sim\n",
              "7264      Sim                      Não\n",
              "7265      Sim                      Não\n",
              "7266      Não  Sem serviço de Telefone\n",
              "\n",
              "[7267 rows x 2 columns]"
            ],
            "text/html": [
              "\n",
              "  <div id=\"df-cd4ac616-8a9b-45b2-94b3-ecc489c14f27\">\n",
              "    <div class=\"colab-df-container\">\n",
              "      <div>\n",
              "<style scoped>\n",
              "    .dataframe tbody tr th:only-of-type {\n",
              "        vertical-align: middle;\n",
              "    }\n",
              "\n",
              "    .dataframe tbody tr th {\n",
              "        vertical-align: top;\n",
              "    }\n",
              "\n",
              "    .dataframe thead th {\n",
              "        text-align: right;\n",
              "    }\n",
              "</style>\n",
              "<table border=\"1\" class=\"dataframe\">\n",
              "  <thead>\n",
              "    <tr style=\"text-align: right;\">\n",
              "      <th>Id</th>\n",
              "      <th>Telefone</th>\n",
              "      <th>Múltiplas Linhas</th>\n",
              "    </tr>\n",
              "  </thead>\n",
              "  <tbody>\n",
              "    <tr>\n",
              "      <th>0</th>\n",
              "      <td>Sim</td>\n",
              "      <td>Não</td>\n",
              "    </tr>\n",
              "    <tr>\n",
              "      <th>1</th>\n",
              "      <td>Sim</td>\n",
              "      <td>Sim</td>\n",
              "    </tr>\n",
              "    <tr>\n",
              "      <th>2</th>\n",
              "      <td>Sim</td>\n",
              "      <td>Não</td>\n",
              "    </tr>\n",
              "    <tr>\n",
              "      <th>3</th>\n",
              "      <td>Sim</td>\n",
              "      <td>Não</td>\n",
              "    </tr>\n",
              "    <tr>\n",
              "      <th>4</th>\n",
              "      <td>Sim</td>\n",
              "      <td>Não</td>\n",
              "    </tr>\n",
              "    <tr>\n",
              "      <th>...</th>\n",
              "      <td>...</td>\n",
              "      <td>...</td>\n",
              "    </tr>\n",
              "    <tr>\n",
              "      <th>7262</th>\n",
              "      <td>Sim</td>\n",
              "      <td>Não</td>\n",
              "    </tr>\n",
              "    <tr>\n",
              "      <th>7263</th>\n",
              "      <td>Sim</td>\n",
              "      <td>Sim</td>\n",
              "    </tr>\n",
              "    <tr>\n",
              "      <th>7264</th>\n",
              "      <td>Sim</td>\n",
              "      <td>Não</td>\n",
              "    </tr>\n",
              "    <tr>\n",
              "      <th>7265</th>\n",
              "      <td>Sim</td>\n",
              "      <td>Não</td>\n",
              "    </tr>\n",
              "    <tr>\n",
              "      <th>7266</th>\n",
              "      <td>Não</td>\n",
              "      <td>Sem serviço de Telefone</td>\n",
              "    </tr>\n",
              "  </tbody>\n",
              "</table>\n",
              "<p>7267 rows × 2 columns</p>\n",
              "</div>\n",
              "      <button class=\"colab-df-convert\" onclick=\"convertToInteractive('df-cd4ac616-8a9b-45b2-94b3-ecc489c14f27')\"\n",
              "              title=\"Convert this dataframe to an interactive table.\"\n",
              "              style=\"display:none;\">\n",
              "        \n",
              "  <svg xmlns=\"http://www.w3.org/2000/svg\" height=\"24px\"viewBox=\"0 0 24 24\"\n",
              "       width=\"24px\">\n",
              "    <path d=\"M0 0h24v24H0V0z\" fill=\"none\"/>\n",
              "    <path d=\"M18.56 5.44l.94 2.06.94-2.06 2.06-.94-2.06-.94-.94-2.06-.94 2.06-2.06.94zm-11 1L8.5 8.5l.94-2.06 2.06-.94-2.06-.94L8.5 2.5l-.94 2.06-2.06.94zm10 10l.94 2.06.94-2.06 2.06-.94-2.06-.94-.94-2.06-.94 2.06-2.06.94z\"/><path d=\"M17.41 7.96l-1.37-1.37c-.4-.4-.92-.59-1.43-.59-.52 0-1.04.2-1.43.59L10.3 9.45l-7.72 7.72c-.78.78-.78 2.05 0 2.83L4 21.41c.39.39.9.59 1.41.59.51 0 1.02-.2 1.41-.59l7.78-7.78 2.81-2.81c.8-.78.8-2.07 0-2.86zM5.41 20L4 18.59l7.72-7.72 1.47 1.35L5.41 20z\"/>\n",
              "  </svg>\n",
              "      </button>\n",
              "      \n",
              "  <style>\n",
              "    .colab-df-container {\n",
              "      display:flex;\n",
              "      flex-wrap:wrap;\n",
              "      gap: 12px;\n",
              "    }\n",
              "\n",
              "    .colab-df-convert {\n",
              "      background-color: #E8F0FE;\n",
              "      border: none;\n",
              "      border-radius: 50%;\n",
              "      cursor: pointer;\n",
              "      display: none;\n",
              "      fill: #1967D2;\n",
              "      height: 32px;\n",
              "      padding: 0 0 0 0;\n",
              "      width: 32px;\n",
              "    }\n",
              "\n",
              "    .colab-df-convert:hover {\n",
              "      background-color: #E2EBFA;\n",
              "      box-shadow: 0px 1px 2px rgba(60, 64, 67, 0.3), 0px 1px 3px 1px rgba(60, 64, 67, 0.15);\n",
              "      fill: #174EA6;\n",
              "    }\n",
              "\n",
              "    [theme=dark] .colab-df-convert {\n",
              "      background-color: #3B4455;\n",
              "      fill: #D2E3FC;\n",
              "    }\n",
              "\n",
              "    [theme=dark] .colab-df-convert:hover {\n",
              "      background-color: #434B5C;\n",
              "      box-shadow: 0px 1px 3px 1px rgba(0, 0, 0, 0.15);\n",
              "      filter: drop-shadow(0px 1px 2px rgba(0, 0, 0, 0.3));\n",
              "      fill: #FFFFFF;\n",
              "    }\n",
              "  </style>\n",
              "\n",
              "      <script>\n",
              "        const buttonEl =\n",
              "          document.querySelector('#df-cd4ac616-8a9b-45b2-94b3-ecc489c14f27 button.colab-df-convert');\n",
              "        buttonEl.style.display =\n",
              "          google.colab.kernel.accessAllowed ? 'block' : 'none';\n",
              "\n",
              "        async function convertToInteractive(key) {\n",
              "          const element = document.querySelector('#df-cd4ac616-8a9b-45b2-94b3-ecc489c14f27');\n",
              "          const dataTable =\n",
              "            await google.colab.kernel.invokeFunction('convertToInteractive',\n",
              "                                                     [key], {});\n",
              "          if (!dataTable) return;\n",
              "\n",
              "          const docLinkHtml = 'Like what you see? Visit the ' +\n",
              "            '<a target=\"_blank\" href=https://colab.research.google.com/notebooks/data_table.ipynb>data table notebook</a>'\n",
              "            + ' to learn more about interactive tables.';\n",
              "          element.innerHTML = '';\n",
              "          dataTable['output_type'] = 'display_data';\n",
              "          await google.colab.output.renderOutput(dataTable, element);\n",
              "          const docLink = document.createElement('div');\n",
              "          docLink.innerHTML = docLinkHtml;\n",
              "          element.appendChild(docLink);\n",
              "        }\n",
              "      </script>\n",
              "    </div>\n",
              "  </div>\n",
              "  "
            ]
          },
          "metadata": {},
          "execution_count": 29
        }
      ]
    },
    {
      "cell_type": "code",
      "source": [
        "#dropando a coluna para facilitar na hora de juntar\n",
        "clientes.drop(columns = ['Telefone'], inplace=True)"
      ],
      "metadata": {
        "id": "hSUjaw8ftCvD"
      },
      "execution_count": 30,
      "outputs": []
    },
    {
      "cell_type": "markdown",
      "source": [
        "\n",
        "### Coluna: Internet"
      ],
      "metadata": {
        "id": "BScBPxDbdUSN"
      }
    },
    {
      "cell_type": "code",
      "source": [
        "clientes_internet"
      ],
      "metadata": {
        "colab": {
          "base_uri": "https://localhost:8080/",
          "height": 424
        },
        "id": "nd1utGA_tAVy",
        "outputId": "2d768dfb-9b56-4e3d-c4f2-966f36e30339"
      },
      "execution_count": 31,
      "outputs": [
        {
          "output_type": "execute_result",
          "data": {
            "text/plain": [
              "Id   Serviço de Internet Seguro Online Backup Online Proteção do Dispositivo  \\\n",
              "0                    DSL            No           Yes                      No   \n",
              "1                    DSL            No            No                      No   \n",
              "2            Fiber optic            No            No                     Yes   \n",
              "3            Fiber optic            No           Yes                     Yes   \n",
              "4            Fiber optic            No            No                      No   \n",
              "...                  ...           ...           ...                     ...   \n",
              "7262                 DSL           Yes            No                      No   \n",
              "7263         Fiber optic            No            No                      No   \n",
              "7264                 DSL            No           Yes                      No   \n",
              "7265                 DSL           Yes            No                     Yes   \n",
              "7266                 DSL           Yes           Yes                     Yes   \n",
              "\n",
              "Id   Suporte Técnico Streaming de Tv Streaming de Filmes  \n",
              "0                Yes             Yes                  No  \n",
              "1                 No              No                 Yes  \n",
              "2                 No              No                  No  \n",
              "3                 No             Yes                 Yes  \n",
              "4                Yes             Yes                  No  \n",
              "...              ...             ...                 ...  \n",
              "7262             Yes              No                  No  \n",
              "7263              No              No                 Yes  \n",
              "7264              No              No                  No  \n",
              "7265             Yes              No                 Yes  \n",
              "7266              No             Yes                 Yes  \n",
              "\n",
              "[7267 rows x 7 columns]"
            ],
            "text/html": [
              "\n",
              "  <div id=\"df-a4d400a6-1e81-4aef-94ce-a62b1ac8146e\">\n",
              "    <div class=\"colab-df-container\">\n",
              "      <div>\n",
              "<style scoped>\n",
              "    .dataframe tbody tr th:only-of-type {\n",
              "        vertical-align: middle;\n",
              "    }\n",
              "\n",
              "    .dataframe tbody tr th {\n",
              "        vertical-align: top;\n",
              "    }\n",
              "\n",
              "    .dataframe thead th {\n",
              "        text-align: right;\n",
              "    }\n",
              "</style>\n",
              "<table border=\"1\" class=\"dataframe\">\n",
              "  <thead>\n",
              "    <tr style=\"text-align: right;\">\n",
              "      <th>Id</th>\n",
              "      <th>Serviço de Internet</th>\n",
              "      <th>Seguro Online</th>\n",
              "      <th>Backup Online</th>\n",
              "      <th>Proteção do Dispositivo</th>\n",
              "      <th>Suporte Técnico</th>\n",
              "      <th>Streaming de Tv</th>\n",
              "      <th>Streaming de Filmes</th>\n",
              "    </tr>\n",
              "  </thead>\n",
              "  <tbody>\n",
              "    <tr>\n",
              "      <th>0</th>\n",
              "      <td>DSL</td>\n",
              "      <td>No</td>\n",
              "      <td>Yes</td>\n",
              "      <td>No</td>\n",
              "      <td>Yes</td>\n",
              "      <td>Yes</td>\n",
              "      <td>No</td>\n",
              "    </tr>\n",
              "    <tr>\n",
              "      <th>1</th>\n",
              "      <td>DSL</td>\n",
              "      <td>No</td>\n",
              "      <td>No</td>\n",
              "      <td>No</td>\n",
              "      <td>No</td>\n",
              "      <td>No</td>\n",
              "      <td>Yes</td>\n",
              "    </tr>\n",
              "    <tr>\n",
              "      <th>2</th>\n",
              "      <td>Fiber optic</td>\n",
              "      <td>No</td>\n",
              "      <td>No</td>\n",
              "      <td>Yes</td>\n",
              "      <td>No</td>\n",
              "      <td>No</td>\n",
              "      <td>No</td>\n",
              "    </tr>\n",
              "    <tr>\n",
              "      <th>3</th>\n",
              "      <td>Fiber optic</td>\n",
              "      <td>No</td>\n",
              "      <td>Yes</td>\n",
              "      <td>Yes</td>\n",
              "      <td>No</td>\n",
              "      <td>Yes</td>\n",
              "      <td>Yes</td>\n",
              "    </tr>\n",
              "    <tr>\n",
              "      <th>4</th>\n",
              "      <td>Fiber optic</td>\n",
              "      <td>No</td>\n",
              "      <td>No</td>\n",
              "      <td>No</td>\n",
              "      <td>Yes</td>\n",
              "      <td>Yes</td>\n",
              "      <td>No</td>\n",
              "    </tr>\n",
              "    <tr>\n",
              "      <th>...</th>\n",
              "      <td>...</td>\n",
              "      <td>...</td>\n",
              "      <td>...</td>\n",
              "      <td>...</td>\n",
              "      <td>...</td>\n",
              "      <td>...</td>\n",
              "      <td>...</td>\n",
              "    </tr>\n",
              "    <tr>\n",
              "      <th>7262</th>\n",
              "      <td>DSL</td>\n",
              "      <td>Yes</td>\n",
              "      <td>No</td>\n",
              "      <td>No</td>\n",
              "      <td>Yes</td>\n",
              "      <td>No</td>\n",
              "      <td>No</td>\n",
              "    </tr>\n",
              "    <tr>\n",
              "      <th>7263</th>\n",
              "      <td>Fiber optic</td>\n",
              "      <td>No</td>\n",
              "      <td>No</td>\n",
              "      <td>No</td>\n",
              "      <td>No</td>\n",
              "      <td>No</td>\n",
              "      <td>Yes</td>\n",
              "    </tr>\n",
              "    <tr>\n",
              "      <th>7264</th>\n",
              "      <td>DSL</td>\n",
              "      <td>No</td>\n",
              "      <td>Yes</td>\n",
              "      <td>No</td>\n",
              "      <td>No</td>\n",
              "      <td>No</td>\n",
              "      <td>No</td>\n",
              "    </tr>\n",
              "    <tr>\n",
              "      <th>7265</th>\n",
              "      <td>DSL</td>\n",
              "      <td>Yes</td>\n",
              "      <td>No</td>\n",
              "      <td>Yes</td>\n",
              "      <td>Yes</td>\n",
              "      <td>No</td>\n",
              "      <td>Yes</td>\n",
              "    </tr>\n",
              "    <tr>\n",
              "      <th>7266</th>\n",
              "      <td>DSL</td>\n",
              "      <td>Yes</td>\n",
              "      <td>Yes</td>\n",
              "      <td>Yes</td>\n",
              "      <td>No</td>\n",
              "      <td>Yes</td>\n",
              "      <td>Yes</td>\n",
              "    </tr>\n",
              "  </tbody>\n",
              "</table>\n",
              "<p>7267 rows × 7 columns</p>\n",
              "</div>\n",
              "      <button class=\"colab-df-convert\" onclick=\"convertToInteractive('df-a4d400a6-1e81-4aef-94ce-a62b1ac8146e')\"\n",
              "              title=\"Convert this dataframe to an interactive table.\"\n",
              "              style=\"display:none;\">\n",
              "        \n",
              "  <svg xmlns=\"http://www.w3.org/2000/svg\" height=\"24px\"viewBox=\"0 0 24 24\"\n",
              "       width=\"24px\">\n",
              "    <path d=\"M0 0h24v24H0V0z\" fill=\"none\"/>\n",
              "    <path d=\"M18.56 5.44l.94 2.06.94-2.06 2.06-.94-2.06-.94-.94-2.06-.94 2.06-2.06.94zm-11 1L8.5 8.5l.94-2.06 2.06-.94-2.06-.94L8.5 2.5l-.94 2.06-2.06.94zm10 10l.94 2.06.94-2.06 2.06-.94-2.06-.94-.94-2.06-.94 2.06-2.06.94z\"/><path d=\"M17.41 7.96l-1.37-1.37c-.4-.4-.92-.59-1.43-.59-.52 0-1.04.2-1.43.59L10.3 9.45l-7.72 7.72c-.78.78-.78 2.05 0 2.83L4 21.41c.39.39.9.59 1.41.59.51 0 1.02-.2 1.41-.59l7.78-7.78 2.81-2.81c.8-.78.8-2.07 0-2.86zM5.41 20L4 18.59l7.72-7.72 1.47 1.35L5.41 20z\"/>\n",
              "  </svg>\n",
              "      </button>\n",
              "      \n",
              "  <style>\n",
              "    .colab-df-container {\n",
              "      display:flex;\n",
              "      flex-wrap:wrap;\n",
              "      gap: 12px;\n",
              "    }\n",
              "\n",
              "    .colab-df-convert {\n",
              "      background-color: #E8F0FE;\n",
              "      border: none;\n",
              "      border-radius: 50%;\n",
              "      cursor: pointer;\n",
              "      display: none;\n",
              "      fill: #1967D2;\n",
              "      height: 32px;\n",
              "      padding: 0 0 0 0;\n",
              "      width: 32px;\n",
              "    }\n",
              "\n",
              "    .colab-df-convert:hover {\n",
              "      background-color: #E2EBFA;\n",
              "      box-shadow: 0px 1px 2px rgba(60, 64, 67, 0.3), 0px 1px 3px 1px rgba(60, 64, 67, 0.15);\n",
              "      fill: #174EA6;\n",
              "    }\n",
              "\n",
              "    [theme=dark] .colab-df-convert {\n",
              "      background-color: #3B4455;\n",
              "      fill: #D2E3FC;\n",
              "    }\n",
              "\n",
              "    [theme=dark] .colab-df-convert:hover {\n",
              "      background-color: #434B5C;\n",
              "      box-shadow: 0px 1px 3px 1px rgba(0, 0, 0, 0.15);\n",
              "      filter: drop-shadow(0px 1px 2px rgba(0, 0, 0, 0.3));\n",
              "      fill: #FFFFFF;\n",
              "    }\n",
              "  </style>\n",
              "\n",
              "      <script>\n",
              "        const buttonEl =\n",
              "          document.querySelector('#df-a4d400a6-1e81-4aef-94ce-a62b1ac8146e button.colab-df-convert');\n",
              "        buttonEl.style.display =\n",
              "          google.colab.kernel.accessAllowed ? 'block' : 'none';\n",
              "\n",
              "        async function convertToInteractive(key) {\n",
              "          const element = document.querySelector('#df-a4d400a6-1e81-4aef-94ce-a62b1ac8146e');\n",
              "          const dataTable =\n",
              "            await google.colab.kernel.invokeFunction('convertToInteractive',\n",
              "                                                     [key], {});\n",
              "          if (!dataTable) return;\n",
              "\n",
              "          const docLinkHtml = 'Like what you see? Visit the ' +\n",
              "            '<a target=\"_blank\" href=https://colab.research.google.com/notebooks/data_table.ipynb>data table notebook</a>'\n",
              "            + ' to learn more about interactive tables.';\n",
              "          element.innerHTML = '';\n",
              "          dataTable['output_type'] = 'display_data';\n",
              "          await google.colab.output.renderOutput(dataTable, element);\n",
              "          const docLink = document.createElement('div');\n",
              "          docLink.innerHTML = docLinkHtml;\n",
              "          element.appendChild(docLink);\n",
              "        }\n",
              "      </script>\n",
              "    </div>\n",
              "  </div>\n",
              "  "
            ]
          },
          "metadata": {},
          "execution_count": 31
        }
      ]
    },
    {
      "cell_type": "markdown",
      "source": [
        "#### Serviço de Internet"
      ],
      "metadata": {
        "id": "-wKL45lYeQ5k"
      }
    },
    {
      "cell_type": "code",
      "source": [
        "clientes_internet['Serviço de Internet'].describe()"
      ],
      "metadata": {
        "colab": {
          "base_uri": "https://localhost:8080/"
        },
        "id": "xr6F6TuEeapZ",
        "outputId": "65e4c167-6747-43d6-cf4d-3dad1bcb918f"
      },
      "execution_count": 32,
      "outputs": [
        {
          "output_type": "execute_result",
          "data": {
            "text/plain": [
              "count            7267\n",
              "unique              3\n",
              "top       Fiber optic\n",
              "freq             3198\n",
              "Name: Serviço de Internet, dtype: object"
            ]
          },
          "metadata": {},
          "execution_count": 32
        }
      ]
    },
    {
      "cell_type": "code",
      "source": [
        "clientes_internet['Serviço de Internet'].unique()"
      ],
      "metadata": {
        "colab": {
          "base_uri": "https://localhost:8080/"
        },
        "id": "kBAx6k_cTfsX",
        "outputId": "9c6cac00-8a64-4925-d387-0d7e97195e1d"
      },
      "execution_count": 33,
      "outputs": [
        {
          "output_type": "execute_result",
          "data": {
            "text/plain": [
              "array(['DSL', 'Fiber optic', 'No'], dtype=object)"
            ]
          },
          "metadata": {},
          "execution_count": 33
        }
      ]
    },
    {
      "cell_type": "markdown",
      "source": [
        "\n",
        "A coluna `Serviço de Internet`  traz as opções `DSL`, `Fiber optic` e `No`. \n",
        "\n",
        "Traduzindo: `Fibra ótica ` e `Não`.\n",
        "\n",
        "Esta coluna informa se o cliente possui assinatura de serviço de internet.\n"
      ],
      "metadata": {
        "id": "XPhEC_VRfAty"
      }
    },
    {
      "cell_type": "markdown",
      "source": [
        "#### Seguro Online"
      ],
      "metadata": {
        "id": "oc148_htvv_j"
      }
    },
    {
      "cell_type": "code",
      "source": [
        "clientes_internet['Seguro Online'].describe()"
      ],
      "metadata": {
        "colab": {
          "base_uri": "https://localhost:8080/"
        },
        "id": "RwuwruSLUUKe",
        "outputId": "85152adc-abc5-4e90-bd42-3329f8591a09"
      },
      "execution_count": 34,
      "outputs": [
        {
          "output_type": "execute_result",
          "data": {
            "text/plain": [
              "count     7267\n",
              "unique       3\n",
              "top         No\n",
              "freq      3608\n",
              "Name: Seguro Online, dtype: object"
            ]
          },
          "metadata": {},
          "execution_count": 34
        }
      ]
    },
    {
      "cell_type": "code",
      "source": [
        "clientes_internet['Seguro Online'].unique()"
      ],
      "metadata": {
        "colab": {
          "base_uri": "https://localhost:8080/"
        },
        "outputId": "b64b8b6d-04c2-41ca-c4fa-1ed1fe1687f5",
        "id": "Suxa_lygfTLW"
      },
      "execution_count": 35,
      "outputs": [
        {
          "output_type": "execute_result",
          "data": {
            "text/plain": [
              "array(['No', 'Yes', 'No internet service'], dtype=object)"
            ]
          },
          "metadata": {},
          "execution_count": 35
        }
      ]
    },
    {
      "cell_type": "markdown",
      "source": [
        "A coluna `Seguro Online`  traz as opções `No`, `Yes` e `No Internet service`. \n",
        "\n",
        "Traduzindo: `Não`, `Sim`  e `Sem Serviço de Internet`.\n",
        "\n",
        "Esta coluna informa se o cliente possui assinatura adicional de seguro online.\n",
        "\n",
        "Esta coluna passara futuramente por uma análise, mas aprofundada para identificar se há alguma inconsistência em relação a variável `Sem serviço de Internet`, pois ela não poderá aparecer quando a coluna `Serviço de Internet` for `Sim` \n",
        "\n"
      ],
      "metadata": {
        "id": "l3s1rwNufgot"
      }
    },
    {
      "cell_type": "markdown",
      "source": [
        "#### Backup Online"
      ],
      "metadata": {
        "id": "I9VKQ-9dtQuK"
      }
    },
    {
      "cell_type": "code",
      "source": [
        "clientes_internet['Backup Online'].describe()"
      ],
      "metadata": {
        "colab": {
          "base_uri": "https://localhost:8080/"
        },
        "id": "lJuhAoJAUURq",
        "outputId": "7270b255-31d7-4415-fd31-fa2cf105713a"
      },
      "execution_count": 36,
      "outputs": [
        {
          "output_type": "execute_result",
          "data": {
            "text/plain": [
              "count     7267\n",
              "unique       3\n",
              "top         No\n",
              "freq      3182\n",
              "Name: Backup Online, dtype: object"
            ]
          },
          "metadata": {},
          "execution_count": 36
        }
      ]
    },
    {
      "cell_type": "code",
      "source": [
        "clientes_internet['Backup Online'].unique()"
      ],
      "metadata": {
        "colab": {
          "base_uri": "https://localhost:8080/"
        },
        "outputId": "43ed85d8-d21d-466c-a11b-44cc9bef196e",
        "id": "SoJL0cMEtXv9"
      },
      "execution_count": 37,
      "outputs": [
        {
          "output_type": "execute_result",
          "data": {
            "text/plain": [
              "array(['Yes', 'No', 'No internet service'], dtype=object)"
            ]
          },
          "metadata": {},
          "execution_count": 37
        }
      ]
    },
    {
      "cell_type": "markdown",
      "source": [
        "A coluna `Backup Online`  traz as opções `Yes`, `No` e `No Internet service`. \n",
        "\n",
        "Traduzindo: `Sim`, `Não`  e `Sem Serviço de Internet`.\n",
        "\n",
        "Esta coluna informa se o cliente possui assinatura adicional de um backup online.\n",
        "\n",
        "Esta coluna passara futuramente por uma análise, mas aprofundada para identificar se há alguma inconsistência em relação a variável `Sem serviço de Internet`, pois ela não poderá aparecer quando a coluna `Serviço de Internet` for `Sim`\n"
      ],
      "metadata": {
        "id": "2pH1INMsuTLJ"
      }
    },
    {
      "cell_type": "markdown",
      "source": [
        "#### Proteção do Dispositivo"
      ],
      "metadata": {
        "id": "mHDOe1x-v3k0"
      }
    },
    {
      "cell_type": "code",
      "source": [
        "clientes_internet['Proteção do Dispositivo'].describe()"
      ],
      "metadata": {
        "colab": {
          "base_uri": "https://localhost:8080/"
        },
        "id": "Zp_sZLzBUUYO",
        "outputId": "8f06ed2e-c663-4c06-9f79-587f5c0b9dd3"
      },
      "execution_count": 38,
      "outputs": [
        {
          "output_type": "execute_result",
          "data": {
            "text/plain": [
              "count     7267\n",
              "unique       3\n",
              "top         No\n",
              "freq      3195\n",
              "Name: Proteção do Dispositivo, dtype: object"
            ]
          },
          "metadata": {},
          "execution_count": 38
        }
      ]
    },
    {
      "cell_type": "code",
      "source": [
        "clientes_internet['Proteção do Dispositivo'].unique()"
      ],
      "metadata": {
        "colab": {
          "base_uri": "https://localhost:8080/"
        },
        "outputId": "de409a44-83c0-4997-a556-dee80925e813",
        "id": "sJVoWSDewAsD"
      },
      "execution_count": 39,
      "outputs": [
        {
          "output_type": "execute_result",
          "data": {
            "text/plain": [
              "array(['No', 'Yes', 'No internet service'], dtype=object)"
            ]
          },
          "metadata": {},
          "execution_count": 39
        }
      ]
    },
    {
      "cell_type": "markdown",
      "source": [
        "A coluna `Proteção do Dispositivo`  traz as opções `No`, `Yes` e `No Internet service`. \n",
        "\n",
        "Traduzindo: `Não`, `Sim` e `Sem Serviço de Internet`.\n",
        "\n",
        "Esta coluna informa se o cliente possui assinatura adicional de proteção no dispositivo.\n",
        "\n",
        "Esta coluna passara futuramente por uma análise, mas aprofundada para identificar se há alguma inconsistência em relação a variável `Sem serviço de Internet`, pois ela não poderá aparecer quando a coluna `Serviço de Internet` for `Sim`\n"
      ],
      "metadata": {
        "id": "FGq4A0-PwhmB"
      }
    },
    {
      "cell_type": "markdown",
      "source": [
        "#### Superte Técnico"
      ],
      "metadata": {
        "id": "lfDneI0WyNbF"
      }
    },
    {
      "cell_type": "code",
      "source": [
        "clientes_internet['Suporte Técnico'].describe()"
      ],
      "metadata": {
        "colab": {
          "base_uri": "https://localhost:8080/"
        },
        "id": "Kpj_BIJpUUeC",
        "outputId": "5a365d22-5da4-4bc6-ccb9-4a13f8fbf788"
      },
      "execution_count": 40,
      "outputs": [
        {
          "output_type": "execute_result",
          "data": {
            "text/plain": [
              "count     7267\n",
              "unique       3\n",
              "top         No\n",
              "freq      3582\n",
              "Name: Suporte Técnico, dtype: object"
            ]
          },
          "metadata": {},
          "execution_count": 40
        }
      ]
    },
    {
      "cell_type": "code",
      "source": [
        "clientes_internet['Suporte Técnico'].unique()"
      ],
      "metadata": {
        "colab": {
          "base_uri": "https://localhost:8080/"
        },
        "outputId": "621439fb-f488-4b5b-e2e8-a45a48e471c8",
        "id": "R0-_lr0IxLHN"
      },
      "execution_count": 41,
      "outputs": [
        {
          "output_type": "execute_result",
          "data": {
            "text/plain": [
              "array(['Yes', 'No', 'No internet service'], dtype=object)"
            ]
          },
          "metadata": {},
          "execution_count": 41
        }
      ]
    },
    {
      "cell_type": "markdown",
      "source": [
        "A coluna `Suporte Técnico`  traz as opções `Yes`, `No` e `No Internet service`. \n",
        "\n",
        "Traduzindo: `Sim`, `Não` e `Sem Serviço de Internet`.\n",
        "\n",
        "Esta coluna informa se o cliente possui assinatura adicional suporte técnico.\n",
        "\n",
        "Esta coluna passara futuramente por uma análise, mas aprofundada para identificar se há alguma inconsistência em relação a variável `Sem serviço de Internet`, pois ela não poderá aparecer quando a coluna `Serviço de Internet` for `Sim`\n"
      ],
      "metadata": {
        "id": "vIXWxA8ByEYU"
      }
    },
    {
      "cell_type": "markdown",
      "source": [
        "#### Streaming de Tv"
      ],
      "metadata": {
        "id": "HZW5jqe1ySLR"
      }
    },
    {
      "cell_type": "code",
      "source": [
        "clientes_internet['Streaming de Tv'].describe()"
      ],
      "metadata": {
        "colab": {
          "base_uri": "https://localhost:8080/"
        },
        "id": "wwsmK5krUUkS",
        "outputId": "812583cc-53f0-4b18-ff8d-64933bf4248d"
      },
      "execution_count": 42,
      "outputs": [
        {
          "output_type": "execute_result",
          "data": {
            "text/plain": [
              "count     7267\n",
              "unique       3\n",
              "top         No\n",
              "freq      2896\n",
              "Name: Streaming de Tv, dtype: object"
            ]
          },
          "metadata": {},
          "execution_count": 42
        }
      ]
    },
    {
      "cell_type": "code",
      "source": [
        "clientes_internet['Streaming de Tv'].unique()"
      ],
      "metadata": {
        "colab": {
          "base_uri": "https://localhost:8080/"
        },
        "outputId": "65f46dac-071d-4a15-c7d0-17bd696a514b",
        "id": "cJV-0lkmyHqr"
      },
      "execution_count": 43,
      "outputs": [
        {
          "output_type": "execute_result",
          "data": {
            "text/plain": [
              "array(['Yes', 'No', 'No internet service'], dtype=object)"
            ]
          },
          "metadata": {},
          "execution_count": 43
        }
      ]
    },
    {
      "cell_type": "markdown",
      "source": [
        "A coluna `Streaming de Tv`  traz as opções `Yes`, `No` e `No Internet service`. \n",
        "\n",
        "Traduzindo: `Sim`, `Não` e `Sem Serviço de Internet`.\n",
        "\n",
        "Esta coluna informa se o cliente possui assinatura adicional TV a cabo."
      ],
      "metadata": {
        "id": "tE2b4eyPyZnL"
      }
    },
    {
      "cell_type": "code",
      "source": [
        "clientes_internet['Streaming de Filmes'].describe()"
      ],
      "metadata": {
        "colab": {
          "base_uri": "https://localhost:8080/"
        },
        "id": "Ew5O7kD7WWod",
        "outputId": "d0fd23ec-19c7-471e-d181-fa360470839a"
      },
      "execution_count": 44,
      "outputs": [
        {
          "output_type": "execute_result",
          "data": {
            "text/plain": [
              "count     7267\n",
              "unique       3\n",
              "top         No\n",
              "freq      2870\n",
              "Name: Streaming de Filmes, dtype: object"
            ]
          },
          "metadata": {},
          "execution_count": 44
        }
      ]
    },
    {
      "cell_type": "code",
      "source": [
        "clientes_internet['Streaming de Filmes'].unique()"
      ],
      "metadata": {
        "colab": {
          "base_uri": "https://localhost:8080/"
        },
        "outputId": "97a4a17e-e35c-4cf1-e57e-01f7ba4f0953",
        "id": "Ly5qe5imyqLb"
      },
      "execution_count": 45,
      "outputs": [
        {
          "output_type": "execute_result",
          "data": {
            "text/plain": [
              "array(['No', 'Yes', 'No internet service'], dtype=object)"
            ]
          },
          "metadata": {},
          "execution_count": 45
        }
      ]
    },
    {
      "cell_type": "markdown",
      "source": [
        "A coluna `Streaming de Filmes`  traz as opções `No`, `Yes` e `No Internet service`. \n",
        "\n",
        "Traduzindo: `Não`, `Sim` e `Sem Serviço de Internet`.\n",
        "\n",
        "Esta coluna informa se o cliente possui assinatura adicional streaming de filmes\n",
        "\n",
        "Esta coluna passara futuramente por uma análise, mas aprofundada para identificar se há alguma inconsistência em relação a variável `Sem serviço de Internet`, pois ela não poderá aparecer quando a coluna `Serviço de Internet` for `Sim`"
      ],
      "metadata": {
        "id": "4CsLIK0ZywTj"
      }
    },
    {
      "cell_type": "code",
      "source": [
        "#Tradução\n",
        "clientes_internet['Serviço de Internet']  = clientes_internet['Serviço de Internet'].map({'DSL':'DSL','Fiber optic' : 'Fibra Optica ', 'No': 'Não Possui'})\n",
        "nomes = [i for i in clientes_internet.columns]\n",
        "del(nomes[0])\n",
        "for i in nomes:\n",
        "  clientes_internet[i] = clientes_internet[i].map({'Yes': 'Sim', 'No' : 'Não', 'No internet service' : 'Sem serviço de Internet'})\n",
        "clientes_internet"
      ],
      "metadata": {
        "colab": {
          "base_uri": "https://localhost:8080/",
          "height": 424
        },
        "id": "Fr3kZhg_rVt_",
        "outputId": "0268c8aa-f51a-49e1-b701-2f44c1844d8e"
      },
      "execution_count": 46,
      "outputs": [
        {
          "output_type": "execute_result",
          "data": {
            "text/plain": [
              "Id   Serviço de Internet Seguro Online Backup Online Proteção do Dispositivo  \\\n",
              "0                    DSL           Não           Sim                     Não   \n",
              "1                    DSL           Não           Não                     Não   \n",
              "2          Fibra Optica            Não           Não                     Sim   \n",
              "3          Fibra Optica            Não           Sim                     Sim   \n",
              "4          Fibra Optica            Não           Não                     Não   \n",
              "...                  ...           ...           ...                     ...   \n",
              "7262                 DSL           Sim           Não                     Não   \n",
              "7263       Fibra Optica            Não           Não                     Não   \n",
              "7264                 DSL           Não           Sim                     Não   \n",
              "7265                 DSL           Sim           Não                     Sim   \n",
              "7266                 DSL           Sim           Sim                     Sim   \n",
              "\n",
              "Id   Suporte Técnico Streaming de Tv Streaming de Filmes  \n",
              "0                Sim             Sim                 Não  \n",
              "1                Não             Não                 Sim  \n",
              "2                Não             Não                 Não  \n",
              "3                Não             Sim                 Sim  \n",
              "4                Sim             Sim                 Não  \n",
              "...              ...             ...                 ...  \n",
              "7262             Sim             Não                 Não  \n",
              "7263             Não             Não                 Sim  \n",
              "7264             Não             Não                 Não  \n",
              "7265             Sim             Não                 Sim  \n",
              "7266             Não             Sim                 Sim  \n",
              "\n",
              "[7267 rows x 7 columns]"
            ],
            "text/html": [
              "\n",
              "  <div id=\"df-7f210ef9-9836-4b87-b031-9f2c291e0ad4\">\n",
              "    <div class=\"colab-df-container\">\n",
              "      <div>\n",
              "<style scoped>\n",
              "    .dataframe tbody tr th:only-of-type {\n",
              "        vertical-align: middle;\n",
              "    }\n",
              "\n",
              "    .dataframe tbody tr th {\n",
              "        vertical-align: top;\n",
              "    }\n",
              "\n",
              "    .dataframe thead th {\n",
              "        text-align: right;\n",
              "    }\n",
              "</style>\n",
              "<table border=\"1\" class=\"dataframe\">\n",
              "  <thead>\n",
              "    <tr style=\"text-align: right;\">\n",
              "      <th>Id</th>\n",
              "      <th>Serviço de Internet</th>\n",
              "      <th>Seguro Online</th>\n",
              "      <th>Backup Online</th>\n",
              "      <th>Proteção do Dispositivo</th>\n",
              "      <th>Suporte Técnico</th>\n",
              "      <th>Streaming de Tv</th>\n",
              "      <th>Streaming de Filmes</th>\n",
              "    </tr>\n",
              "  </thead>\n",
              "  <tbody>\n",
              "    <tr>\n",
              "      <th>0</th>\n",
              "      <td>DSL</td>\n",
              "      <td>Não</td>\n",
              "      <td>Sim</td>\n",
              "      <td>Não</td>\n",
              "      <td>Sim</td>\n",
              "      <td>Sim</td>\n",
              "      <td>Não</td>\n",
              "    </tr>\n",
              "    <tr>\n",
              "      <th>1</th>\n",
              "      <td>DSL</td>\n",
              "      <td>Não</td>\n",
              "      <td>Não</td>\n",
              "      <td>Não</td>\n",
              "      <td>Não</td>\n",
              "      <td>Não</td>\n",
              "      <td>Sim</td>\n",
              "    </tr>\n",
              "    <tr>\n",
              "      <th>2</th>\n",
              "      <td>Fibra Optica</td>\n",
              "      <td>Não</td>\n",
              "      <td>Não</td>\n",
              "      <td>Sim</td>\n",
              "      <td>Não</td>\n",
              "      <td>Não</td>\n",
              "      <td>Não</td>\n",
              "    </tr>\n",
              "    <tr>\n",
              "      <th>3</th>\n",
              "      <td>Fibra Optica</td>\n",
              "      <td>Não</td>\n",
              "      <td>Sim</td>\n",
              "      <td>Sim</td>\n",
              "      <td>Não</td>\n",
              "      <td>Sim</td>\n",
              "      <td>Sim</td>\n",
              "    </tr>\n",
              "    <tr>\n",
              "      <th>4</th>\n",
              "      <td>Fibra Optica</td>\n",
              "      <td>Não</td>\n",
              "      <td>Não</td>\n",
              "      <td>Não</td>\n",
              "      <td>Sim</td>\n",
              "      <td>Sim</td>\n",
              "      <td>Não</td>\n",
              "    </tr>\n",
              "    <tr>\n",
              "      <th>...</th>\n",
              "      <td>...</td>\n",
              "      <td>...</td>\n",
              "      <td>...</td>\n",
              "      <td>...</td>\n",
              "      <td>...</td>\n",
              "      <td>...</td>\n",
              "      <td>...</td>\n",
              "    </tr>\n",
              "    <tr>\n",
              "      <th>7262</th>\n",
              "      <td>DSL</td>\n",
              "      <td>Sim</td>\n",
              "      <td>Não</td>\n",
              "      <td>Não</td>\n",
              "      <td>Sim</td>\n",
              "      <td>Não</td>\n",
              "      <td>Não</td>\n",
              "    </tr>\n",
              "    <tr>\n",
              "      <th>7263</th>\n",
              "      <td>Fibra Optica</td>\n",
              "      <td>Não</td>\n",
              "      <td>Não</td>\n",
              "      <td>Não</td>\n",
              "      <td>Não</td>\n",
              "      <td>Não</td>\n",
              "      <td>Sim</td>\n",
              "    </tr>\n",
              "    <tr>\n",
              "      <th>7264</th>\n",
              "      <td>DSL</td>\n",
              "      <td>Não</td>\n",
              "      <td>Sim</td>\n",
              "      <td>Não</td>\n",
              "      <td>Não</td>\n",
              "      <td>Não</td>\n",
              "      <td>Não</td>\n",
              "    </tr>\n",
              "    <tr>\n",
              "      <th>7265</th>\n",
              "      <td>DSL</td>\n",
              "      <td>Sim</td>\n",
              "      <td>Não</td>\n",
              "      <td>Sim</td>\n",
              "      <td>Sim</td>\n",
              "      <td>Não</td>\n",
              "      <td>Sim</td>\n",
              "    </tr>\n",
              "    <tr>\n",
              "      <th>7266</th>\n",
              "      <td>DSL</td>\n",
              "      <td>Sim</td>\n",
              "      <td>Sim</td>\n",
              "      <td>Sim</td>\n",
              "      <td>Não</td>\n",
              "      <td>Sim</td>\n",
              "      <td>Sim</td>\n",
              "    </tr>\n",
              "  </tbody>\n",
              "</table>\n",
              "<p>7267 rows × 7 columns</p>\n",
              "</div>\n",
              "      <button class=\"colab-df-convert\" onclick=\"convertToInteractive('df-7f210ef9-9836-4b87-b031-9f2c291e0ad4')\"\n",
              "              title=\"Convert this dataframe to an interactive table.\"\n",
              "              style=\"display:none;\">\n",
              "        \n",
              "  <svg xmlns=\"http://www.w3.org/2000/svg\" height=\"24px\"viewBox=\"0 0 24 24\"\n",
              "       width=\"24px\">\n",
              "    <path d=\"M0 0h24v24H0V0z\" fill=\"none\"/>\n",
              "    <path d=\"M18.56 5.44l.94 2.06.94-2.06 2.06-.94-2.06-.94-.94-2.06-.94 2.06-2.06.94zm-11 1L8.5 8.5l.94-2.06 2.06-.94-2.06-.94L8.5 2.5l-.94 2.06-2.06.94zm10 10l.94 2.06.94-2.06 2.06-.94-2.06-.94-.94-2.06-.94 2.06-2.06.94z\"/><path d=\"M17.41 7.96l-1.37-1.37c-.4-.4-.92-.59-1.43-.59-.52 0-1.04.2-1.43.59L10.3 9.45l-7.72 7.72c-.78.78-.78 2.05 0 2.83L4 21.41c.39.39.9.59 1.41.59.51 0 1.02-.2 1.41-.59l7.78-7.78 2.81-2.81c.8-.78.8-2.07 0-2.86zM5.41 20L4 18.59l7.72-7.72 1.47 1.35L5.41 20z\"/>\n",
              "  </svg>\n",
              "      </button>\n",
              "      \n",
              "  <style>\n",
              "    .colab-df-container {\n",
              "      display:flex;\n",
              "      flex-wrap:wrap;\n",
              "      gap: 12px;\n",
              "    }\n",
              "\n",
              "    .colab-df-convert {\n",
              "      background-color: #E8F0FE;\n",
              "      border: none;\n",
              "      border-radius: 50%;\n",
              "      cursor: pointer;\n",
              "      display: none;\n",
              "      fill: #1967D2;\n",
              "      height: 32px;\n",
              "      padding: 0 0 0 0;\n",
              "      width: 32px;\n",
              "    }\n",
              "\n",
              "    .colab-df-convert:hover {\n",
              "      background-color: #E2EBFA;\n",
              "      box-shadow: 0px 1px 2px rgba(60, 64, 67, 0.3), 0px 1px 3px 1px rgba(60, 64, 67, 0.15);\n",
              "      fill: #174EA6;\n",
              "    }\n",
              "\n",
              "    [theme=dark] .colab-df-convert {\n",
              "      background-color: #3B4455;\n",
              "      fill: #D2E3FC;\n",
              "    }\n",
              "\n",
              "    [theme=dark] .colab-df-convert:hover {\n",
              "      background-color: #434B5C;\n",
              "      box-shadow: 0px 1px 3px 1px rgba(0, 0, 0, 0.15);\n",
              "      filter: drop-shadow(0px 1px 2px rgba(0, 0, 0, 0.3));\n",
              "      fill: #FFFFFF;\n",
              "    }\n",
              "  </style>\n",
              "\n",
              "      <script>\n",
              "        const buttonEl =\n",
              "          document.querySelector('#df-7f210ef9-9836-4b87-b031-9f2c291e0ad4 button.colab-df-convert');\n",
              "        buttonEl.style.display =\n",
              "          google.colab.kernel.accessAllowed ? 'block' : 'none';\n",
              "\n",
              "        async function convertToInteractive(key) {\n",
              "          const element = document.querySelector('#df-7f210ef9-9836-4b87-b031-9f2c291e0ad4');\n",
              "          const dataTable =\n",
              "            await google.colab.kernel.invokeFunction('convertToInteractive',\n",
              "                                                     [key], {});\n",
              "          if (!dataTable) return;\n",
              "\n",
              "          const docLinkHtml = 'Like what you see? Visit the ' +\n",
              "            '<a target=\"_blank\" href=https://colab.research.google.com/notebooks/data_table.ipynb>data table notebook</a>'\n",
              "            + ' to learn more about interactive tables.';\n",
              "          element.innerHTML = '';\n",
              "          dataTable['output_type'] = 'display_data';\n",
              "          await google.colab.output.renderOutput(dataTable, element);\n",
              "          const docLink = document.createElement('div');\n",
              "          docLink.innerHTML = docLinkHtml;\n",
              "          element.appendChild(docLink);\n",
              "        }\n",
              "      </script>\n",
              "    </div>\n",
              "  </div>\n",
              "  "
            ]
          },
          "metadata": {},
          "execution_count": 46
        }
      ]
    },
    {
      "cell_type": "code",
      "source": [
        "#dropando a coluna para facilitar na hora de juntar\n",
        "clientes.drop(columns = ['Internet'], inplace=True)"
      ],
      "metadata": {
        "id": "ufkuDWh8Wz6P"
      },
      "execution_count": 47,
      "outputs": []
    },
    {
      "cell_type": "markdown",
      "source": [
        "\n",
        "### Coluna: Conta"
      ],
      "metadata": {
        "id": "-cOvlQ5SzTv7"
      }
    },
    {
      "cell_type": "code",
      "source": [
        "clientes_conta"
      ],
      "metadata": {
        "colab": {
          "base_uri": "https://localhost:8080/",
          "height": 424
        },
        "id": "sEoRxWThXLbS",
        "outputId": "326ded3e-c129-4c07-b92f-bf41b51e68dd"
      },
      "execution_count": 48,
      "outputs": [
        {
          "output_type": "execute_result",
          "data": {
            "text/plain": [
              "Id   Tempo de Contrato Fatura sem Papel Metodo de Pagamento  Gasto Mensal  \\\n",
              "0             One year              Yes        Mailed check         65.60   \n",
              "1       Month-to-month               No        Mailed check         59.90   \n",
              "2       Month-to-month              Yes    Electronic check         73.90   \n",
              "3       Month-to-month              Yes    Electronic check         98.00   \n",
              "4       Month-to-month              Yes        Mailed check         83.90   \n",
              "...                ...              ...                 ...           ...   \n",
              "7262          One year               No        Mailed check         55.15   \n",
              "7263    Month-to-month              Yes    Electronic check         85.10   \n",
              "7264    Month-to-month              Yes        Mailed check         50.30   \n",
              "7265          Two year               No        Mailed check         67.85   \n",
              "7266          Two year               No    Electronic check         59.00   \n",
              "\n",
              "Id   Gasto Total  \n",
              "0          593.3  \n",
              "1          542.4  \n",
              "2         280.85  \n",
              "3        1237.85  \n",
              "4          267.4  \n",
              "...          ...  \n",
              "7262       742.9  \n",
              "7263      1873.7  \n",
              "7264       92.75  \n",
              "7265     4627.65  \n",
              "7266      3707.6  \n",
              "\n",
              "[7267 rows x 5 columns]"
            ],
            "text/html": [
              "\n",
              "  <div id=\"df-fd8c0cc4-9b74-4afb-b781-15265085ff43\">\n",
              "    <div class=\"colab-df-container\">\n",
              "      <div>\n",
              "<style scoped>\n",
              "    .dataframe tbody tr th:only-of-type {\n",
              "        vertical-align: middle;\n",
              "    }\n",
              "\n",
              "    .dataframe tbody tr th {\n",
              "        vertical-align: top;\n",
              "    }\n",
              "\n",
              "    .dataframe thead th {\n",
              "        text-align: right;\n",
              "    }\n",
              "</style>\n",
              "<table border=\"1\" class=\"dataframe\">\n",
              "  <thead>\n",
              "    <tr style=\"text-align: right;\">\n",
              "      <th>Id</th>\n",
              "      <th>Tempo de Contrato</th>\n",
              "      <th>Fatura sem Papel</th>\n",
              "      <th>Metodo de Pagamento</th>\n",
              "      <th>Gasto Mensal</th>\n",
              "      <th>Gasto Total</th>\n",
              "    </tr>\n",
              "  </thead>\n",
              "  <tbody>\n",
              "    <tr>\n",
              "      <th>0</th>\n",
              "      <td>One year</td>\n",
              "      <td>Yes</td>\n",
              "      <td>Mailed check</td>\n",
              "      <td>65.60</td>\n",
              "      <td>593.3</td>\n",
              "    </tr>\n",
              "    <tr>\n",
              "      <th>1</th>\n",
              "      <td>Month-to-month</td>\n",
              "      <td>No</td>\n",
              "      <td>Mailed check</td>\n",
              "      <td>59.90</td>\n",
              "      <td>542.4</td>\n",
              "    </tr>\n",
              "    <tr>\n",
              "      <th>2</th>\n",
              "      <td>Month-to-month</td>\n",
              "      <td>Yes</td>\n",
              "      <td>Electronic check</td>\n",
              "      <td>73.90</td>\n",
              "      <td>280.85</td>\n",
              "    </tr>\n",
              "    <tr>\n",
              "      <th>3</th>\n",
              "      <td>Month-to-month</td>\n",
              "      <td>Yes</td>\n",
              "      <td>Electronic check</td>\n",
              "      <td>98.00</td>\n",
              "      <td>1237.85</td>\n",
              "    </tr>\n",
              "    <tr>\n",
              "      <th>4</th>\n",
              "      <td>Month-to-month</td>\n",
              "      <td>Yes</td>\n",
              "      <td>Mailed check</td>\n",
              "      <td>83.90</td>\n",
              "      <td>267.4</td>\n",
              "    </tr>\n",
              "    <tr>\n",
              "      <th>...</th>\n",
              "      <td>...</td>\n",
              "      <td>...</td>\n",
              "      <td>...</td>\n",
              "      <td>...</td>\n",
              "      <td>...</td>\n",
              "    </tr>\n",
              "    <tr>\n",
              "      <th>7262</th>\n",
              "      <td>One year</td>\n",
              "      <td>No</td>\n",
              "      <td>Mailed check</td>\n",
              "      <td>55.15</td>\n",
              "      <td>742.9</td>\n",
              "    </tr>\n",
              "    <tr>\n",
              "      <th>7263</th>\n",
              "      <td>Month-to-month</td>\n",
              "      <td>Yes</td>\n",
              "      <td>Electronic check</td>\n",
              "      <td>85.10</td>\n",
              "      <td>1873.7</td>\n",
              "    </tr>\n",
              "    <tr>\n",
              "      <th>7264</th>\n",
              "      <td>Month-to-month</td>\n",
              "      <td>Yes</td>\n",
              "      <td>Mailed check</td>\n",
              "      <td>50.30</td>\n",
              "      <td>92.75</td>\n",
              "    </tr>\n",
              "    <tr>\n",
              "      <th>7265</th>\n",
              "      <td>Two year</td>\n",
              "      <td>No</td>\n",
              "      <td>Mailed check</td>\n",
              "      <td>67.85</td>\n",
              "      <td>4627.65</td>\n",
              "    </tr>\n",
              "    <tr>\n",
              "      <th>7266</th>\n",
              "      <td>Two year</td>\n",
              "      <td>No</td>\n",
              "      <td>Electronic check</td>\n",
              "      <td>59.00</td>\n",
              "      <td>3707.6</td>\n",
              "    </tr>\n",
              "  </tbody>\n",
              "</table>\n",
              "<p>7267 rows × 5 columns</p>\n",
              "</div>\n",
              "      <button class=\"colab-df-convert\" onclick=\"convertToInteractive('df-fd8c0cc4-9b74-4afb-b781-15265085ff43')\"\n",
              "              title=\"Convert this dataframe to an interactive table.\"\n",
              "              style=\"display:none;\">\n",
              "        \n",
              "  <svg xmlns=\"http://www.w3.org/2000/svg\" height=\"24px\"viewBox=\"0 0 24 24\"\n",
              "       width=\"24px\">\n",
              "    <path d=\"M0 0h24v24H0V0z\" fill=\"none\"/>\n",
              "    <path d=\"M18.56 5.44l.94 2.06.94-2.06 2.06-.94-2.06-.94-.94-2.06-.94 2.06-2.06.94zm-11 1L8.5 8.5l.94-2.06 2.06-.94-2.06-.94L8.5 2.5l-.94 2.06-2.06.94zm10 10l.94 2.06.94-2.06 2.06-.94-2.06-.94-.94-2.06-.94 2.06-2.06.94z\"/><path d=\"M17.41 7.96l-1.37-1.37c-.4-.4-.92-.59-1.43-.59-.52 0-1.04.2-1.43.59L10.3 9.45l-7.72 7.72c-.78.78-.78 2.05 0 2.83L4 21.41c.39.39.9.59 1.41.59.51 0 1.02-.2 1.41-.59l7.78-7.78 2.81-2.81c.8-.78.8-2.07 0-2.86zM5.41 20L4 18.59l7.72-7.72 1.47 1.35L5.41 20z\"/>\n",
              "  </svg>\n",
              "      </button>\n",
              "      \n",
              "  <style>\n",
              "    .colab-df-container {\n",
              "      display:flex;\n",
              "      flex-wrap:wrap;\n",
              "      gap: 12px;\n",
              "    }\n",
              "\n",
              "    .colab-df-convert {\n",
              "      background-color: #E8F0FE;\n",
              "      border: none;\n",
              "      border-radius: 50%;\n",
              "      cursor: pointer;\n",
              "      display: none;\n",
              "      fill: #1967D2;\n",
              "      height: 32px;\n",
              "      padding: 0 0 0 0;\n",
              "      width: 32px;\n",
              "    }\n",
              "\n",
              "    .colab-df-convert:hover {\n",
              "      background-color: #E2EBFA;\n",
              "      box-shadow: 0px 1px 2px rgba(60, 64, 67, 0.3), 0px 1px 3px 1px rgba(60, 64, 67, 0.15);\n",
              "      fill: #174EA6;\n",
              "    }\n",
              "\n",
              "    [theme=dark] .colab-df-convert {\n",
              "      background-color: #3B4455;\n",
              "      fill: #D2E3FC;\n",
              "    }\n",
              "\n",
              "    [theme=dark] .colab-df-convert:hover {\n",
              "      background-color: #434B5C;\n",
              "      box-shadow: 0px 1px 3px 1px rgba(0, 0, 0, 0.15);\n",
              "      filter: drop-shadow(0px 1px 2px rgba(0, 0, 0, 0.3));\n",
              "      fill: #FFFFFF;\n",
              "    }\n",
              "  </style>\n",
              "\n",
              "      <script>\n",
              "        const buttonEl =\n",
              "          document.querySelector('#df-fd8c0cc4-9b74-4afb-b781-15265085ff43 button.colab-df-convert');\n",
              "        buttonEl.style.display =\n",
              "          google.colab.kernel.accessAllowed ? 'block' : 'none';\n",
              "\n",
              "        async function convertToInteractive(key) {\n",
              "          const element = document.querySelector('#df-fd8c0cc4-9b74-4afb-b781-15265085ff43');\n",
              "          const dataTable =\n",
              "            await google.colab.kernel.invokeFunction('convertToInteractive',\n",
              "                                                     [key], {});\n",
              "          if (!dataTable) return;\n",
              "\n",
              "          const docLinkHtml = 'Like what you see? Visit the ' +\n",
              "            '<a target=\"_blank\" href=https://colab.research.google.com/notebooks/data_table.ipynb>data table notebook</a>'\n",
              "            + ' to learn more about interactive tables.';\n",
              "          element.innerHTML = '';\n",
              "          dataTable['output_type'] = 'display_data';\n",
              "          await google.colab.output.renderOutput(dataTable, element);\n",
              "          const docLink = document.createElement('div');\n",
              "          docLink.innerHTML = docLinkHtml;\n",
              "          element.appendChild(docLink);\n",
              "        }\n",
              "      </script>\n",
              "    </div>\n",
              "  </div>\n",
              "  "
            ]
          },
          "metadata": {},
          "execution_count": 48
        }
      ]
    },
    {
      "cell_type": "markdown",
      "source": [
        "#### Tempo de Contrato"
      ],
      "metadata": {
        "id": "oiiN8j6C1Rr-"
      }
    },
    {
      "cell_type": "code",
      "source": [
        "clientes_conta['Tempo de Contrato'].describe()"
      ],
      "metadata": {
        "colab": {
          "base_uri": "https://localhost:8080/"
        },
        "id": "1k4yVO3-c_Xp",
        "outputId": "7009ef0a-7cd6-4ed1-f02f-1c20277bda15"
      },
      "execution_count": 49,
      "outputs": [
        {
          "output_type": "execute_result",
          "data": {
            "text/plain": [
              "count               7267\n",
              "unique                 3\n",
              "top       Month-to-month\n",
              "freq                4005\n",
              "Name: Tempo de Contrato, dtype: object"
            ]
          },
          "metadata": {},
          "execution_count": 49
        }
      ]
    },
    {
      "cell_type": "code",
      "source": [
        "clientes_conta['Tempo de Contrato'].unique()"
      ],
      "metadata": {
        "colab": {
          "base_uri": "https://localhost:8080/"
        },
        "id": "4EU0JcvAdQpd",
        "outputId": "8c515a8a-861f-4947-e564-ee5982a45d78"
      },
      "execution_count": 50,
      "outputs": [
        {
          "output_type": "execute_result",
          "data": {
            "text/plain": [
              "array(['One year', 'Month-to-month', 'Two year'], dtype=object)"
            ]
          },
          "metadata": {},
          "execution_count": 50
        }
      ]
    },
    {
      "cell_type": "markdown",
      "source": [
        "A coluna `Tempo de Contrato`  traz as opções `One year`, `Month-to-month` e `Two year`. \n",
        "\n",
        "Traduzindo: `Um ano`, `Mês a mês` e `Dois anos`.\n",
        "\n",
        "Esta coluna informa o tipo de contrato que o cliente possui.\n"
      ],
      "metadata": {
        "id": "y3hhwTXR0jFX"
      }
    },
    {
      "cell_type": "markdown",
      "source": [
        "#### Fatura sem Papel"
      ],
      "metadata": {
        "id": "33LKBvBj4mTK"
      }
    },
    {
      "cell_type": "code",
      "source": [
        "clientes_conta['Fatura sem Papel'].describe()"
      ],
      "metadata": {
        "colab": {
          "base_uri": "https://localhost:8080/"
        },
        "id": "xT3WcPC5dQjZ",
        "outputId": "e0865e4b-65fc-4e8e-a453-a38cd44b32e2"
      },
      "execution_count": 51,
      "outputs": [
        {
          "output_type": "execute_result",
          "data": {
            "text/plain": [
              "count     7267\n",
              "unique       2\n",
              "top        Yes\n",
              "freq      4311\n",
              "Name: Fatura sem Papel, dtype: object"
            ]
          },
          "metadata": {},
          "execution_count": 51
        }
      ]
    },
    {
      "cell_type": "code",
      "source": [
        "clientes_conta['Fatura sem Papel'].unique()"
      ],
      "metadata": {
        "colab": {
          "base_uri": "https://localhost:8080/"
        },
        "outputId": "a55c72f0-ab75-4d7e-f99f-a91dd33d49fb",
        "id": "bv0Tn8Tc5lDz"
      },
      "execution_count": 52,
      "outputs": [
        {
          "output_type": "execute_result",
          "data": {
            "text/plain": [
              "array(['Yes', 'No'], dtype=object)"
            ]
          },
          "metadata": {},
          "execution_count": 52
        }
      ]
    },
    {
      "cell_type": "markdown",
      "source": [
        "A coluna `Fatura sem Papel`  traz as opções `Yes` e `No`. \n",
        "\n",
        "Traduzindo: `Sim` e `Não`.\n",
        "\n",
        "Esta coluna informa se o cliente recebe o faturamento online\n"
      ],
      "metadata": {
        "id": "Z2bxkmsI8ucw"
      }
    },
    {
      "cell_type": "markdown",
      "source": [
        "#### Metodo de Pagamento"
      ],
      "metadata": {
        "id": "mzQJHclC9L6a"
      }
    },
    {
      "cell_type": "code",
      "source": [
        "clientes_conta['Metodo de Pagamento'].describe()"
      ],
      "metadata": {
        "colab": {
          "base_uri": "https://localhost:8080/"
        },
        "id": "8WVGmb_KdQfO",
        "outputId": "76c9cb18-4515-4577-ad39-94cc79f43f03"
      },
      "execution_count": 53,
      "outputs": [
        {
          "output_type": "execute_result",
          "data": {
            "text/plain": [
              "count                 7267\n",
              "unique                   4\n",
              "top       Electronic check\n",
              "freq                  2445\n",
              "Name: Metodo de Pagamento, dtype: object"
            ]
          },
          "metadata": {},
          "execution_count": 53
        }
      ]
    },
    {
      "cell_type": "code",
      "source": [
        "clientes_conta['Metodo de Pagamento'].unique()"
      ],
      "metadata": {
        "colab": {
          "base_uri": "https://localhost:8080/"
        },
        "outputId": "cd798082-887c-4623-b91b-21317c406349",
        "id": "B79Pnssx9HuO"
      },
      "execution_count": 54,
      "outputs": [
        {
          "output_type": "execute_result",
          "data": {
            "text/plain": [
              "array(['Mailed check', 'Electronic check', 'Credit card (automatic)',\n",
              "       'Bank transfer (automatic)'], dtype=object)"
            ]
          },
          "metadata": {},
          "execution_count": 54
        }
      ]
    },
    {
      "cell_type": "code",
      "source": [
        "clientes_conta['Metodo de Pagamento'].unique()"
      ],
      "metadata": {
        "colab": {
          "base_uri": "https://localhost:8080/"
        },
        "id": "4zcjb_u3dQbq",
        "outputId": "cc96a4e3-75ee-4310-af0a-01f0351d84fb"
      },
      "execution_count": 55,
      "outputs": [
        {
          "output_type": "execute_result",
          "data": {
            "text/plain": [
              "array(['Mailed check', 'Electronic check', 'Credit card (automatic)',\n",
              "       'Bank transfer (automatic)'], dtype=object)"
            ]
          },
          "metadata": {},
          "execution_count": 55
        }
      ]
    },
    {
      "cell_type": "markdown",
      "source": [
        "#### Gasto Mensal"
      ],
      "metadata": {
        "id": "gL8LLCSNAyyS"
      }
    },
    {
      "cell_type": "code",
      "source": [
        "clientes_conta['Gasto Mensal'].describe()"
      ],
      "metadata": {
        "colab": {
          "base_uri": "https://localhost:8080/"
        },
        "outputId": "9848ee50-b741-415a-c972-3340cda9c049",
        "id": "JMlR5RFiBHf6"
      },
      "execution_count": 56,
      "outputs": [
        {
          "output_type": "execute_result",
          "data": {
            "text/plain": [
              "count    7267.000000\n",
              "mean       64.720098\n",
              "std        30.129572\n",
              "min        18.250000\n",
              "25%        35.425000\n",
              "50%        70.300000\n",
              "75%        89.875000\n",
              "max       118.750000\n",
              "Name: Gasto Mensal, dtype: float64"
            ]
          },
          "metadata": {},
          "execution_count": 56
        }
      ]
    },
    {
      "cell_type": "code",
      "source": [
        "clientes_conta['Gasto Mensal'].dtype"
      ],
      "metadata": {
        "colab": {
          "base_uri": "https://localhost:8080/"
        },
        "id": "0E4VenRPdQWF",
        "outputId": "15494c7f-54bd-4489-d8d8-52d4cee071c4"
      },
      "execution_count": 86,
      "outputs": [
        {
          "output_type": "execute_result",
          "data": {
            "text/plain": [
              "dtype('float64')"
            ]
          },
          "metadata": {},
          "execution_count": 86
        }
      ]
    },
    {
      "cell_type": "markdown",
      "source": [
        "A coluna `Gasto Mensal `  traz as opções os valores gasto por mês de cada clientes\n",
        "Esta coluna já tem os elementos do tipo `float`, sendo assim não será preciso que se faça nenhuma alteração nela\n"
      ],
      "metadata": {
        "id": "b1ssZSFEBsOJ"
      }
    },
    {
      "cell_type": "markdown",
      "source": [
        "#### Gasto Total"
      ],
      "metadata": {
        "id": "RRwxORCIB3im"
      }
    },
    {
      "cell_type": "code",
      "source": [
        "clientes_conta['Gasto Total'].describe()"
      ],
      "metadata": {
        "colab": {
          "base_uri": "https://localhost:8080/"
        },
        "id": "Ohsm3uVpdQLJ",
        "outputId": "8c80e505-4b38-4324-e64c-db9621434759"
      },
      "execution_count": 58,
      "outputs": [
        {
          "output_type": "execute_result",
          "data": {
            "text/plain": [
              "count     7267\n",
              "unique    6531\n",
              "top           \n",
              "freq        11\n",
              "Name: Gasto Total, dtype: object"
            ]
          },
          "metadata": {},
          "execution_count": 58
        }
      ]
    },
    {
      "cell_type": "code",
      "source": [
        "clientes_conta['Gasto Total'].mode()"
      ],
      "metadata": {
        "colab": {
          "base_uri": "https://localhost:8080/"
        },
        "outputId": "84be8b86-18af-4774-fe7d-8288a5f701ca",
        "id": "nLFfYgr4B5dO"
      },
      "execution_count": 59,
      "outputs": [
        {
          "output_type": "execute_result",
          "data": {
            "text/plain": [
              "0        \n",
              "1    20.2\n",
              "dtype: object"
            ]
          },
          "metadata": {},
          "execution_count": 59
        }
      ]
    },
    {
      "cell_type": "code",
      "source": [
        "[clientes_conta['Gasto Total'].value_counts()][0]"
      ],
      "metadata": {
        "colab": {
          "base_uri": "https://localhost:8080/"
        },
        "id": "erunOb5SCVed",
        "outputId": "ca675deb-e9c6-49e9-9324-735c148418be"
      },
      "execution_count": 60,
      "outputs": [
        {
          "output_type": "execute_result",
          "data": {
            "text/plain": [
              "           11\n",
              "20.2       11\n",
              "19.75       9\n",
              "19.55       9\n",
              "19.9        9\n",
              "           ..\n",
              "272         1\n",
              "1426.45     1\n",
              "371.6       1\n",
              "6786.4      1\n",
              "3707.6      1\n",
              "Name: Gasto Total, Length: 6531, dtype: int64"
            ]
          },
          "metadata": {},
          "execution_count": 60
        }
      ]
    },
    {
      "cell_type": "markdown",
      "source": [
        "A coluna `Gasto Total`  traz as informações do total de gasto do cliente em todo o tempo que ele usufrui os serviços da empresa, porém esta coluna está como Objecet e ela deveria esta como float e é possível perceber que existem colunas vazias, por isso esta coluna será observada mais a frente na seção onde serão vistas as inconsistências. "
      ],
      "metadata": {
        "id": "pwBtYrp267me"
      }
    },
    {
      "cell_type": "code",
      "source": [
        "#Tradução\n",
        "clientes_conta['Tempo de Contrato']  = clientes_conta['Tempo de Contrato'].map({'One year':'Um Ano','Two year' : 'Dois Anos', 'Month-to-month': 'Mês a mês'})\n",
        "clientes_conta['Metodo de Pagamento']  = clientes_conta['Metodo de Pagamento'].map({'Mailed check':'Envio de Cheque','Electronic check' : 'Cheque eletrônico', \n",
        "                                                                                'Credit card (automatic)': 'Cartão de crédito (Automático)', 'Bank transfer (automatic)' : 'Transferência Bancária (Automático)' })\n",
        "clientes_conta['Fatura sem Papel']  = clientes_conta['Fatura sem Papel'].map({'Yes': 'Sim', 'No' : 'Não'})\n",
        "clientes_conta"
      ],
      "metadata": {
        "id": "4sTXKLu0ep_i",
        "colab": {
          "base_uri": "https://localhost:8080/",
          "height": 424
        },
        "outputId": "4bb8cbe6-07c6-4cbc-ec51-1a3da4707fba"
      },
      "execution_count": 61,
      "outputs": [
        {
          "output_type": "execute_result",
          "data": {
            "text/plain": [
              "Id   Tempo de Contrato Fatura sem Papel Metodo de Pagamento  Gasto Mensal  \\\n",
              "0               Um Ano              Sim     Envio de Cheque         65.60   \n",
              "1            Mês a mês              Não     Envio de Cheque         59.90   \n",
              "2            Mês a mês              Sim   Cheque eletrônico         73.90   \n",
              "3            Mês a mês              Sim   Cheque eletrônico         98.00   \n",
              "4            Mês a mês              Sim     Envio de Cheque         83.90   \n",
              "...                ...              ...                 ...           ...   \n",
              "7262            Um Ano              Não     Envio de Cheque         55.15   \n",
              "7263         Mês a mês              Sim   Cheque eletrônico         85.10   \n",
              "7264         Mês a mês              Sim     Envio de Cheque         50.30   \n",
              "7265         Dois Anos              Não     Envio de Cheque         67.85   \n",
              "7266         Dois Anos              Não   Cheque eletrônico         59.00   \n",
              "\n",
              "Id   Gasto Total  \n",
              "0          593.3  \n",
              "1          542.4  \n",
              "2         280.85  \n",
              "3        1237.85  \n",
              "4          267.4  \n",
              "...          ...  \n",
              "7262       742.9  \n",
              "7263      1873.7  \n",
              "7264       92.75  \n",
              "7265     4627.65  \n",
              "7266      3707.6  \n",
              "\n",
              "[7267 rows x 5 columns]"
            ],
            "text/html": [
              "\n",
              "  <div id=\"df-f09ba54a-22d0-4f2b-8063-b057d8a8a535\">\n",
              "    <div class=\"colab-df-container\">\n",
              "      <div>\n",
              "<style scoped>\n",
              "    .dataframe tbody tr th:only-of-type {\n",
              "        vertical-align: middle;\n",
              "    }\n",
              "\n",
              "    .dataframe tbody tr th {\n",
              "        vertical-align: top;\n",
              "    }\n",
              "\n",
              "    .dataframe thead th {\n",
              "        text-align: right;\n",
              "    }\n",
              "</style>\n",
              "<table border=\"1\" class=\"dataframe\">\n",
              "  <thead>\n",
              "    <tr style=\"text-align: right;\">\n",
              "      <th>Id</th>\n",
              "      <th>Tempo de Contrato</th>\n",
              "      <th>Fatura sem Papel</th>\n",
              "      <th>Metodo de Pagamento</th>\n",
              "      <th>Gasto Mensal</th>\n",
              "      <th>Gasto Total</th>\n",
              "    </tr>\n",
              "  </thead>\n",
              "  <tbody>\n",
              "    <tr>\n",
              "      <th>0</th>\n",
              "      <td>Um Ano</td>\n",
              "      <td>Sim</td>\n",
              "      <td>Envio de Cheque</td>\n",
              "      <td>65.60</td>\n",
              "      <td>593.3</td>\n",
              "    </tr>\n",
              "    <tr>\n",
              "      <th>1</th>\n",
              "      <td>Mês a mês</td>\n",
              "      <td>Não</td>\n",
              "      <td>Envio de Cheque</td>\n",
              "      <td>59.90</td>\n",
              "      <td>542.4</td>\n",
              "    </tr>\n",
              "    <tr>\n",
              "      <th>2</th>\n",
              "      <td>Mês a mês</td>\n",
              "      <td>Sim</td>\n",
              "      <td>Cheque eletrônico</td>\n",
              "      <td>73.90</td>\n",
              "      <td>280.85</td>\n",
              "    </tr>\n",
              "    <tr>\n",
              "      <th>3</th>\n",
              "      <td>Mês a mês</td>\n",
              "      <td>Sim</td>\n",
              "      <td>Cheque eletrônico</td>\n",
              "      <td>98.00</td>\n",
              "      <td>1237.85</td>\n",
              "    </tr>\n",
              "    <tr>\n",
              "      <th>4</th>\n",
              "      <td>Mês a mês</td>\n",
              "      <td>Sim</td>\n",
              "      <td>Envio de Cheque</td>\n",
              "      <td>83.90</td>\n",
              "      <td>267.4</td>\n",
              "    </tr>\n",
              "    <tr>\n",
              "      <th>...</th>\n",
              "      <td>...</td>\n",
              "      <td>...</td>\n",
              "      <td>...</td>\n",
              "      <td>...</td>\n",
              "      <td>...</td>\n",
              "    </tr>\n",
              "    <tr>\n",
              "      <th>7262</th>\n",
              "      <td>Um Ano</td>\n",
              "      <td>Não</td>\n",
              "      <td>Envio de Cheque</td>\n",
              "      <td>55.15</td>\n",
              "      <td>742.9</td>\n",
              "    </tr>\n",
              "    <tr>\n",
              "      <th>7263</th>\n",
              "      <td>Mês a mês</td>\n",
              "      <td>Sim</td>\n",
              "      <td>Cheque eletrônico</td>\n",
              "      <td>85.10</td>\n",
              "      <td>1873.7</td>\n",
              "    </tr>\n",
              "    <tr>\n",
              "      <th>7264</th>\n",
              "      <td>Mês a mês</td>\n",
              "      <td>Sim</td>\n",
              "      <td>Envio de Cheque</td>\n",
              "      <td>50.30</td>\n",
              "      <td>92.75</td>\n",
              "    </tr>\n",
              "    <tr>\n",
              "      <th>7265</th>\n",
              "      <td>Dois Anos</td>\n",
              "      <td>Não</td>\n",
              "      <td>Envio de Cheque</td>\n",
              "      <td>67.85</td>\n",
              "      <td>4627.65</td>\n",
              "    </tr>\n",
              "    <tr>\n",
              "      <th>7266</th>\n",
              "      <td>Dois Anos</td>\n",
              "      <td>Não</td>\n",
              "      <td>Cheque eletrônico</td>\n",
              "      <td>59.00</td>\n",
              "      <td>3707.6</td>\n",
              "    </tr>\n",
              "  </tbody>\n",
              "</table>\n",
              "<p>7267 rows × 5 columns</p>\n",
              "</div>\n",
              "      <button class=\"colab-df-convert\" onclick=\"convertToInteractive('df-f09ba54a-22d0-4f2b-8063-b057d8a8a535')\"\n",
              "              title=\"Convert this dataframe to an interactive table.\"\n",
              "              style=\"display:none;\">\n",
              "        \n",
              "  <svg xmlns=\"http://www.w3.org/2000/svg\" height=\"24px\"viewBox=\"0 0 24 24\"\n",
              "       width=\"24px\">\n",
              "    <path d=\"M0 0h24v24H0V0z\" fill=\"none\"/>\n",
              "    <path d=\"M18.56 5.44l.94 2.06.94-2.06 2.06-.94-2.06-.94-.94-2.06-.94 2.06-2.06.94zm-11 1L8.5 8.5l.94-2.06 2.06-.94-2.06-.94L8.5 2.5l-.94 2.06-2.06.94zm10 10l.94 2.06.94-2.06 2.06-.94-2.06-.94-.94-2.06-.94 2.06-2.06.94z\"/><path d=\"M17.41 7.96l-1.37-1.37c-.4-.4-.92-.59-1.43-.59-.52 0-1.04.2-1.43.59L10.3 9.45l-7.72 7.72c-.78.78-.78 2.05 0 2.83L4 21.41c.39.39.9.59 1.41.59.51 0 1.02-.2 1.41-.59l7.78-7.78 2.81-2.81c.8-.78.8-2.07 0-2.86zM5.41 20L4 18.59l7.72-7.72 1.47 1.35L5.41 20z\"/>\n",
              "  </svg>\n",
              "      </button>\n",
              "      \n",
              "  <style>\n",
              "    .colab-df-container {\n",
              "      display:flex;\n",
              "      flex-wrap:wrap;\n",
              "      gap: 12px;\n",
              "    }\n",
              "\n",
              "    .colab-df-convert {\n",
              "      background-color: #E8F0FE;\n",
              "      border: none;\n",
              "      border-radius: 50%;\n",
              "      cursor: pointer;\n",
              "      display: none;\n",
              "      fill: #1967D2;\n",
              "      height: 32px;\n",
              "      padding: 0 0 0 0;\n",
              "      width: 32px;\n",
              "    }\n",
              "\n",
              "    .colab-df-convert:hover {\n",
              "      background-color: #E2EBFA;\n",
              "      box-shadow: 0px 1px 2px rgba(60, 64, 67, 0.3), 0px 1px 3px 1px rgba(60, 64, 67, 0.15);\n",
              "      fill: #174EA6;\n",
              "    }\n",
              "\n",
              "    [theme=dark] .colab-df-convert {\n",
              "      background-color: #3B4455;\n",
              "      fill: #D2E3FC;\n",
              "    }\n",
              "\n",
              "    [theme=dark] .colab-df-convert:hover {\n",
              "      background-color: #434B5C;\n",
              "      box-shadow: 0px 1px 3px 1px rgba(0, 0, 0, 0.15);\n",
              "      filter: drop-shadow(0px 1px 2px rgba(0, 0, 0, 0.3));\n",
              "      fill: #FFFFFF;\n",
              "    }\n",
              "  </style>\n",
              "\n",
              "      <script>\n",
              "        const buttonEl =\n",
              "          document.querySelector('#df-f09ba54a-22d0-4f2b-8063-b057d8a8a535 button.colab-df-convert');\n",
              "        buttonEl.style.display =\n",
              "          google.colab.kernel.accessAllowed ? 'block' : 'none';\n",
              "\n",
              "        async function convertToInteractive(key) {\n",
              "          const element = document.querySelector('#df-f09ba54a-22d0-4f2b-8063-b057d8a8a535');\n",
              "          const dataTable =\n",
              "            await google.colab.kernel.invokeFunction('convertToInteractive',\n",
              "                                                     [key], {});\n",
              "          if (!dataTable) return;\n",
              "\n",
              "          const docLinkHtml = 'Like what you see? Visit the ' +\n",
              "            '<a target=\"_blank\" href=https://colab.research.google.com/notebooks/data_table.ipynb>data table notebook</a>'\n",
              "            + ' to learn more about interactive tables.';\n",
              "          element.innerHTML = '';\n",
              "          dataTable['output_type'] = 'display_data';\n",
              "          await google.colab.output.renderOutput(dataTable, element);\n",
              "          const docLink = document.createElement('div');\n",
              "          docLink.innerHTML = docLinkHtml;\n",
              "          element.appendChild(docLink);\n",
              "        }\n",
              "      </script>\n",
              "    </div>\n",
              "  </div>\n",
              "  "
            ]
          },
          "metadata": {},
          "execution_count": 61
        }
      ]
    },
    {
      "cell_type": "code",
      "source": [
        "#dropando a coluna para facilitar na hora de juntar\n",
        "clientes.drop(columns = ['Conta'], inplace=True)"
      ],
      "metadata": {
        "id": "rUWk4U37cTyL"
      },
      "execution_count": 62,
      "outputs": []
    },
    {
      "cell_type": "markdown",
      "source": [
        "### Últimas analises "
      ],
      "metadata": {
        "id": "_acC8EoGBcnX"
      }
    },
    {
      "cell_type": "code",
      "source": [
        "clientes"
      ],
      "metadata": {
        "colab": {
          "base_uri": "https://localhost:8080/",
          "height": 424
        },
        "id": "ZXQyZJBAnBxM",
        "outputId": "54bc9c25-d8dd-4b75-8a00-f62923d7ed39"
      },
      "execution_count": 63,
      "outputs": [
        {
          "output_type": "execute_result",
          "data": {
            "text/plain": [
              "       ClienteID Cancelamento\n",
              "0     0002-ORFBO           No\n",
              "1     0003-MKNFE           No\n",
              "2     0004-TLHLJ          Yes\n",
              "3     0011-IGKFF          Yes\n",
              "4     0013-EXCHZ          Yes\n",
              "...          ...          ...\n",
              "7262  9987-LUTYD           No\n",
              "7263  9992-RRAMN          Yes\n",
              "7264  9992-UJOEL           No\n",
              "7265  9993-LHIEB           No\n",
              "7266  9995-HOTOH           No\n",
              "\n",
              "[7267 rows x 2 columns]"
            ],
            "text/html": [
              "\n",
              "  <div id=\"df-d929ebed-e3b8-46f9-821c-48c3cd82fb52\">\n",
              "    <div class=\"colab-df-container\">\n",
              "      <div>\n",
              "<style scoped>\n",
              "    .dataframe tbody tr th:only-of-type {\n",
              "        vertical-align: middle;\n",
              "    }\n",
              "\n",
              "    .dataframe tbody tr th {\n",
              "        vertical-align: top;\n",
              "    }\n",
              "\n",
              "    .dataframe thead th {\n",
              "        text-align: right;\n",
              "    }\n",
              "</style>\n",
              "<table border=\"1\" class=\"dataframe\">\n",
              "  <thead>\n",
              "    <tr style=\"text-align: right;\">\n",
              "      <th></th>\n",
              "      <th>ClienteID</th>\n",
              "      <th>Cancelamento</th>\n",
              "    </tr>\n",
              "  </thead>\n",
              "  <tbody>\n",
              "    <tr>\n",
              "      <th>0</th>\n",
              "      <td>0002-ORFBO</td>\n",
              "      <td>No</td>\n",
              "    </tr>\n",
              "    <tr>\n",
              "      <th>1</th>\n",
              "      <td>0003-MKNFE</td>\n",
              "      <td>No</td>\n",
              "    </tr>\n",
              "    <tr>\n",
              "      <th>2</th>\n",
              "      <td>0004-TLHLJ</td>\n",
              "      <td>Yes</td>\n",
              "    </tr>\n",
              "    <tr>\n",
              "      <th>3</th>\n",
              "      <td>0011-IGKFF</td>\n",
              "      <td>Yes</td>\n",
              "    </tr>\n",
              "    <tr>\n",
              "      <th>4</th>\n",
              "      <td>0013-EXCHZ</td>\n",
              "      <td>Yes</td>\n",
              "    </tr>\n",
              "    <tr>\n",
              "      <th>...</th>\n",
              "      <td>...</td>\n",
              "      <td>...</td>\n",
              "    </tr>\n",
              "    <tr>\n",
              "      <th>7262</th>\n",
              "      <td>9987-LUTYD</td>\n",
              "      <td>No</td>\n",
              "    </tr>\n",
              "    <tr>\n",
              "      <th>7263</th>\n",
              "      <td>9992-RRAMN</td>\n",
              "      <td>Yes</td>\n",
              "    </tr>\n",
              "    <tr>\n",
              "      <th>7264</th>\n",
              "      <td>9992-UJOEL</td>\n",
              "      <td>No</td>\n",
              "    </tr>\n",
              "    <tr>\n",
              "      <th>7265</th>\n",
              "      <td>9993-LHIEB</td>\n",
              "      <td>No</td>\n",
              "    </tr>\n",
              "    <tr>\n",
              "      <th>7266</th>\n",
              "      <td>9995-HOTOH</td>\n",
              "      <td>No</td>\n",
              "    </tr>\n",
              "  </tbody>\n",
              "</table>\n",
              "<p>7267 rows × 2 columns</p>\n",
              "</div>\n",
              "      <button class=\"colab-df-convert\" onclick=\"convertToInteractive('df-d929ebed-e3b8-46f9-821c-48c3cd82fb52')\"\n",
              "              title=\"Convert this dataframe to an interactive table.\"\n",
              "              style=\"display:none;\">\n",
              "        \n",
              "  <svg xmlns=\"http://www.w3.org/2000/svg\" height=\"24px\"viewBox=\"0 0 24 24\"\n",
              "       width=\"24px\">\n",
              "    <path d=\"M0 0h24v24H0V0z\" fill=\"none\"/>\n",
              "    <path d=\"M18.56 5.44l.94 2.06.94-2.06 2.06-.94-2.06-.94-.94-2.06-.94 2.06-2.06.94zm-11 1L8.5 8.5l.94-2.06 2.06-.94-2.06-.94L8.5 2.5l-.94 2.06-2.06.94zm10 10l.94 2.06.94-2.06 2.06-.94-2.06-.94-.94-2.06-.94 2.06-2.06.94z\"/><path d=\"M17.41 7.96l-1.37-1.37c-.4-.4-.92-.59-1.43-.59-.52 0-1.04.2-1.43.59L10.3 9.45l-7.72 7.72c-.78.78-.78 2.05 0 2.83L4 21.41c.39.39.9.59 1.41.59.51 0 1.02-.2 1.41-.59l7.78-7.78 2.81-2.81c.8-.78.8-2.07 0-2.86zM5.41 20L4 18.59l7.72-7.72 1.47 1.35L5.41 20z\"/>\n",
              "  </svg>\n",
              "      </button>\n",
              "      \n",
              "  <style>\n",
              "    .colab-df-container {\n",
              "      display:flex;\n",
              "      flex-wrap:wrap;\n",
              "      gap: 12px;\n",
              "    }\n",
              "\n",
              "    .colab-df-convert {\n",
              "      background-color: #E8F0FE;\n",
              "      border: none;\n",
              "      border-radius: 50%;\n",
              "      cursor: pointer;\n",
              "      display: none;\n",
              "      fill: #1967D2;\n",
              "      height: 32px;\n",
              "      padding: 0 0 0 0;\n",
              "      width: 32px;\n",
              "    }\n",
              "\n",
              "    .colab-df-convert:hover {\n",
              "      background-color: #E2EBFA;\n",
              "      box-shadow: 0px 1px 2px rgba(60, 64, 67, 0.3), 0px 1px 3px 1px rgba(60, 64, 67, 0.15);\n",
              "      fill: #174EA6;\n",
              "    }\n",
              "\n",
              "    [theme=dark] .colab-df-convert {\n",
              "      background-color: #3B4455;\n",
              "      fill: #D2E3FC;\n",
              "    }\n",
              "\n",
              "    [theme=dark] .colab-df-convert:hover {\n",
              "      background-color: #434B5C;\n",
              "      box-shadow: 0px 1px 3px 1px rgba(0, 0, 0, 0.15);\n",
              "      filter: drop-shadow(0px 1px 2px rgba(0, 0, 0, 0.3));\n",
              "      fill: #FFFFFF;\n",
              "    }\n",
              "  </style>\n",
              "\n",
              "      <script>\n",
              "        const buttonEl =\n",
              "          document.querySelector('#df-d929ebed-e3b8-46f9-821c-48c3cd82fb52 button.colab-df-convert');\n",
              "        buttonEl.style.display =\n",
              "          google.colab.kernel.accessAllowed ? 'block' : 'none';\n",
              "\n",
              "        async function convertToInteractive(key) {\n",
              "          const element = document.querySelector('#df-d929ebed-e3b8-46f9-821c-48c3cd82fb52');\n",
              "          const dataTable =\n",
              "            await google.colab.kernel.invokeFunction('convertToInteractive',\n",
              "                                                     [key], {});\n",
              "          if (!dataTable) return;\n",
              "\n",
              "          const docLinkHtml = 'Like what you see? Visit the ' +\n",
              "            '<a target=\"_blank\" href=https://colab.research.google.com/notebooks/data_table.ipynb>data table notebook</a>'\n",
              "            + ' to learn more about interactive tables.';\n",
              "          element.innerHTML = '';\n",
              "          dataTable['output_type'] = 'display_data';\n",
              "          await google.colab.output.renderOutput(dataTable, element);\n",
              "          const docLink = document.createElement('div');\n",
              "          docLink.innerHTML = docLinkHtml;\n",
              "          element.appendChild(docLink);\n",
              "        }\n",
              "      </script>\n",
              "    </div>\n",
              "  </div>\n",
              "  "
            ]
          },
          "metadata": {},
          "execution_count": 63
        }
      ]
    },
    {
      "cell_type": "markdown",
      "source": [
        "A coluna `ClienteID` não será relevante inicialmente para a nossa analise, sendo assim ela será dropada inicialmente para que os dados fiquem os mais limpos possíveis para serem analisados."
      ],
      "metadata": {
        "id": "mQBmfuuwCY_K"
      }
    },
    {
      "cell_type": "code",
      "source": [
        "clientes.drop(columns = ['ClienteID'], inplace = True)"
      ],
      "metadata": {
        "id": "FhT7Q3A_DUDo"
      },
      "execution_count": 64,
      "outputs": []
    },
    {
      "cell_type": "code",
      "source": [
        "# traduzido a coluna Cancelamento\n",
        "clientes['Cancelamento'] = clientes['Cancelamento'].map({'Yes': 'Sim', 'No': 'Não'})"
      ],
      "metadata": {
        "id": "fCgd_uj_6FJO"
      },
      "execution_count": 65,
      "outputs": []
    },
    {
      "cell_type": "markdown",
      "source": [
        "#### Junção dos DataFrames"
      ],
      "metadata": {
        "id": "EoHY3IO_Eey4"
      }
    },
    {
      "cell_type": "code",
      "source": [
        "clientes = pd.concat([clientes, clientes_informacoes, clientes_telefone, clientes_internet, clientes_conta], axis=1)\n",
        "clientes"
      ],
      "metadata": {
        "id": "6-17Oe2JfpYY",
        "colab": {
          "base_uri": "https://localhost:8080/",
          "height": 713
        },
        "outputId": "da976f27-05fb-439b-9308-d7f86e40c0c6"
      },
      "execution_count": 66,
      "outputs": [
        {
          "output_type": "execute_result",
          "data": {
            "text/plain": [
              "     Cancelamento Gênero  Idoso Cônjuge Dependentes  Tempo de Cliente  \\\n",
              "0             Não      F      0     Sim         Sim                 9   \n",
              "1             Não      M      0     Não         Não                 9   \n",
              "2             Sim      M      0     Não         Não                 4   \n",
              "3             Sim      M      1     Sim         Não                13   \n",
              "4             Sim      F      1     Sim         Não                 3   \n",
              "...           ...    ...    ...     ...         ...               ...   \n",
              "7262          Não      F      0     Não         Não                13   \n",
              "7263          Sim      M      0     Sim         Não                22   \n",
              "7264          Não      M      0     Não         Não                 2   \n",
              "7265          Não      M      0     Sim         Sim                67   \n",
              "7266          Não      M      0     Sim         Sim                63   \n",
              "\n",
              "     Telefone         Múltiplas Linhas Serviço de Internet Seguro Online  \\\n",
              "0         Sim                      Não                 DSL           Não   \n",
              "1         Sim                      Sim                 DSL           Não   \n",
              "2         Sim                      Não       Fibra Optica            Não   \n",
              "3         Sim                      Não       Fibra Optica            Não   \n",
              "4         Sim                      Não       Fibra Optica            Não   \n",
              "...       ...                      ...                 ...           ...   \n",
              "7262      Sim                      Não                 DSL           Sim   \n",
              "7263      Sim                      Sim       Fibra Optica            Não   \n",
              "7264      Sim                      Não                 DSL           Não   \n",
              "7265      Sim                      Não                 DSL           Sim   \n",
              "7266      Não  Sem serviço de Telefone                 DSL           Sim   \n",
              "\n",
              "     Backup Online Proteção do Dispositivo Suporte Técnico Streaming de Tv  \\\n",
              "0              Sim                     Não             Sim             Sim   \n",
              "1              Não                     Não             Não             Não   \n",
              "2              Não                     Sim             Não             Não   \n",
              "3              Sim                     Sim             Não             Sim   \n",
              "4              Não                     Não             Sim             Sim   \n",
              "...            ...                     ...             ...             ...   \n",
              "7262           Não                     Não             Sim             Não   \n",
              "7263           Não                     Não             Não             Não   \n",
              "7264           Sim                     Não             Não             Não   \n",
              "7265           Não                     Sim             Sim             Não   \n",
              "7266           Sim                     Sim             Não             Sim   \n",
              "\n",
              "     Streaming de Filmes Tempo de Contrato Fatura sem Papel  \\\n",
              "0                    Não            Um Ano              Sim   \n",
              "1                    Sim         Mês a mês              Não   \n",
              "2                    Não         Mês a mês              Sim   \n",
              "3                    Sim         Mês a mês              Sim   \n",
              "4                    Não         Mês a mês              Sim   \n",
              "...                  ...               ...              ...   \n",
              "7262                 Não            Um Ano              Não   \n",
              "7263                 Sim         Mês a mês              Sim   \n",
              "7264                 Não         Mês a mês              Sim   \n",
              "7265                 Sim         Dois Anos              Não   \n",
              "7266                 Sim         Dois Anos              Não   \n",
              "\n",
              "     Metodo de Pagamento  Gasto Mensal Gasto Total  \n",
              "0        Envio de Cheque         65.60       593.3  \n",
              "1        Envio de Cheque         59.90       542.4  \n",
              "2      Cheque eletrônico         73.90      280.85  \n",
              "3      Cheque eletrônico         98.00     1237.85  \n",
              "4        Envio de Cheque         83.90       267.4  \n",
              "...                  ...           ...         ...  \n",
              "7262     Envio de Cheque         55.15       742.9  \n",
              "7263   Cheque eletrônico         85.10      1873.7  \n",
              "7264     Envio de Cheque         50.30       92.75  \n",
              "7265     Envio de Cheque         67.85     4627.65  \n",
              "7266   Cheque eletrônico         59.00      3707.6  \n",
              "\n",
              "[7267 rows x 20 columns]"
            ],
            "text/html": [
              "\n",
              "  <div id=\"df-1aedfd27-5d42-4a92-af18-038a2d4d65eb\">\n",
              "    <div class=\"colab-df-container\">\n",
              "      <div>\n",
              "<style scoped>\n",
              "    .dataframe tbody tr th:only-of-type {\n",
              "        vertical-align: middle;\n",
              "    }\n",
              "\n",
              "    .dataframe tbody tr th {\n",
              "        vertical-align: top;\n",
              "    }\n",
              "\n",
              "    .dataframe thead th {\n",
              "        text-align: right;\n",
              "    }\n",
              "</style>\n",
              "<table border=\"1\" class=\"dataframe\">\n",
              "  <thead>\n",
              "    <tr style=\"text-align: right;\">\n",
              "      <th></th>\n",
              "      <th>Cancelamento</th>\n",
              "      <th>Gênero</th>\n",
              "      <th>Idoso</th>\n",
              "      <th>Cônjuge</th>\n",
              "      <th>Dependentes</th>\n",
              "      <th>Tempo de Cliente</th>\n",
              "      <th>Telefone</th>\n",
              "      <th>Múltiplas Linhas</th>\n",
              "      <th>Serviço de Internet</th>\n",
              "      <th>Seguro Online</th>\n",
              "      <th>Backup Online</th>\n",
              "      <th>Proteção do Dispositivo</th>\n",
              "      <th>Suporte Técnico</th>\n",
              "      <th>Streaming de Tv</th>\n",
              "      <th>Streaming de Filmes</th>\n",
              "      <th>Tempo de Contrato</th>\n",
              "      <th>Fatura sem Papel</th>\n",
              "      <th>Metodo de Pagamento</th>\n",
              "      <th>Gasto Mensal</th>\n",
              "      <th>Gasto Total</th>\n",
              "    </tr>\n",
              "  </thead>\n",
              "  <tbody>\n",
              "    <tr>\n",
              "      <th>0</th>\n",
              "      <td>Não</td>\n",
              "      <td>F</td>\n",
              "      <td>0</td>\n",
              "      <td>Sim</td>\n",
              "      <td>Sim</td>\n",
              "      <td>9</td>\n",
              "      <td>Sim</td>\n",
              "      <td>Não</td>\n",
              "      <td>DSL</td>\n",
              "      <td>Não</td>\n",
              "      <td>Sim</td>\n",
              "      <td>Não</td>\n",
              "      <td>Sim</td>\n",
              "      <td>Sim</td>\n",
              "      <td>Não</td>\n",
              "      <td>Um Ano</td>\n",
              "      <td>Sim</td>\n",
              "      <td>Envio de Cheque</td>\n",
              "      <td>65.60</td>\n",
              "      <td>593.3</td>\n",
              "    </tr>\n",
              "    <tr>\n",
              "      <th>1</th>\n",
              "      <td>Não</td>\n",
              "      <td>M</td>\n",
              "      <td>0</td>\n",
              "      <td>Não</td>\n",
              "      <td>Não</td>\n",
              "      <td>9</td>\n",
              "      <td>Sim</td>\n",
              "      <td>Sim</td>\n",
              "      <td>DSL</td>\n",
              "      <td>Não</td>\n",
              "      <td>Não</td>\n",
              "      <td>Não</td>\n",
              "      <td>Não</td>\n",
              "      <td>Não</td>\n",
              "      <td>Sim</td>\n",
              "      <td>Mês a mês</td>\n",
              "      <td>Não</td>\n",
              "      <td>Envio de Cheque</td>\n",
              "      <td>59.90</td>\n",
              "      <td>542.4</td>\n",
              "    </tr>\n",
              "    <tr>\n",
              "      <th>2</th>\n",
              "      <td>Sim</td>\n",
              "      <td>M</td>\n",
              "      <td>0</td>\n",
              "      <td>Não</td>\n",
              "      <td>Não</td>\n",
              "      <td>4</td>\n",
              "      <td>Sim</td>\n",
              "      <td>Não</td>\n",
              "      <td>Fibra Optica</td>\n",
              "      <td>Não</td>\n",
              "      <td>Não</td>\n",
              "      <td>Sim</td>\n",
              "      <td>Não</td>\n",
              "      <td>Não</td>\n",
              "      <td>Não</td>\n",
              "      <td>Mês a mês</td>\n",
              "      <td>Sim</td>\n",
              "      <td>Cheque eletrônico</td>\n",
              "      <td>73.90</td>\n",
              "      <td>280.85</td>\n",
              "    </tr>\n",
              "    <tr>\n",
              "      <th>3</th>\n",
              "      <td>Sim</td>\n",
              "      <td>M</td>\n",
              "      <td>1</td>\n",
              "      <td>Sim</td>\n",
              "      <td>Não</td>\n",
              "      <td>13</td>\n",
              "      <td>Sim</td>\n",
              "      <td>Não</td>\n",
              "      <td>Fibra Optica</td>\n",
              "      <td>Não</td>\n",
              "      <td>Sim</td>\n",
              "      <td>Sim</td>\n",
              "      <td>Não</td>\n",
              "      <td>Sim</td>\n",
              "      <td>Sim</td>\n",
              "      <td>Mês a mês</td>\n",
              "      <td>Sim</td>\n",
              "      <td>Cheque eletrônico</td>\n",
              "      <td>98.00</td>\n",
              "      <td>1237.85</td>\n",
              "    </tr>\n",
              "    <tr>\n",
              "      <th>4</th>\n",
              "      <td>Sim</td>\n",
              "      <td>F</td>\n",
              "      <td>1</td>\n",
              "      <td>Sim</td>\n",
              "      <td>Não</td>\n",
              "      <td>3</td>\n",
              "      <td>Sim</td>\n",
              "      <td>Não</td>\n",
              "      <td>Fibra Optica</td>\n",
              "      <td>Não</td>\n",
              "      <td>Não</td>\n",
              "      <td>Não</td>\n",
              "      <td>Sim</td>\n",
              "      <td>Sim</td>\n",
              "      <td>Não</td>\n",
              "      <td>Mês a mês</td>\n",
              "      <td>Sim</td>\n",
              "      <td>Envio de Cheque</td>\n",
              "      <td>83.90</td>\n",
              "      <td>267.4</td>\n",
              "    </tr>\n",
              "    <tr>\n",
              "      <th>...</th>\n",
              "      <td>...</td>\n",
              "      <td>...</td>\n",
              "      <td>...</td>\n",
              "      <td>...</td>\n",
              "      <td>...</td>\n",
              "      <td>...</td>\n",
              "      <td>...</td>\n",
              "      <td>...</td>\n",
              "      <td>...</td>\n",
              "      <td>...</td>\n",
              "      <td>...</td>\n",
              "      <td>...</td>\n",
              "      <td>...</td>\n",
              "      <td>...</td>\n",
              "      <td>...</td>\n",
              "      <td>...</td>\n",
              "      <td>...</td>\n",
              "      <td>...</td>\n",
              "      <td>...</td>\n",
              "      <td>...</td>\n",
              "    </tr>\n",
              "    <tr>\n",
              "      <th>7262</th>\n",
              "      <td>Não</td>\n",
              "      <td>F</td>\n",
              "      <td>0</td>\n",
              "      <td>Não</td>\n",
              "      <td>Não</td>\n",
              "      <td>13</td>\n",
              "      <td>Sim</td>\n",
              "      <td>Não</td>\n",
              "      <td>DSL</td>\n",
              "      <td>Sim</td>\n",
              "      <td>Não</td>\n",
              "      <td>Não</td>\n",
              "      <td>Sim</td>\n",
              "      <td>Não</td>\n",
              "      <td>Não</td>\n",
              "      <td>Um Ano</td>\n",
              "      <td>Não</td>\n",
              "      <td>Envio de Cheque</td>\n",
              "      <td>55.15</td>\n",
              "      <td>742.9</td>\n",
              "    </tr>\n",
              "    <tr>\n",
              "      <th>7263</th>\n",
              "      <td>Sim</td>\n",
              "      <td>M</td>\n",
              "      <td>0</td>\n",
              "      <td>Sim</td>\n",
              "      <td>Não</td>\n",
              "      <td>22</td>\n",
              "      <td>Sim</td>\n",
              "      <td>Sim</td>\n",
              "      <td>Fibra Optica</td>\n",
              "      <td>Não</td>\n",
              "      <td>Não</td>\n",
              "      <td>Não</td>\n",
              "      <td>Não</td>\n",
              "      <td>Não</td>\n",
              "      <td>Sim</td>\n",
              "      <td>Mês a mês</td>\n",
              "      <td>Sim</td>\n",
              "      <td>Cheque eletrônico</td>\n",
              "      <td>85.10</td>\n",
              "      <td>1873.7</td>\n",
              "    </tr>\n",
              "    <tr>\n",
              "      <th>7264</th>\n",
              "      <td>Não</td>\n",
              "      <td>M</td>\n",
              "      <td>0</td>\n",
              "      <td>Não</td>\n",
              "      <td>Não</td>\n",
              "      <td>2</td>\n",
              "      <td>Sim</td>\n",
              "      <td>Não</td>\n",
              "      <td>DSL</td>\n",
              "      <td>Não</td>\n",
              "      <td>Sim</td>\n",
              "      <td>Não</td>\n",
              "      <td>Não</td>\n",
              "      <td>Não</td>\n",
              "      <td>Não</td>\n",
              "      <td>Mês a mês</td>\n",
              "      <td>Sim</td>\n",
              "      <td>Envio de Cheque</td>\n",
              "      <td>50.30</td>\n",
              "      <td>92.75</td>\n",
              "    </tr>\n",
              "    <tr>\n",
              "      <th>7265</th>\n",
              "      <td>Não</td>\n",
              "      <td>M</td>\n",
              "      <td>0</td>\n",
              "      <td>Sim</td>\n",
              "      <td>Sim</td>\n",
              "      <td>67</td>\n",
              "      <td>Sim</td>\n",
              "      <td>Não</td>\n",
              "      <td>DSL</td>\n",
              "      <td>Sim</td>\n",
              "      <td>Não</td>\n",
              "      <td>Sim</td>\n",
              "      <td>Sim</td>\n",
              "      <td>Não</td>\n",
              "      <td>Sim</td>\n",
              "      <td>Dois Anos</td>\n",
              "      <td>Não</td>\n",
              "      <td>Envio de Cheque</td>\n",
              "      <td>67.85</td>\n",
              "      <td>4627.65</td>\n",
              "    </tr>\n",
              "    <tr>\n",
              "      <th>7266</th>\n",
              "      <td>Não</td>\n",
              "      <td>M</td>\n",
              "      <td>0</td>\n",
              "      <td>Sim</td>\n",
              "      <td>Sim</td>\n",
              "      <td>63</td>\n",
              "      <td>Não</td>\n",
              "      <td>Sem serviço de Telefone</td>\n",
              "      <td>DSL</td>\n",
              "      <td>Sim</td>\n",
              "      <td>Sim</td>\n",
              "      <td>Sim</td>\n",
              "      <td>Não</td>\n",
              "      <td>Sim</td>\n",
              "      <td>Sim</td>\n",
              "      <td>Dois Anos</td>\n",
              "      <td>Não</td>\n",
              "      <td>Cheque eletrônico</td>\n",
              "      <td>59.00</td>\n",
              "      <td>3707.6</td>\n",
              "    </tr>\n",
              "  </tbody>\n",
              "</table>\n",
              "<p>7267 rows × 20 columns</p>\n",
              "</div>\n",
              "      <button class=\"colab-df-convert\" onclick=\"convertToInteractive('df-1aedfd27-5d42-4a92-af18-038a2d4d65eb')\"\n",
              "              title=\"Convert this dataframe to an interactive table.\"\n",
              "              style=\"display:none;\">\n",
              "        \n",
              "  <svg xmlns=\"http://www.w3.org/2000/svg\" height=\"24px\"viewBox=\"0 0 24 24\"\n",
              "       width=\"24px\">\n",
              "    <path d=\"M0 0h24v24H0V0z\" fill=\"none\"/>\n",
              "    <path d=\"M18.56 5.44l.94 2.06.94-2.06 2.06-.94-2.06-.94-.94-2.06-.94 2.06-2.06.94zm-11 1L8.5 8.5l.94-2.06 2.06-.94-2.06-.94L8.5 2.5l-.94 2.06-2.06.94zm10 10l.94 2.06.94-2.06 2.06-.94-2.06-.94-.94-2.06-.94 2.06-2.06.94z\"/><path d=\"M17.41 7.96l-1.37-1.37c-.4-.4-.92-.59-1.43-.59-.52 0-1.04.2-1.43.59L10.3 9.45l-7.72 7.72c-.78.78-.78 2.05 0 2.83L4 21.41c.39.39.9.59 1.41.59.51 0 1.02-.2 1.41-.59l7.78-7.78 2.81-2.81c.8-.78.8-2.07 0-2.86zM5.41 20L4 18.59l7.72-7.72 1.47 1.35L5.41 20z\"/>\n",
              "  </svg>\n",
              "      </button>\n",
              "      \n",
              "  <style>\n",
              "    .colab-df-container {\n",
              "      display:flex;\n",
              "      flex-wrap:wrap;\n",
              "      gap: 12px;\n",
              "    }\n",
              "\n",
              "    .colab-df-convert {\n",
              "      background-color: #E8F0FE;\n",
              "      border: none;\n",
              "      border-radius: 50%;\n",
              "      cursor: pointer;\n",
              "      display: none;\n",
              "      fill: #1967D2;\n",
              "      height: 32px;\n",
              "      padding: 0 0 0 0;\n",
              "      width: 32px;\n",
              "    }\n",
              "\n",
              "    .colab-df-convert:hover {\n",
              "      background-color: #E2EBFA;\n",
              "      box-shadow: 0px 1px 2px rgba(60, 64, 67, 0.3), 0px 1px 3px 1px rgba(60, 64, 67, 0.15);\n",
              "      fill: #174EA6;\n",
              "    }\n",
              "\n",
              "    [theme=dark] .colab-df-convert {\n",
              "      background-color: #3B4455;\n",
              "      fill: #D2E3FC;\n",
              "    }\n",
              "\n",
              "    [theme=dark] .colab-df-convert:hover {\n",
              "      background-color: #434B5C;\n",
              "      box-shadow: 0px 1px 3px 1px rgba(0, 0, 0, 0.15);\n",
              "      filter: drop-shadow(0px 1px 2px rgba(0, 0, 0, 0.3));\n",
              "      fill: #FFFFFF;\n",
              "    }\n",
              "  </style>\n",
              "\n",
              "      <script>\n",
              "        const buttonEl =\n",
              "          document.querySelector('#df-1aedfd27-5d42-4a92-af18-038a2d4d65eb button.colab-df-convert');\n",
              "        buttonEl.style.display =\n",
              "          google.colab.kernel.accessAllowed ? 'block' : 'none';\n",
              "\n",
              "        async function convertToInteractive(key) {\n",
              "          const element = document.querySelector('#df-1aedfd27-5d42-4a92-af18-038a2d4d65eb');\n",
              "          const dataTable =\n",
              "            await google.colab.kernel.invokeFunction('convertToInteractive',\n",
              "                                                     [key], {});\n",
              "          if (!dataTable) return;\n",
              "\n",
              "          const docLinkHtml = 'Like what you see? Visit the ' +\n",
              "            '<a target=\"_blank\" href=https://colab.research.google.com/notebooks/data_table.ipynb>data table notebook</a>'\n",
              "            + ' to learn more about interactive tables.';\n",
              "          element.innerHTML = '';\n",
              "          dataTable['output_type'] = 'display_data';\n",
              "          await google.colab.output.renderOutput(dataTable, element);\n",
              "          const docLink = document.createElement('div');\n",
              "          docLink.innerHTML = docLinkHtml;\n",
              "          element.appendChild(docLink);\n",
              "        }\n",
              "      </script>\n",
              "    </div>\n",
              "  </div>\n",
              "  "
            ]
          },
          "metadata": {},
          "execution_count": 66
        }
      ]
    },
    {
      "cell_type": "markdown",
      "source": [
        "### Inconsistências"
      ],
      "metadata": {
        "id": "_qJZuZ5LFPwj"
      }
    },
    {
      "cell_type": "markdown",
      "source": [
        "#### Verificando a coluna `Idosos`\n"
      ],
      "metadata": {
        "id": "jl5YOTpeG8oC"
      }
    },
    {
      "cell_type": "code",
      "source": [
        "clientes['Idoso'].dtype"
      ],
      "metadata": {
        "colab": {
          "base_uri": "https://localhost:8080/"
        },
        "id": "rm-J_wMYHJMR",
        "outputId": "5fc69d1c-a062-42c8-ed18-5cf152ad02a3"
      },
      "execution_count": 67,
      "outputs": [
        {
          "output_type": "execute_result",
          "data": {
            "text/plain": [
              "dtype('int64')"
            ]
          },
          "metadata": {},
          "execution_count": 67
        }
      ]
    },
    {
      "cell_type": "markdown",
      "source": [
        "Como dito anteriormente a coluna `Idoso` tem o formato de número inteiros, porém com essa coluna serve para indicar se o cliente tem mais de 65 anos ou não, ou ela era preenchida de `Sim` ou `Não`, ou seus valores deveriam ser booleanos, facilitando assim a analise estatista e futuras previsões. "
      ],
      "metadata": {
        "id": "ExdbmOo1I8kd"
      }
    },
    {
      "cell_type": "code",
      "source": [
        "clientes['Idoso'] = clientes['Idoso'].astype('bool')"
      ],
      "metadata": {
        "id": "dVrptRAWJM-A"
      },
      "execution_count": 68,
      "outputs": []
    },
    {
      "cell_type": "code",
      "source": [
        "clientes['Idoso'].dtype"
      ],
      "metadata": {
        "colab": {
          "base_uri": "https://localhost:8080/"
        },
        "id": "PrjFvdqUJcVz",
        "outputId": "bc493897-ad8f-4dba-831f-0909cf4718fe"
      },
      "execution_count": 69,
      "outputs": [
        {
          "output_type": "execute_result",
          "data": {
            "text/plain": [
              "dtype('bool')"
            ]
          },
          "metadata": {},
          "execution_count": 69
        }
      ]
    },
    {
      "cell_type": "markdown",
      "source": [
        "#### Verificando a coluna `Múltiplas Linhas`\n"
      ],
      "metadata": {
        "id": "xWNjPbyHJs_V"
      }
    },
    {
      "cell_type": "markdown",
      "source": [
        "Como a coluna `Múltiplas Linhas` traz a possibilidade de o cliente ter mais de uma linha isso, porém se o cliente já possui o serviço de telefonia nessa coluna não se pode encontrar valores do tipo `Sem serviço de Telefone`, pois isso causa um incoerência visto que anteriormente já havia sido dito que ele possui este serviço."
      ],
      "metadata": {
        "id": "IJI1PQ5lTV82"
      }
    },
    {
      "cell_type": "code",
      "source": [
        "selecao = (clientes['Múltiplas Linhas'] == 'Sem serviço de Telefone') & (clientes['Telefone'] == 'Sim')\n",
        "print(f'Existem {clientes[selecao].shape[0]} clientes nessa inconsistência')"
      ],
      "metadata": {
        "colab": {
          "base_uri": "https://localhost:8080/"
        },
        "id": "Op4rWRssPTx-",
        "outputId": "948890a4-1ead-468c-9fbc-ecd47d23643c"
      },
      "execution_count": 70,
      "outputs": [
        {
          "output_type": "stream",
          "name": "stdout",
          "text": [
            "Existem 0 clientes nessa inconsistência\n"
          ]
        }
      ]
    },
    {
      "cell_type": "markdown",
      "source": [
        "#### Verificando a coluna `Seguro Online`\n"
      ],
      "metadata": {
        "id": "RGX6FPzjXru4"
      }
    },
    {
      "cell_type": "markdown",
      "source": [
        "As colunas referentes a Internet do cliente são `Serviço de Internet`, `Seguro Online`, `Backup Online`, `Proteção do Dispositivo`, `Streaming de TV` e `Streaming de Filmes`, essa categorias se correlacionam, pois se o cliente possuir algum tipo de `Serviço de Internet`, as outras colunas não podem esta preenchidas por `Sem serviço de Internet`. \n"
      ],
      "metadata": {
        "id": "f-YN1cJUXrHr"
      }
    },
    {
      "cell_type": "code",
      "source": [
        "selecao_1 = (clientes['Seguro Online'] == 'Sem serviço de Internet') & (clientes['Serviço de Internet'] == 'Sim')\n",
        "selecao_2 = (clientes['Backup Online'] == 'Sem serviço de Internet') & (clientes['Serviço de Internet'] == 'Sim')\n",
        "selecao_3 = (clientes['Proteção do Dispositivo'] == 'Sem serviço de Internet') & (clientes['Serviço de Internet'] == 'Sim')\n",
        "selecao_4 = (clientes['Streaming de Tv'] == 'Sem serviço de Internet') & (clientes['Serviço de Internet'] != 'Não Possui')\n",
        "selecao_5 = (clientes['Streaming de Filmes'] == 'Sem serviço de Internet') & (clientes['Serviço de Internet'] != 'Não Possui')\n",
        "print(f'Nº de Inconsistências em Seguro Online: {clientes[selecao_1].shape[0]}')\n",
        "print(f'Nº de Inconsistências em Backup Online: {clientes[selecao_2].shape[0]}')\n",
        "print(f'Nº de Inconsistências em Proteção do Dispositivo: {clientes[selecao_3].shape[0]}')\n",
        "print(f'Nº de Inconsistências em Streaming de Tv: {clientes[selecao_4].shape[0]}')\n",
        "print(f'Nº de Inconsistências em Streaming de Filmes: {clientes[selecao_5].shape[0]}')"
      ],
      "metadata": {
        "colab": {
          "base_uri": "https://localhost:8080/"
        },
        "id": "imL_Ln7MdMhM",
        "outputId": "da86a57d-d3f9-4d59-981e-1805ec6104e0"
      },
      "execution_count": 71,
      "outputs": [
        {
          "output_type": "stream",
          "name": "stdout",
          "text": [
            "Nº de Inconsistências em Seguro Online: 0\n",
            "Nº de Inconsistências em Backup Online: 0\n",
            "Nº de Inconsistências em Proteção do Dispositivo: 0\n",
            "Nº de Inconsistências em Streaming de Tv: 0\n",
            "Nº de Inconsistências em Streaming de Filmes: 0\n"
          ]
        }
      ]
    },
    {
      "cell_type": "markdown",
      "source": [
        "#### Verificando a coluna `Gasto Total`\n"
      ],
      "metadata": {
        "id": "a7m9-NGHkN9X"
      }
    },
    {
      "cell_type": "markdown",
      "source": [
        "A coluna `Gasto Total` está no formato objeto, mas para que se possa trabalhar melhor a estatística do DataFrame e até mesmo para se ter um modelo de Machine Learning mais preciso, é preciso que esta coluna esteja como `float`, pois assim se poderá trabalhar com os números de cada cliente. "
      ],
      "metadata": {
        "id": "MDnoQYFwEvpx"
      }
    },
    {
      "cell_type": "code",
      "source": [
        "# Trocando a separação da casa decimal por ponto em vez de virgula \n",
        "clientes['Gasto Total'] = clientes['Gasto Total'].replace(',', '.')"
      ],
      "metadata": {
        "id": "Q8TOfbx4ORIz"
      },
      "execution_count": 72,
      "outputs": []
    },
    {
      "cell_type": "markdown",
      "source": [
        "Anteriormente já havia sido observado um valor inconsistente para essa coluna, um valor vazio, por isso é preciso que se analise melhor esses dados.\n"
      ],
      "metadata": {
        "id": "YwkCrluTFj4G"
      }
    },
    {
      "cell_type": "code",
      "source": [
        "clientes['Gasto Total'].value_counts()"
      ],
      "metadata": {
        "colab": {
          "base_uri": "https://localhost:8080/"
        },
        "id": "OjD2JbskFigQ",
        "outputId": "20adc636-0c7b-4d75-b259-9d6f94f012dc"
      },
      "execution_count": 73,
      "outputs": [
        {
          "output_type": "execute_result",
          "data": {
            "text/plain": [
              "           11\n",
              "20.2       11\n",
              "19.75       9\n",
              "19.55       9\n",
              "19.9        9\n",
              "           ..\n",
              "272         1\n",
              "1426.45     1\n",
              "371.6       1\n",
              "6786.4      1\n",
              "3707.6      1\n",
              "Name: Gasto Total, Length: 6531, dtype: int64"
            ]
          },
          "metadata": {},
          "execution_count": 73
        }
      ]
    },
    {
      "cell_type": "code",
      "source": [
        "(clientes['Gasto Total'] == ' ').sum()"
      ],
      "metadata": {
        "colab": {
          "base_uri": "https://localhost:8080/"
        },
        "id": "qqEz9Oe5VnBM",
        "outputId": "1020f923-0200-401a-c6c3-5ce2eaf35f99"
      },
      "execution_count": 74,
      "outputs": [
        {
          "output_type": "execute_result",
          "data": {
            "text/plain": [
              "11"
            ]
          },
          "metadata": {},
          "execution_count": 74
        }
      ]
    },
    {
      "cell_type": "code",
      "source": [
        "clientes[clientes['Gasto Total'] == ' '][['Tempo de Cliente', 'Metodo de Pagamento', 'Gasto Mensal', 'Gasto Total']]"
      ],
      "metadata": {
        "colab": {
          "base_uri": "https://localhost:8080/",
          "height": 394
        },
        "id": "vgLhkWMsGAV-",
        "outputId": "208a4590-c55e-4469-9b8a-19fa5dba95a9"
      },
      "execution_count": 75,
      "outputs": [
        {
          "output_type": "execute_result",
          "data": {
            "text/plain": [
              "      Tempo de Cliente                  Metodo de Pagamento  Gasto Mensal  \\\n",
              "975                  0       Cartão de crédito (Automático)         56.05   \n",
              "1775                 0                      Envio de Cheque         20.00   \n",
              "1955                 0  Transferência Bancária (Automático)         61.90   \n",
              "2075                 0                      Envio de Cheque         19.70   \n",
              "2232                 0                      Envio de Cheque         20.25   \n",
              "2308                 0                      Envio de Cheque         25.35   \n",
              "2930                 0                      Envio de Cheque         73.35   \n",
              "3134                 0                      Envio de Cheque         25.75   \n",
              "3203                 0  Transferência Bancária (Automático)         52.55   \n",
              "4169                 0                      Envio de Cheque         80.85   \n",
              "5599                 0                      Envio de Cheque         19.85   \n",
              "\n",
              "     Gasto Total  \n",
              "975               \n",
              "1775              \n",
              "1955              \n",
              "2075              \n",
              "2232              \n",
              "2308              \n",
              "2930              \n",
              "3134              \n",
              "3203              \n",
              "4169              \n",
              "5599              "
            ],
            "text/html": [
              "\n",
              "  <div id=\"df-d3d64ce3-b64d-4091-a34a-4df68e7bec51\">\n",
              "    <div class=\"colab-df-container\">\n",
              "      <div>\n",
              "<style scoped>\n",
              "    .dataframe tbody tr th:only-of-type {\n",
              "        vertical-align: middle;\n",
              "    }\n",
              "\n",
              "    .dataframe tbody tr th {\n",
              "        vertical-align: top;\n",
              "    }\n",
              "\n",
              "    .dataframe thead th {\n",
              "        text-align: right;\n",
              "    }\n",
              "</style>\n",
              "<table border=\"1\" class=\"dataframe\">\n",
              "  <thead>\n",
              "    <tr style=\"text-align: right;\">\n",
              "      <th></th>\n",
              "      <th>Tempo de Cliente</th>\n",
              "      <th>Metodo de Pagamento</th>\n",
              "      <th>Gasto Mensal</th>\n",
              "      <th>Gasto Total</th>\n",
              "    </tr>\n",
              "  </thead>\n",
              "  <tbody>\n",
              "    <tr>\n",
              "      <th>975</th>\n",
              "      <td>0</td>\n",
              "      <td>Cartão de crédito (Automático)</td>\n",
              "      <td>56.05</td>\n",
              "      <td></td>\n",
              "    </tr>\n",
              "    <tr>\n",
              "      <th>1775</th>\n",
              "      <td>0</td>\n",
              "      <td>Envio de Cheque</td>\n",
              "      <td>20.00</td>\n",
              "      <td></td>\n",
              "    </tr>\n",
              "    <tr>\n",
              "      <th>1955</th>\n",
              "      <td>0</td>\n",
              "      <td>Transferência Bancária (Automático)</td>\n",
              "      <td>61.90</td>\n",
              "      <td></td>\n",
              "    </tr>\n",
              "    <tr>\n",
              "      <th>2075</th>\n",
              "      <td>0</td>\n",
              "      <td>Envio de Cheque</td>\n",
              "      <td>19.70</td>\n",
              "      <td></td>\n",
              "    </tr>\n",
              "    <tr>\n",
              "      <th>2232</th>\n",
              "      <td>0</td>\n",
              "      <td>Envio de Cheque</td>\n",
              "      <td>20.25</td>\n",
              "      <td></td>\n",
              "    </tr>\n",
              "    <tr>\n",
              "      <th>2308</th>\n",
              "      <td>0</td>\n",
              "      <td>Envio de Cheque</td>\n",
              "      <td>25.35</td>\n",
              "      <td></td>\n",
              "    </tr>\n",
              "    <tr>\n",
              "      <th>2930</th>\n",
              "      <td>0</td>\n",
              "      <td>Envio de Cheque</td>\n",
              "      <td>73.35</td>\n",
              "      <td></td>\n",
              "    </tr>\n",
              "    <tr>\n",
              "      <th>3134</th>\n",
              "      <td>0</td>\n",
              "      <td>Envio de Cheque</td>\n",
              "      <td>25.75</td>\n",
              "      <td></td>\n",
              "    </tr>\n",
              "    <tr>\n",
              "      <th>3203</th>\n",
              "      <td>0</td>\n",
              "      <td>Transferência Bancária (Automático)</td>\n",
              "      <td>52.55</td>\n",
              "      <td></td>\n",
              "    </tr>\n",
              "    <tr>\n",
              "      <th>4169</th>\n",
              "      <td>0</td>\n",
              "      <td>Envio de Cheque</td>\n",
              "      <td>80.85</td>\n",
              "      <td></td>\n",
              "    </tr>\n",
              "    <tr>\n",
              "      <th>5599</th>\n",
              "      <td>0</td>\n",
              "      <td>Envio de Cheque</td>\n",
              "      <td>19.85</td>\n",
              "      <td></td>\n",
              "    </tr>\n",
              "  </tbody>\n",
              "</table>\n",
              "</div>\n",
              "      <button class=\"colab-df-convert\" onclick=\"convertToInteractive('df-d3d64ce3-b64d-4091-a34a-4df68e7bec51')\"\n",
              "              title=\"Convert this dataframe to an interactive table.\"\n",
              "              style=\"display:none;\">\n",
              "        \n",
              "  <svg xmlns=\"http://www.w3.org/2000/svg\" height=\"24px\"viewBox=\"0 0 24 24\"\n",
              "       width=\"24px\">\n",
              "    <path d=\"M0 0h24v24H0V0z\" fill=\"none\"/>\n",
              "    <path d=\"M18.56 5.44l.94 2.06.94-2.06 2.06-.94-2.06-.94-.94-2.06-.94 2.06-2.06.94zm-11 1L8.5 8.5l.94-2.06 2.06-.94-2.06-.94L8.5 2.5l-.94 2.06-2.06.94zm10 10l.94 2.06.94-2.06 2.06-.94-2.06-.94-.94-2.06-.94 2.06-2.06.94z\"/><path d=\"M17.41 7.96l-1.37-1.37c-.4-.4-.92-.59-1.43-.59-.52 0-1.04.2-1.43.59L10.3 9.45l-7.72 7.72c-.78.78-.78 2.05 0 2.83L4 21.41c.39.39.9.59 1.41.59.51 0 1.02-.2 1.41-.59l7.78-7.78 2.81-2.81c.8-.78.8-2.07 0-2.86zM5.41 20L4 18.59l7.72-7.72 1.47 1.35L5.41 20z\"/>\n",
              "  </svg>\n",
              "      </button>\n",
              "      \n",
              "  <style>\n",
              "    .colab-df-container {\n",
              "      display:flex;\n",
              "      flex-wrap:wrap;\n",
              "      gap: 12px;\n",
              "    }\n",
              "\n",
              "    .colab-df-convert {\n",
              "      background-color: #E8F0FE;\n",
              "      border: none;\n",
              "      border-radius: 50%;\n",
              "      cursor: pointer;\n",
              "      display: none;\n",
              "      fill: #1967D2;\n",
              "      height: 32px;\n",
              "      padding: 0 0 0 0;\n",
              "      width: 32px;\n",
              "    }\n",
              "\n",
              "    .colab-df-convert:hover {\n",
              "      background-color: #E2EBFA;\n",
              "      box-shadow: 0px 1px 2px rgba(60, 64, 67, 0.3), 0px 1px 3px 1px rgba(60, 64, 67, 0.15);\n",
              "      fill: #174EA6;\n",
              "    }\n",
              "\n",
              "    [theme=dark] .colab-df-convert {\n",
              "      background-color: #3B4455;\n",
              "      fill: #D2E3FC;\n",
              "    }\n",
              "\n",
              "    [theme=dark] .colab-df-convert:hover {\n",
              "      background-color: #434B5C;\n",
              "      box-shadow: 0px 1px 3px 1px rgba(0, 0, 0, 0.15);\n",
              "      filter: drop-shadow(0px 1px 2px rgba(0, 0, 0, 0.3));\n",
              "      fill: #FFFFFF;\n",
              "    }\n",
              "  </style>\n",
              "\n",
              "      <script>\n",
              "        const buttonEl =\n",
              "          document.querySelector('#df-d3d64ce3-b64d-4091-a34a-4df68e7bec51 button.colab-df-convert');\n",
              "        buttonEl.style.display =\n",
              "          google.colab.kernel.accessAllowed ? 'block' : 'none';\n",
              "\n",
              "        async function convertToInteractive(key) {\n",
              "          const element = document.querySelector('#df-d3d64ce3-b64d-4091-a34a-4df68e7bec51');\n",
              "          const dataTable =\n",
              "            await google.colab.kernel.invokeFunction('convertToInteractive',\n",
              "                                                     [key], {});\n",
              "          if (!dataTable) return;\n",
              "\n",
              "          const docLinkHtml = 'Like what you see? Visit the ' +\n",
              "            '<a target=\"_blank\" href=https://colab.research.google.com/notebooks/data_table.ipynb>data table notebook</a>'\n",
              "            + ' to learn more about interactive tables.';\n",
              "          element.innerHTML = '';\n",
              "          dataTable['output_type'] = 'display_data';\n",
              "          await google.colab.output.renderOutput(dataTable, element);\n",
              "          const docLink = document.createElement('div');\n",
              "          docLink.innerHTML = docLinkHtml;\n",
              "          element.appendChild(docLink);\n",
              "        }\n",
              "      </script>\n",
              "    </div>\n",
              "  </div>\n",
              "  "
            ]
          },
          "metadata": {},
          "execution_count": 75
        }
      ]
    },
    {
      "cell_type": "markdown",
      "source": [
        "Estes 11 clientes que não possuem `Gasto Total`, são clientes novos, não completaram um mês ainda como clientes, então para preencher esse campos faltes a coluna Gasto Total será o valor da Coluna Mensal, tendo em vista que esse valor será cobrado a ele ao final do seu primeiro mês com cliente."
      ],
      "metadata": {
        "id": "IZIjd-H3K09R"
      }
    },
    {
      "cell_type": "code",
      "source": [
        "clientes[clientes['Gasto Total']==0] = clientes['Gasto Mensal'] "
      ],
      "metadata": {
        "id": "7CXh_jr9UiuF"
      },
      "execution_count": 76,
      "outputs": []
    },
    {
      "cell_type": "code",
      "source": [
        "clientes['Gasto Total'] = pd.to_numeric(clientes['Gasto Total'], errors = 'coerce')"
      ],
      "metadata": {
        "id": "3NE9xTIDRbNs"
      },
      "execution_count": 77,
      "outputs": []
    },
    {
      "cell_type": "code",
      "source": [
        "clientes['Gasto Total'].dtype"
      ],
      "metadata": {
        "colab": {
          "base_uri": "https://localhost:8080/"
        },
        "id": "N8bsOUQCChtN",
        "outputId": "281d29cd-fef4-45e8-bf51-8b5a4d25eed9"
      },
      "execution_count": 78,
      "outputs": [
        {
          "output_type": "execute_result",
          "data": {
            "text/plain": [
              "dtype('float64')"
            ]
          },
          "metadata": {},
          "execution_count": 78
        }
      ]
    },
    {
      "cell_type": "markdown",
      "source": [
        "#### Verificando a coluna `Cancelamento`\n"
      ],
      "metadata": {
        "id": "xK7Qvrm-e-AL"
      }
    },
    {
      "cell_type": "code",
      "source": [
        "clientes['Cancelamento'].unique()"
      ],
      "metadata": {
        "colab": {
          "base_uri": "https://localhost:8080/"
        },
        "id": "ZJFm6iktbWfW",
        "outputId": "62bfa501-80c2-43f0-bf66-63ae7146ff12"
      },
      "execution_count": 79,
      "outputs": [
        {
          "output_type": "execute_result",
          "data": {
            "text/plain": [
              "array(['Não', 'Sim', nan], dtype=object)"
            ]
          },
          "metadata": {},
          "execution_count": 79
        }
      ]
    },
    {
      "cell_type": "code",
      "source": [
        "(clientes['Cancelamento'] == '').sum()"
      ],
      "metadata": {
        "colab": {
          "base_uri": "https://localhost:8080/"
        },
        "id": "IViXV74scXp3",
        "outputId": "62c71cec-e226-4c1a-c068-38a890791400"
      },
      "execution_count": 80,
      "outputs": [
        {
          "output_type": "execute_result",
          "data": {
            "text/plain": [
              "0"
            ]
          },
          "metadata": {},
          "execution_count": 80
        }
      ]
    },
    {
      "cell_type": "markdown",
      "source": [
        "\n",
        "Por fim ao verificar os valores da coluna `Cancelamento`, nota-se que existe um valor que não satisfaz a necessidade do nosso estudo, por mais que a coluna não traga valores vazios, ela traz um valor de uma string sem conteúdo, sendo assim algo bem parecido com um valor vazio, e como o objetivo principal de estudo da analise é justamente a taxa de Chrun, esses  224 clientes serão retirados do DataFrame para que se possa fazer um estudo melhor dos valores.\n"
      ],
      "metadata": {
        "id": "1EwoMCMVbjo2"
      }
    },
    {
      "cell_type": "code",
      "source": [
        "clientes = clientes[clientes['Cancelamento'] != '']"
      ],
      "metadata": {
        "id": "-gWyx47RaSox"
      },
      "execution_count": 81,
      "outputs": []
    },
    {
      "cell_type": "code",
      "source": [
        "# resetando o index\n",
        "clientes.reset_index()"
      ],
      "metadata": {
        "colab": {
          "base_uri": "https://localhost:8080/",
          "height": 713
        },
        "id": "HM1djA3rfLql",
        "outputId": "1c7b2634-162a-463d-918b-41d3f8838899"
      },
      "execution_count": 82,
      "outputs": [
        {
          "output_type": "execute_result",
          "data": {
            "text/plain": [
              "      index Cancelamento Gênero  Idoso Cônjuge Dependentes  Tempo de Cliente  \\\n",
              "0         0          Não      F  False     Sim         Sim                 9   \n",
              "1         1          Não      M  False     Não         Não                 9   \n",
              "2         2          Sim      M  False     Não         Não                 4   \n",
              "3         3          Sim      M   True     Sim         Não                13   \n",
              "4         4          Sim      F   True     Sim         Não                 3   \n",
              "...     ...          ...    ...    ...     ...         ...               ...   \n",
              "7262   7262          Não      F  False     Não         Não                13   \n",
              "7263   7263          Sim      M  False     Sim         Não                22   \n",
              "7264   7264          Não      M  False     Não         Não                 2   \n",
              "7265   7265          Não      M  False     Sim         Sim                67   \n",
              "7266   7266          Não      M  False     Sim         Sim                63   \n",
              "\n",
              "     Telefone         Múltiplas Linhas Serviço de Internet Seguro Online  \\\n",
              "0         Sim                      Não                 DSL           Não   \n",
              "1         Sim                      Sim                 DSL           Não   \n",
              "2         Sim                      Não       Fibra Optica            Não   \n",
              "3         Sim                      Não       Fibra Optica            Não   \n",
              "4         Sim                      Não       Fibra Optica            Não   \n",
              "...       ...                      ...                 ...           ...   \n",
              "7262      Sim                      Não                 DSL           Sim   \n",
              "7263      Sim                      Sim       Fibra Optica            Não   \n",
              "7264      Sim                      Não                 DSL           Não   \n",
              "7265      Sim                      Não                 DSL           Sim   \n",
              "7266      Não  Sem serviço de Telefone                 DSL           Sim   \n",
              "\n",
              "     Backup Online Proteção do Dispositivo Suporte Técnico Streaming de Tv  \\\n",
              "0              Sim                     Não             Sim             Sim   \n",
              "1              Não                     Não             Não             Não   \n",
              "2              Não                     Sim             Não             Não   \n",
              "3              Sim                     Sim             Não             Sim   \n",
              "4              Não                     Não             Sim             Sim   \n",
              "...            ...                     ...             ...             ...   \n",
              "7262           Não                     Não             Sim             Não   \n",
              "7263           Não                     Não             Não             Não   \n",
              "7264           Sim                     Não             Não             Não   \n",
              "7265           Não                     Sim             Sim             Não   \n",
              "7266           Sim                     Sim             Não             Sim   \n",
              "\n",
              "     Streaming de Filmes Tempo de Contrato Fatura sem Papel  \\\n",
              "0                    Não            Um Ano              Sim   \n",
              "1                    Sim         Mês a mês              Não   \n",
              "2                    Não         Mês a mês              Sim   \n",
              "3                    Sim         Mês a mês              Sim   \n",
              "4                    Não         Mês a mês              Sim   \n",
              "...                  ...               ...              ...   \n",
              "7262                 Não            Um Ano              Não   \n",
              "7263                 Sim         Mês a mês              Sim   \n",
              "7264                 Não         Mês a mês              Sim   \n",
              "7265                 Sim         Dois Anos              Não   \n",
              "7266                 Sim         Dois Anos              Não   \n",
              "\n",
              "     Metodo de Pagamento  Gasto Mensal  Gasto Total  \n",
              "0        Envio de Cheque         65.60       593.30  \n",
              "1        Envio de Cheque         59.90       542.40  \n",
              "2      Cheque eletrônico         73.90       280.85  \n",
              "3      Cheque eletrônico         98.00      1237.85  \n",
              "4        Envio de Cheque         83.90       267.40  \n",
              "...                  ...           ...          ...  \n",
              "7262     Envio de Cheque         55.15       742.90  \n",
              "7263   Cheque eletrônico         85.10      1873.70  \n",
              "7264     Envio de Cheque         50.30        92.75  \n",
              "7265     Envio de Cheque         67.85      4627.65  \n",
              "7266   Cheque eletrônico         59.00      3707.60  \n",
              "\n",
              "[7267 rows x 21 columns]"
            ],
            "text/html": [
              "\n",
              "  <div id=\"df-4e0357d9-4b81-4395-bab5-c0944874c0b1\">\n",
              "    <div class=\"colab-df-container\">\n",
              "      <div>\n",
              "<style scoped>\n",
              "    .dataframe tbody tr th:only-of-type {\n",
              "        vertical-align: middle;\n",
              "    }\n",
              "\n",
              "    .dataframe tbody tr th {\n",
              "        vertical-align: top;\n",
              "    }\n",
              "\n",
              "    .dataframe thead th {\n",
              "        text-align: right;\n",
              "    }\n",
              "</style>\n",
              "<table border=\"1\" class=\"dataframe\">\n",
              "  <thead>\n",
              "    <tr style=\"text-align: right;\">\n",
              "      <th></th>\n",
              "      <th>index</th>\n",
              "      <th>Cancelamento</th>\n",
              "      <th>Gênero</th>\n",
              "      <th>Idoso</th>\n",
              "      <th>Cônjuge</th>\n",
              "      <th>Dependentes</th>\n",
              "      <th>Tempo de Cliente</th>\n",
              "      <th>Telefone</th>\n",
              "      <th>Múltiplas Linhas</th>\n",
              "      <th>Serviço de Internet</th>\n",
              "      <th>Seguro Online</th>\n",
              "      <th>Backup Online</th>\n",
              "      <th>Proteção do Dispositivo</th>\n",
              "      <th>Suporte Técnico</th>\n",
              "      <th>Streaming de Tv</th>\n",
              "      <th>Streaming de Filmes</th>\n",
              "      <th>Tempo de Contrato</th>\n",
              "      <th>Fatura sem Papel</th>\n",
              "      <th>Metodo de Pagamento</th>\n",
              "      <th>Gasto Mensal</th>\n",
              "      <th>Gasto Total</th>\n",
              "    </tr>\n",
              "  </thead>\n",
              "  <tbody>\n",
              "    <tr>\n",
              "      <th>0</th>\n",
              "      <td>0</td>\n",
              "      <td>Não</td>\n",
              "      <td>F</td>\n",
              "      <td>False</td>\n",
              "      <td>Sim</td>\n",
              "      <td>Sim</td>\n",
              "      <td>9</td>\n",
              "      <td>Sim</td>\n",
              "      <td>Não</td>\n",
              "      <td>DSL</td>\n",
              "      <td>Não</td>\n",
              "      <td>Sim</td>\n",
              "      <td>Não</td>\n",
              "      <td>Sim</td>\n",
              "      <td>Sim</td>\n",
              "      <td>Não</td>\n",
              "      <td>Um Ano</td>\n",
              "      <td>Sim</td>\n",
              "      <td>Envio de Cheque</td>\n",
              "      <td>65.60</td>\n",
              "      <td>593.30</td>\n",
              "    </tr>\n",
              "    <tr>\n",
              "      <th>1</th>\n",
              "      <td>1</td>\n",
              "      <td>Não</td>\n",
              "      <td>M</td>\n",
              "      <td>False</td>\n",
              "      <td>Não</td>\n",
              "      <td>Não</td>\n",
              "      <td>9</td>\n",
              "      <td>Sim</td>\n",
              "      <td>Sim</td>\n",
              "      <td>DSL</td>\n",
              "      <td>Não</td>\n",
              "      <td>Não</td>\n",
              "      <td>Não</td>\n",
              "      <td>Não</td>\n",
              "      <td>Não</td>\n",
              "      <td>Sim</td>\n",
              "      <td>Mês a mês</td>\n",
              "      <td>Não</td>\n",
              "      <td>Envio de Cheque</td>\n",
              "      <td>59.90</td>\n",
              "      <td>542.40</td>\n",
              "    </tr>\n",
              "    <tr>\n",
              "      <th>2</th>\n",
              "      <td>2</td>\n",
              "      <td>Sim</td>\n",
              "      <td>M</td>\n",
              "      <td>False</td>\n",
              "      <td>Não</td>\n",
              "      <td>Não</td>\n",
              "      <td>4</td>\n",
              "      <td>Sim</td>\n",
              "      <td>Não</td>\n",
              "      <td>Fibra Optica</td>\n",
              "      <td>Não</td>\n",
              "      <td>Não</td>\n",
              "      <td>Sim</td>\n",
              "      <td>Não</td>\n",
              "      <td>Não</td>\n",
              "      <td>Não</td>\n",
              "      <td>Mês a mês</td>\n",
              "      <td>Sim</td>\n",
              "      <td>Cheque eletrônico</td>\n",
              "      <td>73.90</td>\n",
              "      <td>280.85</td>\n",
              "    </tr>\n",
              "    <tr>\n",
              "      <th>3</th>\n",
              "      <td>3</td>\n",
              "      <td>Sim</td>\n",
              "      <td>M</td>\n",
              "      <td>True</td>\n",
              "      <td>Sim</td>\n",
              "      <td>Não</td>\n",
              "      <td>13</td>\n",
              "      <td>Sim</td>\n",
              "      <td>Não</td>\n",
              "      <td>Fibra Optica</td>\n",
              "      <td>Não</td>\n",
              "      <td>Sim</td>\n",
              "      <td>Sim</td>\n",
              "      <td>Não</td>\n",
              "      <td>Sim</td>\n",
              "      <td>Sim</td>\n",
              "      <td>Mês a mês</td>\n",
              "      <td>Sim</td>\n",
              "      <td>Cheque eletrônico</td>\n",
              "      <td>98.00</td>\n",
              "      <td>1237.85</td>\n",
              "    </tr>\n",
              "    <tr>\n",
              "      <th>4</th>\n",
              "      <td>4</td>\n",
              "      <td>Sim</td>\n",
              "      <td>F</td>\n",
              "      <td>True</td>\n",
              "      <td>Sim</td>\n",
              "      <td>Não</td>\n",
              "      <td>3</td>\n",
              "      <td>Sim</td>\n",
              "      <td>Não</td>\n",
              "      <td>Fibra Optica</td>\n",
              "      <td>Não</td>\n",
              "      <td>Não</td>\n",
              "      <td>Não</td>\n",
              "      <td>Sim</td>\n",
              "      <td>Sim</td>\n",
              "      <td>Não</td>\n",
              "      <td>Mês a mês</td>\n",
              "      <td>Sim</td>\n",
              "      <td>Envio de Cheque</td>\n",
              "      <td>83.90</td>\n",
              "      <td>267.40</td>\n",
              "    </tr>\n",
              "    <tr>\n",
              "      <th>...</th>\n",
              "      <td>...</td>\n",
              "      <td>...</td>\n",
              "      <td>...</td>\n",
              "      <td>...</td>\n",
              "      <td>...</td>\n",
              "      <td>...</td>\n",
              "      <td>...</td>\n",
              "      <td>...</td>\n",
              "      <td>...</td>\n",
              "      <td>...</td>\n",
              "      <td>...</td>\n",
              "      <td>...</td>\n",
              "      <td>...</td>\n",
              "      <td>...</td>\n",
              "      <td>...</td>\n",
              "      <td>...</td>\n",
              "      <td>...</td>\n",
              "      <td>...</td>\n",
              "      <td>...</td>\n",
              "      <td>...</td>\n",
              "      <td>...</td>\n",
              "    </tr>\n",
              "    <tr>\n",
              "      <th>7262</th>\n",
              "      <td>7262</td>\n",
              "      <td>Não</td>\n",
              "      <td>F</td>\n",
              "      <td>False</td>\n",
              "      <td>Não</td>\n",
              "      <td>Não</td>\n",
              "      <td>13</td>\n",
              "      <td>Sim</td>\n",
              "      <td>Não</td>\n",
              "      <td>DSL</td>\n",
              "      <td>Sim</td>\n",
              "      <td>Não</td>\n",
              "      <td>Não</td>\n",
              "      <td>Sim</td>\n",
              "      <td>Não</td>\n",
              "      <td>Não</td>\n",
              "      <td>Um Ano</td>\n",
              "      <td>Não</td>\n",
              "      <td>Envio de Cheque</td>\n",
              "      <td>55.15</td>\n",
              "      <td>742.90</td>\n",
              "    </tr>\n",
              "    <tr>\n",
              "      <th>7263</th>\n",
              "      <td>7263</td>\n",
              "      <td>Sim</td>\n",
              "      <td>M</td>\n",
              "      <td>False</td>\n",
              "      <td>Sim</td>\n",
              "      <td>Não</td>\n",
              "      <td>22</td>\n",
              "      <td>Sim</td>\n",
              "      <td>Sim</td>\n",
              "      <td>Fibra Optica</td>\n",
              "      <td>Não</td>\n",
              "      <td>Não</td>\n",
              "      <td>Não</td>\n",
              "      <td>Não</td>\n",
              "      <td>Não</td>\n",
              "      <td>Sim</td>\n",
              "      <td>Mês a mês</td>\n",
              "      <td>Sim</td>\n",
              "      <td>Cheque eletrônico</td>\n",
              "      <td>85.10</td>\n",
              "      <td>1873.70</td>\n",
              "    </tr>\n",
              "    <tr>\n",
              "      <th>7264</th>\n",
              "      <td>7264</td>\n",
              "      <td>Não</td>\n",
              "      <td>M</td>\n",
              "      <td>False</td>\n",
              "      <td>Não</td>\n",
              "      <td>Não</td>\n",
              "      <td>2</td>\n",
              "      <td>Sim</td>\n",
              "      <td>Não</td>\n",
              "      <td>DSL</td>\n",
              "      <td>Não</td>\n",
              "      <td>Sim</td>\n",
              "      <td>Não</td>\n",
              "      <td>Não</td>\n",
              "      <td>Não</td>\n",
              "      <td>Não</td>\n",
              "      <td>Mês a mês</td>\n",
              "      <td>Sim</td>\n",
              "      <td>Envio de Cheque</td>\n",
              "      <td>50.30</td>\n",
              "      <td>92.75</td>\n",
              "    </tr>\n",
              "    <tr>\n",
              "      <th>7265</th>\n",
              "      <td>7265</td>\n",
              "      <td>Não</td>\n",
              "      <td>M</td>\n",
              "      <td>False</td>\n",
              "      <td>Sim</td>\n",
              "      <td>Sim</td>\n",
              "      <td>67</td>\n",
              "      <td>Sim</td>\n",
              "      <td>Não</td>\n",
              "      <td>DSL</td>\n",
              "      <td>Sim</td>\n",
              "      <td>Não</td>\n",
              "      <td>Sim</td>\n",
              "      <td>Sim</td>\n",
              "      <td>Não</td>\n",
              "      <td>Sim</td>\n",
              "      <td>Dois Anos</td>\n",
              "      <td>Não</td>\n",
              "      <td>Envio de Cheque</td>\n",
              "      <td>67.85</td>\n",
              "      <td>4627.65</td>\n",
              "    </tr>\n",
              "    <tr>\n",
              "      <th>7266</th>\n",
              "      <td>7266</td>\n",
              "      <td>Não</td>\n",
              "      <td>M</td>\n",
              "      <td>False</td>\n",
              "      <td>Sim</td>\n",
              "      <td>Sim</td>\n",
              "      <td>63</td>\n",
              "      <td>Não</td>\n",
              "      <td>Sem serviço de Telefone</td>\n",
              "      <td>DSL</td>\n",
              "      <td>Sim</td>\n",
              "      <td>Sim</td>\n",
              "      <td>Sim</td>\n",
              "      <td>Não</td>\n",
              "      <td>Sim</td>\n",
              "      <td>Sim</td>\n",
              "      <td>Dois Anos</td>\n",
              "      <td>Não</td>\n",
              "      <td>Cheque eletrônico</td>\n",
              "      <td>59.00</td>\n",
              "      <td>3707.60</td>\n",
              "    </tr>\n",
              "  </tbody>\n",
              "</table>\n",
              "<p>7267 rows × 21 columns</p>\n",
              "</div>\n",
              "      <button class=\"colab-df-convert\" onclick=\"convertToInteractive('df-4e0357d9-4b81-4395-bab5-c0944874c0b1')\"\n",
              "              title=\"Convert this dataframe to an interactive table.\"\n",
              "              style=\"display:none;\">\n",
              "        \n",
              "  <svg xmlns=\"http://www.w3.org/2000/svg\" height=\"24px\"viewBox=\"0 0 24 24\"\n",
              "       width=\"24px\">\n",
              "    <path d=\"M0 0h24v24H0V0z\" fill=\"none\"/>\n",
              "    <path d=\"M18.56 5.44l.94 2.06.94-2.06 2.06-.94-2.06-.94-.94-2.06-.94 2.06-2.06.94zm-11 1L8.5 8.5l.94-2.06 2.06-.94-2.06-.94L8.5 2.5l-.94 2.06-2.06.94zm10 10l.94 2.06.94-2.06 2.06-.94-2.06-.94-.94-2.06-.94 2.06-2.06.94z\"/><path d=\"M17.41 7.96l-1.37-1.37c-.4-.4-.92-.59-1.43-.59-.52 0-1.04.2-1.43.59L10.3 9.45l-7.72 7.72c-.78.78-.78 2.05 0 2.83L4 21.41c.39.39.9.59 1.41.59.51 0 1.02-.2 1.41-.59l7.78-7.78 2.81-2.81c.8-.78.8-2.07 0-2.86zM5.41 20L4 18.59l7.72-7.72 1.47 1.35L5.41 20z\"/>\n",
              "  </svg>\n",
              "      </button>\n",
              "      \n",
              "  <style>\n",
              "    .colab-df-container {\n",
              "      display:flex;\n",
              "      flex-wrap:wrap;\n",
              "      gap: 12px;\n",
              "    }\n",
              "\n",
              "    .colab-df-convert {\n",
              "      background-color: #E8F0FE;\n",
              "      border: none;\n",
              "      border-radius: 50%;\n",
              "      cursor: pointer;\n",
              "      display: none;\n",
              "      fill: #1967D2;\n",
              "      height: 32px;\n",
              "      padding: 0 0 0 0;\n",
              "      width: 32px;\n",
              "    }\n",
              "\n",
              "    .colab-df-convert:hover {\n",
              "      background-color: #E2EBFA;\n",
              "      box-shadow: 0px 1px 2px rgba(60, 64, 67, 0.3), 0px 1px 3px 1px rgba(60, 64, 67, 0.15);\n",
              "      fill: #174EA6;\n",
              "    }\n",
              "\n",
              "    [theme=dark] .colab-df-convert {\n",
              "      background-color: #3B4455;\n",
              "      fill: #D2E3FC;\n",
              "    }\n",
              "\n",
              "    [theme=dark] .colab-df-convert:hover {\n",
              "      background-color: #434B5C;\n",
              "      box-shadow: 0px 1px 3px 1px rgba(0, 0, 0, 0.15);\n",
              "      filter: drop-shadow(0px 1px 2px rgba(0, 0, 0, 0.3));\n",
              "      fill: #FFFFFF;\n",
              "    }\n",
              "  </style>\n",
              "\n",
              "      <script>\n",
              "        const buttonEl =\n",
              "          document.querySelector('#df-4e0357d9-4b81-4395-bab5-c0944874c0b1 button.colab-df-convert');\n",
              "        buttonEl.style.display =\n",
              "          google.colab.kernel.accessAllowed ? 'block' : 'none';\n",
              "\n",
              "        async function convertToInteractive(key) {\n",
              "          const element = document.querySelector('#df-4e0357d9-4b81-4395-bab5-c0944874c0b1');\n",
              "          const dataTable =\n",
              "            await google.colab.kernel.invokeFunction('convertToInteractive',\n",
              "                                                     [key], {});\n",
              "          if (!dataTable) return;\n",
              "\n",
              "          const docLinkHtml = 'Like what you see? Visit the ' +\n",
              "            '<a target=\"_blank\" href=https://colab.research.google.com/notebooks/data_table.ipynb>data table notebook</a>'\n",
              "            + ' to learn more about interactive tables.';\n",
              "          element.innerHTML = '';\n",
              "          dataTable['output_type'] = 'display_data';\n",
              "          await google.colab.output.renderOutput(dataTable, element);\n",
              "          const docLink = document.createElement('div');\n",
              "          docLink.innerHTML = docLinkHtml;\n",
              "          element.appendChild(docLink);\n",
              "        }\n",
              "      </script>\n",
              "    </div>\n",
              "  </div>\n",
              "  "
            ]
          },
          "metadata": {},
          "execution_count": 82
        }
      ]
    },
    {
      "cell_type": "code",
      "source": [
        "gastos = clientes[['Gasto Mensal','Gasto Total']]\n",
        "clientes.drop(columns = ['Gasto Mensal', 'Gasto Total'], inplace=True)\n",
        "# clientes.drop(columns = ['Gasto Total'], implace=True)\n",
        "clientes['Gasto Diário'] = (gastos['Gasto Mensal'] / 30).round(2)"
      ],
      "metadata": {
        "id": "vaDX_56-4iDz"
      },
      "execution_count": 83,
      "outputs": []
    },
    {
      "cell_type": "code",
      "source": [
        "clientes = pd.concat([clientes, gastos], axis=1)\n",
        "clientes"
      ],
      "metadata": {
        "colab": {
          "base_uri": "https://localhost:8080/",
          "height": 713
        },
        "id": "4iNEU_3L8WC2",
        "outputId": "fe61ef24-aeec-406b-a95d-ac61fa6e59c4"
      },
      "execution_count": 84,
      "outputs": [
        {
          "output_type": "execute_result",
          "data": {
            "text/plain": [
              "     Cancelamento Gênero  Idoso Cônjuge Dependentes  Tempo de Cliente  \\\n",
              "0             Não      F  False     Sim         Sim                 9   \n",
              "1             Não      M  False     Não         Não                 9   \n",
              "2             Sim      M  False     Não         Não                 4   \n",
              "3             Sim      M   True     Sim         Não                13   \n",
              "4             Sim      F   True     Sim         Não                 3   \n",
              "...           ...    ...    ...     ...         ...               ...   \n",
              "7262          Não      F  False     Não         Não                13   \n",
              "7263          Sim      M  False     Sim         Não                22   \n",
              "7264          Não      M  False     Não         Não                 2   \n",
              "7265          Não      M  False     Sim         Sim                67   \n",
              "7266          Não      M  False     Sim         Sim                63   \n",
              "\n",
              "     Telefone         Múltiplas Linhas Serviço de Internet Seguro Online  \\\n",
              "0         Sim                      Não                 DSL           Não   \n",
              "1         Sim                      Sim                 DSL           Não   \n",
              "2         Sim                      Não       Fibra Optica            Não   \n",
              "3         Sim                      Não       Fibra Optica            Não   \n",
              "4         Sim                      Não       Fibra Optica            Não   \n",
              "...       ...                      ...                 ...           ...   \n",
              "7262      Sim                      Não                 DSL           Sim   \n",
              "7263      Sim                      Sim       Fibra Optica            Não   \n",
              "7264      Sim                      Não                 DSL           Não   \n",
              "7265      Sim                      Não                 DSL           Sim   \n",
              "7266      Não  Sem serviço de Telefone                 DSL           Sim   \n",
              "\n",
              "     Backup Online Proteção do Dispositivo Suporte Técnico Streaming de Tv  \\\n",
              "0              Sim                     Não             Sim             Sim   \n",
              "1              Não                     Não             Não             Não   \n",
              "2              Não                     Sim             Não             Não   \n",
              "3              Sim                     Sim             Não             Sim   \n",
              "4              Não                     Não             Sim             Sim   \n",
              "...            ...                     ...             ...             ...   \n",
              "7262           Não                     Não             Sim             Não   \n",
              "7263           Não                     Não             Não             Não   \n",
              "7264           Sim                     Não             Não             Não   \n",
              "7265           Não                     Sim             Sim             Não   \n",
              "7266           Sim                     Sim             Não             Sim   \n",
              "\n",
              "     Streaming de Filmes Tempo de Contrato Fatura sem Papel  \\\n",
              "0                    Não            Um Ano              Sim   \n",
              "1                    Sim         Mês a mês              Não   \n",
              "2                    Não         Mês a mês              Sim   \n",
              "3                    Sim         Mês a mês              Sim   \n",
              "4                    Não         Mês a mês              Sim   \n",
              "...                  ...               ...              ...   \n",
              "7262                 Não            Um Ano              Não   \n",
              "7263                 Sim         Mês a mês              Sim   \n",
              "7264                 Não         Mês a mês              Sim   \n",
              "7265                 Sim         Dois Anos              Não   \n",
              "7266                 Sim         Dois Anos              Não   \n",
              "\n",
              "     Metodo de Pagamento  Gasto Diário  Gasto Mensal  Gasto Total  \n",
              "0        Envio de Cheque          2.19         65.60       593.30  \n",
              "1        Envio de Cheque          2.00         59.90       542.40  \n",
              "2      Cheque eletrônico          2.46         73.90       280.85  \n",
              "3      Cheque eletrônico          3.27         98.00      1237.85  \n",
              "4        Envio de Cheque          2.80         83.90       267.40  \n",
              "...                  ...           ...           ...          ...  \n",
              "7262     Envio de Cheque          1.84         55.15       742.90  \n",
              "7263   Cheque eletrônico          2.84         85.10      1873.70  \n",
              "7264     Envio de Cheque          1.68         50.30        92.75  \n",
              "7265     Envio de Cheque          2.26         67.85      4627.65  \n",
              "7266   Cheque eletrônico          1.97         59.00      3707.60  \n",
              "\n",
              "[7267 rows x 21 columns]"
            ],
            "text/html": [
              "\n",
              "  <div id=\"df-4be1bbe5-d96a-4aca-bc66-8e2f3cd3b56a\">\n",
              "    <div class=\"colab-df-container\">\n",
              "      <div>\n",
              "<style scoped>\n",
              "    .dataframe tbody tr th:only-of-type {\n",
              "        vertical-align: middle;\n",
              "    }\n",
              "\n",
              "    .dataframe tbody tr th {\n",
              "        vertical-align: top;\n",
              "    }\n",
              "\n",
              "    .dataframe thead th {\n",
              "        text-align: right;\n",
              "    }\n",
              "</style>\n",
              "<table border=\"1\" class=\"dataframe\">\n",
              "  <thead>\n",
              "    <tr style=\"text-align: right;\">\n",
              "      <th></th>\n",
              "      <th>Cancelamento</th>\n",
              "      <th>Gênero</th>\n",
              "      <th>Idoso</th>\n",
              "      <th>Cônjuge</th>\n",
              "      <th>Dependentes</th>\n",
              "      <th>Tempo de Cliente</th>\n",
              "      <th>Telefone</th>\n",
              "      <th>Múltiplas Linhas</th>\n",
              "      <th>Serviço de Internet</th>\n",
              "      <th>Seguro Online</th>\n",
              "      <th>Backup Online</th>\n",
              "      <th>Proteção do Dispositivo</th>\n",
              "      <th>Suporte Técnico</th>\n",
              "      <th>Streaming de Tv</th>\n",
              "      <th>Streaming de Filmes</th>\n",
              "      <th>Tempo de Contrato</th>\n",
              "      <th>Fatura sem Papel</th>\n",
              "      <th>Metodo de Pagamento</th>\n",
              "      <th>Gasto Diário</th>\n",
              "      <th>Gasto Mensal</th>\n",
              "      <th>Gasto Total</th>\n",
              "    </tr>\n",
              "  </thead>\n",
              "  <tbody>\n",
              "    <tr>\n",
              "      <th>0</th>\n",
              "      <td>Não</td>\n",
              "      <td>F</td>\n",
              "      <td>False</td>\n",
              "      <td>Sim</td>\n",
              "      <td>Sim</td>\n",
              "      <td>9</td>\n",
              "      <td>Sim</td>\n",
              "      <td>Não</td>\n",
              "      <td>DSL</td>\n",
              "      <td>Não</td>\n",
              "      <td>Sim</td>\n",
              "      <td>Não</td>\n",
              "      <td>Sim</td>\n",
              "      <td>Sim</td>\n",
              "      <td>Não</td>\n",
              "      <td>Um Ano</td>\n",
              "      <td>Sim</td>\n",
              "      <td>Envio de Cheque</td>\n",
              "      <td>2.19</td>\n",
              "      <td>65.60</td>\n",
              "      <td>593.30</td>\n",
              "    </tr>\n",
              "    <tr>\n",
              "      <th>1</th>\n",
              "      <td>Não</td>\n",
              "      <td>M</td>\n",
              "      <td>False</td>\n",
              "      <td>Não</td>\n",
              "      <td>Não</td>\n",
              "      <td>9</td>\n",
              "      <td>Sim</td>\n",
              "      <td>Sim</td>\n",
              "      <td>DSL</td>\n",
              "      <td>Não</td>\n",
              "      <td>Não</td>\n",
              "      <td>Não</td>\n",
              "      <td>Não</td>\n",
              "      <td>Não</td>\n",
              "      <td>Sim</td>\n",
              "      <td>Mês a mês</td>\n",
              "      <td>Não</td>\n",
              "      <td>Envio de Cheque</td>\n",
              "      <td>2.00</td>\n",
              "      <td>59.90</td>\n",
              "      <td>542.40</td>\n",
              "    </tr>\n",
              "    <tr>\n",
              "      <th>2</th>\n",
              "      <td>Sim</td>\n",
              "      <td>M</td>\n",
              "      <td>False</td>\n",
              "      <td>Não</td>\n",
              "      <td>Não</td>\n",
              "      <td>4</td>\n",
              "      <td>Sim</td>\n",
              "      <td>Não</td>\n",
              "      <td>Fibra Optica</td>\n",
              "      <td>Não</td>\n",
              "      <td>Não</td>\n",
              "      <td>Sim</td>\n",
              "      <td>Não</td>\n",
              "      <td>Não</td>\n",
              "      <td>Não</td>\n",
              "      <td>Mês a mês</td>\n",
              "      <td>Sim</td>\n",
              "      <td>Cheque eletrônico</td>\n",
              "      <td>2.46</td>\n",
              "      <td>73.90</td>\n",
              "      <td>280.85</td>\n",
              "    </tr>\n",
              "    <tr>\n",
              "      <th>3</th>\n",
              "      <td>Sim</td>\n",
              "      <td>M</td>\n",
              "      <td>True</td>\n",
              "      <td>Sim</td>\n",
              "      <td>Não</td>\n",
              "      <td>13</td>\n",
              "      <td>Sim</td>\n",
              "      <td>Não</td>\n",
              "      <td>Fibra Optica</td>\n",
              "      <td>Não</td>\n",
              "      <td>Sim</td>\n",
              "      <td>Sim</td>\n",
              "      <td>Não</td>\n",
              "      <td>Sim</td>\n",
              "      <td>Sim</td>\n",
              "      <td>Mês a mês</td>\n",
              "      <td>Sim</td>\n",
              "      <td>Cheque eletrônico</td>\n",
              "      <td>3.27</td>\n",
              "      <td>98.00</td>\n",
              "      <td>1237.85</td>\n",
              "    </tr>\n",
              "    <tr>\n",
              "      <th>4</th>\n",
              "      <td>Sim</td>\n",
              "      <td>F</td>\n",
              "      <td>True</td>\n",
              "      <td>Sim</td>\n",
              "      <td>Não</td>\n",
              "      <td>3</td>\n",
              "      <td>Sim</td>\n",
              "      <td>Não</td>\n",
              "      <td>Fibra Optica</td>\n",
              "      <td>Não</td>\n",
              "      <td>Não</td>\n",
              "      <td>Não</td>\n",
              "      <td>Sim</td>\n",
              "      <td>Sim</td>\n",
              "      <td>Não</td>\n",
              "      <td>Mês a mês</td>\n",
              "      <td>Sim</td>\n",
              "      <td>Envio de Cheque</td>\n",
              "      <td>2.80</td>\n",
              "      <td>83.90</td>\n",
              "      <td>267.40</td>\n",
              "    </tr>\n",
              "    <tr>\n",
              "      <th>...</th>\n",
              "      <td>...</td>\n",
              "      <td>...</td>\n",
              "      <td>...</td>\n",
              "      <td>...</td>\n",
              "      <td>...</td>\n",
              "      <td>...</td>\n",
              "      <td>...</td>\n",
              "      <td>...</td>\n",
              "      <td>...</td>\n",
              "      <td>...</td>\n",
              "      <td>...</td>\n",
              "      <td>...</td>\n",
              "      <td>...</td>\n",
              "      <td>...</td>\n",
              "      <td>...</td>\n",
              "      <td>...</td>\n",
              "      <td>...</td>\n",
              "      <td>...</td>\n",
              "      <td>...</td>\n",
              "      <td>...</td>\n",
              "      <td>...</td>\n",
              "    </tr>\n",
              "    <tr>\n",
              "      <th>7262</th>\n",
              "      <td>Não</td>\n",
              "      <td>F</td>\n",
              "      <td>False</td>\n",
              "      <td>Não</td>\n",
              "      <td>Não</td>\n",
              "      <td>13</td>\n",
              "      <td>Sim</td>\n",
              "      <td>Não</td>\n",
              "      <td>DSL</td>\n",
              "      <td>Sim</td>\n",
              "      <td>Não</td>\n",
              "      <td>Não</td>\n",
              "      <td>Sim</td>\n",
              "      <td>Não</td>\n",
              "      <td>Não</td>\n",
              "      <td>Um Ano</td>\n",
              "      <td>Não</td>\n",
              "      <td>Envio de Cheque</td>\n",
              "      <td>1.84</td>\n",
              "      <td>55.15</td>\n",
              "      <td>742.90</td>\n",
              "    </tr>\n",
              "    <tr>\n",
              "      <th>7263</th>\n",
              "      <td>Sim</td>\n",
              "      <td>M</td>\n",
              "      <td>False</td>\n",
              "      <td>Sim</td>\n",
              "      <td>Não</td>\n",
              "      <td>22</td>\n",
              "      <td>Sim</td>\n",
              "      <td>Sim</td>\n",
              "      <td>Fibra Optica</td>\n",
              "      <td>Não</td>\n",
              "      <td>Não</td>\n",
              "      <td>Não</td>\n",
              "      <td>Não</td>\n",
              "      <td>Não</td>\n",
              "      <td>Sim</td>\n",
              "      <td>Mês a mês</td>\n",
              "      <td>Sim</td>\n",
              "      <td>Cheque eletrônico</td>\n",
              "      <td>2.84</td>\n",
              "      <td>85.10</td>\n",
              "      <td>1873.70</td>\n",
              "    </tr>\n",
              "    <tr>\n",
              "      <th>7264</th>\n",
              "      <td>Não</td>\n",
              "      <td>M</td>\n",
              "      <td>False</td>\n",
              "      <td>Não</td>\n",
              "      <td>Não</td>\n",
              "      <td>2</td>\n",
              "      <td>Sim</td>\n",
              "      <td>Não</td>\n",
              "      <td>DSL</td>\n",
              "      <td>Não</td>\n",
              "      <td>Sim</td>\n",
              "      <td>Não</td>\n",
              "      <td>Não</td>\n",
              "      <td>Não</td>\n",
              "      <td>Não</td>\n",
              "      <td>Mês a mês</td>\n",
              "      <td>Sim</td>\n",
              "      <td>Envio de Cheque</td>\n",
              "      <td>1.68</td>\n",
              "      <td>50.30</td>\n",
              "      <td>92.75</td>\n",
              "    </tr>\n",
              "    <tr>\n",
              "      <th>7265</th>\n",
              "      <td>Não</td>\n",
              "      <td>M</td>\n",
              "      <td>False</td>\n",
              "      <td>Sim</td>\n",
              "      <td>Sim</td>\n",
              "      <td>67</td>\n",
              "      <td>Sim</td>\n",
              "      <td>Não</td>\n",
              "      <td>DSL</td>\n",
              "      <td>Sim</td>\n",
              "      <td>Não</td>\n",
              "      <td>Sim</td>\n",
              "      <td>Sim</td>\n",
              "      <td>Não</td>\n",
              "      <td>Sim</td>\n",
              "      <td>Dois Anos</td>\n",
              "      <td>Não</td>\n",
              "      <td>Envio de Cheque</td>\n",
              "      <td>2.26</td>\n",
              "      <td>67.85</td>\n",
              "      <td>4627.65</td>\n",
              "    </tr>\n",
              "    <tr>\n",
              "      <th>7266</th>\n",
              "      <td>Não</td>\n",
              "      <td>M</td>\n",
              "      <td>False</td>\n",
              "      <td>Sim</td>\n",
              "      <td>Sim</td>\n",
              "      <td>63</td>\n",
              "      <td>Não</td>\n",
              "      <td>Sem serviço de Telefone</td>\n",
              "      <td>DSL</td>\n",
              "      <td>Sim</td>\n",
              "      <td>Sim</td>\n",
              "      <td>Sim</td>\n",
              "      <td>Não</td>\n",
              "      <td>Sim</td>\n",
              "      <td>Sim</td>\n",
              "      <td>Dois Anos</td>\n",
              "      <td>Não</td>\n",
              "      <td>Cheque eletrônico</td>\n",
              "      <td>1.97</td>\n",
              "      <td>59.00</td>\n",
              "      <td>3707.60</td>\n",
              "    </tr>\n",
              "  </tbody>\n",
              "</table>\n",
              "<p>7267 rows × 21 columns</p>\n",
              "</div>\n",
              "      <button class=\"colab-df-convert\" onclick=\"convertToInteractive('df-4be1bbe5-d96a-4aca-bc66-8e2f3cd3b56a')\"\n",
              "              title=\"Convert this dataframe to an interactive table.\"\n",
              "              style=\"display:none;\">\n",
              "        \n",
              "  <svg xmlns=\"http://www.w3.org/2000/svg\" height=\"24px\"viewBox=\"0 0 24 24\"\n",
              "       width=\"24px\">\n",
              "    <path d=\"M0 0h24v24H0V0z\" fill=\"none\"/>\n",
              "    <path d=\"M18.56 5.44l.94 2.06.94-2.06 2.06-.94-2.06-.94-.94-2.06-.94 2.06-2.06.94zm-11 1L8.5 8.5l.94-2.06 2.06-.94-2.06-.94L8.5 2.5l-.94 2.06-2.06.94zm10 10l.94 2.06.94-2.06 2.06-.94-2.06-.94-.94-2.06-.94 2.06-2.06.94z\"/><path d=\"M17.41 7.96l-1.37-1.37c-.4-.4-.92-.59-1.43-.59-.52 0-1.04.2-1.43.59L10.3 9.45l-7.72 7.72c-.78.78-.78 2.05 0 2.83L4 21.41c.39.39.9.59 1.41.59.51 0 1.02-.2 1.41-.59l7.78-7.78 2.81-2.81c.8-.78.8-2.07 0-2.86zM5.41 20L4 18.59l7.72-7.72 1.47 1.35L5.41 20z\"/>\n",
              "  </svg>\n",
              "      </button>\n",
              "      \n",
              "  <style>\n",
              "    .colab-df-container {\n",
              "      display:flex;\n",
              "      flex-wrap:wrap;\n",
              "      gap: 12px;\n",
              "    }\n",
              "\n",
              "    .colab-df-convert {\n",
              "      background-color: #E8F0FE;\n",
              "      border: none;\n",
              "      border-radius: 50%;\n",
              "      cursor: pointer;\n",
              "      display: none;\n",
              "      fill: #1967D2;\n",
              "      height: 32px;\n",
              "      padding: 0 0 0 0;\n",
              "      width: 32px;\n",
              "    }\n",
              "\n",
              "    .colab-df-convert:hover {\n",
              "      background-color: #E2EBFA;\n",
              "      box-shadow: 0px 1px 2px rgba(60, 64, 67, 0.3), 0px 1px 3px 1px rgba(60, 64, 67, 0.15);\n",
              "      fill: #174EA6;\n",
              "    }\n",
              "\n",
              "    [theme=dark] .colab-df-convert {\n",
              "      background-color: #3B4455;\n",
              "      fill: #D2E3FC;\n",
              "    }\n",
              "\n",
              "    [theme=dark] .colab-df-convert:hover {\n",
              "      background-color: #434B5C;\n",
              "      box-shadow: 0px 1px 3px 1px rgba(0, 0, 0, 0.15);\n",
              "      filter: drop-shadow(0px 1px 2px rgba(0, 0, 0, 0.3));\n",
              "      fill: #FFFFFF;\n",
              "    }\n",
              "  </style>\n",
              "\n",
              "      <script>\n",
              "        const buttonEl =\n",
              "          document.querySelector('#df-4be1bbe5-d96a-4aca-bc66-8e2f3cd3b56a button.colab-df-convert');\n",
              "        buttonEl.style.display =\n",
              "          google.colab.kernel.accessAllowed ? 'block' : 'none';\n",
              "\n",
              "        async function convertToInteractive(key) {\n",
              "          const element = document.querySelector('#df-4be1bbe5-d96a-4aca-bc66-8e2f3cd3b56a');\n",
              "          const dataTable =\n",
              "            await google.colab.kernel.invokeFunction('convertToInteractive',\n",
              "                                                     [key], {});\n",
              "          if (!dataTable) return;\n",
              "\n",
              "          const docLinkHtml = 'Like what you see? Visit the ' +\n",
              "            '<a target=\"_blank\" href=https://colab.research.google.com/notebooks/data_table.ipynb>data table notebook</a>'\n",
              "            + ' to learn more about interactive tables.';\n",
              "          element.innerHTML = '';\n",
              "          dataTable['output_type'] = 'display_data';\n",
              "          await google.colab.output.renderOutput(dataTable, element);\n",
              "          const docLink = document.createElement('div');\n",
              "          docLink.innerHTML = docLinkHtml;\n",
              "          element.appendChild(docLink);\n",
              "        }\n",
              "      </script>\n",
              "    </div>\n",
              "  </div>\n",
              "  "
            ]
          },
          "metadata": {},
          "execution_count": 84
        }
      ]
    },
    {
      "cell_type": "code",
      "source": [
        "gasto_total"
      ],
      "metadata": {
        "id": "ka8qmwMD8XNv"
      },
      "execution_count": null,
      "outputs": []
    }
  ]
}